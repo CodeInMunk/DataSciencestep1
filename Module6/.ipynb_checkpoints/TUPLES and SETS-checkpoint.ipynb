{
 "cells": [
  {
   "cell_type": "code",
   "execution_count": 2,
   "id": "250f35da",
   "metadata": {},
   "outputs": [
    {
     "data": {
      "text/plain": [
       "tuple"
      ]
     },
     "execution_count": 2,
     "metadata": {},
     "output_type": "execute_result"
    }
   ],
   "source": [
    "T=()\n",
    "type(T)"
   ]
  },
  {
   "cell_type": "code",
   "execution_count": 3,
   "id": "46352e3e",
   "metadata": {},
   "outputs": [],
   "source": [
    "#tuples are immutable unlike list\n",
    "#tuples are ordered collection of elements, hetrogenous"
   ]
  },
  {
   "cell_type": "code",
   "execution_count": 43,
   "id": "f8fe5cdd",
   "metadata": {},
   "outputs": [
    {
     "data": {
      "text/plain": [
       "tuple"
      ]
     },
     "execution_count": 43,
     "metadata": {},
     "output_type": "execute_result"
    }
   ],
   "source": [
    "tuple1=(\"pwskills\",7+3j,True,33,55,3.5,33)\n",
    "type(tuple1)"
   ]
  },
  {
   "cell_type": "code",
   "execution_count": 29,
   "id": "c60e1bc7",
   "metadata": {},
   "outputs": [
    {
     "data": {
      "text/plain": [
       "'pwskills'"
      ]
     },
     "execution_count": 29,
     "metadata": {},
     "output_type": "execute_result"
    }
   ],
   "source": [
    "#indexing is available here also\n",
    "tuple1[0]"
   ]
  },
  {
   "cell_type": "code",
   "execution_count": 30,
   "id": "4b843567",
   "metadata": {},
   "outputs": [
    {
     "data": {
      "text/plain": [
       "2"
      ]
     },
     "execution_count": 30,
     "metadata": {},
     "output_type": "execute_result"
    }
   ],
   "source": [
    "#to count ki tuple ke andr ka element kinni baar repeat hua hai :\n",
    "tuple1.count(33)"
   ]
  },
  {
   "cell_type": "code",
   "execution_count": 31,
   "id": "2164cc1e",
   "metadata": {},
   "outputs": [
    {
     "data": {
      "text/plain": [
       "2"
      ]
     },
     "execution_count": 31,
     "metadata": {},
     "output_type": "execute_result"
    }
   ],
   "source": [
    "#to get the index of an element \n",
    "tuple1.index(True) # true 2 index pr hai to output 2 aayga"
   ]
  },
  {
   "cell_type": "code",
   "execution_count": 32,
   "id": "b2ab422a",
   "metadata": {},
   "outputs": [
    {
     "data": {
      "text/plain": [
       "3"
      ]
     },
     "execution_count": 32,
     "metadata": {},
     "output_type": "execute_result"
    }
   ],
   "source": [
    "tuple1.index(33) # phla 33 jo hai uski location dega"
   ]
  },
  {
   "cell_type": "code",
   "execution_count": 33,
   "id": "7ecfb866",
   "metadata": {},
   "outputs": [
    {
     "data": {
      "text/plain": [
       "('pwskills',\n",
       " (7+3j),\n",
       " True,\n",
       " 33,\n",
       " 55,\n",
       " 3.5,\n",
       " 33,\n",
       " 'pwskills',\n",
       " (7+3j),\n",
       " True,\n",
       " 33,\n",
       " 55,\n",
       " 3.5,\n",
       " 33)"
      ]
     },
     "execution_count": 33,
     "metadata": {},
     "output_type": "execute_result"
    }
   ],
   "source": [
    "#repeat in tuple\n",
    "tuple1*2"
   ]
  },
  {
   "cell_type": "code",
   "execution_count": 34,
   "id": "b6cd03c8",
   "metadata": {},
   "outputs": [
    {
     "data": {
      "text/plain": [
       "('pwskills', (7+3j), True, 33)"
      ]
     },
     "execution_count": 34,
     "metadata": {},
     "output_type": "execute_result"
    }
   ],
   "source": [
    "tuple1[:4]"
   ]
  },
  {
   "cell_type": "code",
   "execution_count": 35,
   "id": "f5a65496",
   "metadata": {},
   "outputs": [
    {
     "data": {
      "text/plain": [
       "(33, 3.5, 55, 33, True, (7+3j), 'pwskills')"
      ]
     },
     "execution_count": 35,
     "metadata": {},
     "output_type": "execute_result"
    }
   ],
   "source": [
    "tuple1[::-1] # reverse mai elements btayga sare peeche se aage tk"
   ]
  },
  {
   "cell_type": "code",
   "execution_count": 36,
   "id": "49f47407",
   "metadata": {},
   "outputs": [
    {
     "data": {
      "text/plain": [
       "33"
      ]
     },
     "execution_count": 36,
     "metadata": {},
     "output_type": "execute_result"
    }
   ],
   "source": [
    "tuple1[-1]"
   ]
  },
  {
   "cell_type": "code",
   "execution_count": 37,
   "id": "40403d3d",
   "metadata": {},
   "outputs": [
    {
     "name": "stdout",
     "output_type": "stream",
     "text": [
      "0 pwskills\n",
      "1 (7+3j)\n",
      "2 True\n",
      "3 33\n",
      "4 55\n",
      "5 3.5\n",
      "6 33\n"
     ]
    }
   ],
   "source": [
    "for i in range(len(tuple1)):\n",
    "    print(i,tuple1[i])"
   ]
  },
  {
   "cell_type": "code",
   "execution_count": 44,
   "id": "774a7527",
   "metadata": {},
   "outputs": [
    {
     "name": "stdout",
     "output_type": "stream",
     "text": [
      "pwskills 0\n",
      "(7+3j) 1\n",
      "True 2\n",
      "33 3\n",
      "55 4\n",
      "3.5 5\n",
      "33 6\n"
     ]
    }
   ],
   "source": [
    "\n",
    "\n",
    "for (element, index) in zip(tuple1, range(len(tuple1))):\n",
    "    print(element, index)\n"
   ]
  },
  {
   "cell_type": "code",
   "execution_count": 46,
   "id": "8b096320",
   "metadata": {},
   "outputs": [
    {
     "name": "stdout",
     "output_type": "stream",
     "text": [
      "pwskills <class 'str'>\n",
      "(7+3j) <class 'complex'>\n",
      "True <class 'bool'>\n",
      "33 <class 'int'>\n",
      "55 <class 'int'>\n",
      "3.5 <class 'float'>\n",
      "33 <class 'int'>\n"
     ]
    }
   ],
   "source": [
    "# tuple ke andr ke element kis type ke hain janna hai\n",
    "for i in tuple1:\n",
    "    print(i,type(i))"
   ]
  },
  {
   "cell_type": "code",
   "execution_count": 47,
   "id": "aca13b01",
   "metadata": {},
   "outputs": [],
   "source": [
    "t1=(1,100,20,53,35)"
   ]
  },
  {
   "cell_type": "code",
   "execution_count": 48,
   "id": "cf8eb10c",
   "metadata": {},
   "outputs": [
    {
     "data": {
      "text/plain": [
       "100"
      ]
     },
     "execution_count": 48,
     "metadata": {},
     "output_type": "execute_result"
    }
   ],
   "source": [
    "# to get maximum value of a tuple (here t1)\n",
    "max(t1)"
   ]
  },
  {
   "cell_type": "code",
   "execution_count": 50,
   "id": "3c57e218",
   "metadata": {},
   "outputs": [
    {
     "data": {
      "text/plain": [
       "1"
      ]
     },
     "execution_count": 50,
     "metadata": {},
     "output_type": "execute_result"
    }
   ],
   "source": [
    "#to get min. value\n",
    "min(t1)"
   ]
  },
  {
   "cell_type": "code",
   "execution_count": 51,
   "id": "75d6a2d4",
   "metadata": {},
   "outputs": [],
   "source": [
    "t2=(55.50,30,59)"
   ]
  },
  {
   "cell_type": "code",
   "execution_count": 53,
   "id": "98a4d353",
   "metadata": {},
   "outputs": [],
   "source": [
    "#making tuples from combination\n",
    "t3=(t1,t2)"
   ]
  },
  {
   "cell_type": "code",
   "execution_count": 54,
   "id": "faf5defa",
   "metadata": {},
   "outputs": [
    {
     "data": {
      "text/plain": [
       "((1, 100, 20, 53, 35), (55.5, 30, 59))"
      ]
     },
     "execution_count": 54,
     "metadata": {},
     "output_type": "execute_result"
    }
   ],
   "source": [
    " t3"
   ]
  },
  {
   "cell_type": "code",
   "execution_count": 55,
   "id": "5accd83e",
   "metadata": {},
   "outputs": [
    {
     "data": {
      "text/plain": [
       "('pwskills', (7+3j), True, 33, 55, 3.5, 33)"
      ]
     },
     "execution_count": 55,
     "metadata": {},
     "output_type": "execute_result"
    }
   ],
   "source": [
    "tuple1"
   ]
  },
  {
   "cell_type": "code",
   "execution_count": 56,
   "id": "a68064cd",
   "metadata": {},
   "outputs": [
    {
     "data": {
      "text/plain": [
       "True"
      ]
     },
     "execution_count": 56,
     "metadata": {},
     "output_type": "execute_result"
    }
   ],
   "source": [
    "#presence of elements\n",
    "\"pwskills\" in tuple1"
   ]
  },
  {
   "cell_type": "code",
   "execution_count": 58,
   "id": "43c2faa6",
   "metadata": {},
   "outputs": [
    {
     "data": {
      "text/plain": [
       "False"
      ]
     },
     "execution_count": 58,
     "metadata": {},
     "output_type": "execute_result"
    }
   ],
   "source": [
    "\"pwskills\" not in tuple1"
   ]
  },
  {
   "cell_type": "markdown",
   "id": "b5f5090d",
   "metadata": {},
   "source": [
    "# SETS\n"
   ]
  },
  {
   "cell_type": "code",
   "execution_count": 59,
   "id": "5d129384",
   "metadata": {},
   "outputs": [],
   "source": [
    "#sets are collection of unique and unordered elementes\n",
    "#dont allow duplicate elements ek baar heen rhega ek element\n"
   ]
  },
  {
   "cell_type": "code",
   "execution_count": 60,
   "id": "3f2c60f0",
   "metadata": {},
   "outputs": [],
   "source": [
    "s={}"
   ]
  },
  {
   "cell_type": "code",
   "execution_count": 61,
   "id": "14bf8e21",
   "metadata": {},
   "outputs": [
    {
     "data": {
      "text/plain": [
       "{}"
      ]
     },
     "execution_count": 61,
     "metadata": {},
     "output_type": "execute_result"
    }
   ],
   "source": [
    "s"
   ]
  },
  {
   "cell_type": "code",
   "execution_count": 63,
   "id": "18fa1b90",
   "metadata": {},
   "outputs": [
    {
     "data": {
      "text/plain": [
       "dict"
      ]
     },
     "execution_count": 63,
     "metadata": {},
     "output_type": "execute_result"
    }
   ],
   "source": [
    "type(s)"
   ]
  },
  {
   "cell_type": "code",
   "execution_count": 64,
   "id": "b1893328",
   "metadata": {},
   "outputs": [],
   "source": [
    "s={3,4,5}"
   ]
  },
  {
   "cell_type": "code",
   "execution_count": 66,
   "id": "ce07d99a",
   "metadata": {},
   "outputs": [
    {
     "data": {
      "text/plain": [
       "set"
      ]
     },
     "execution_count": 66,
     "metadata": {},
     "output_type": "execute_result"
    }
   ],
   "source": [
    "type(s)"
   ]
  },
  {
   "cell_type": "code",
   "execution_count": 71,
   "id": "44333269",
   "metadata": {},
   "outputs": [
    {
     "data": {
      "text/plain": [
       "{1, 3, 4, 5, 6, 'Ajay', 'ajay', 'anwar', 'arun'}"
      ]
     },
     "execution_count": 71,
     "metadata": {},
     "output_type": "execute_result"
    }
   ],
   "source": [
    "s={1,1,3,4,5,6,6,\"ajay\",\"arun\",\"anwar\",\"anwar\",\"Ajay\"}\n",
    "s  # jitni vi values double thi ab ek heen print hongi ajay dobaar aayga kyunki case sensetive hota hai or ek ajay ka a small ek ka capital hai"
   ]
  },
  {
   "cell_type": "code",
   "execution_count": 75,
   "id": "24ca3e36",
   "metadata": {},
   "outputs": [],
   "source": [
    "#list se set bnanan\n",
    "list=[2,3,4,5]\n",
    "s=set(list)"
   ]
  },
  {
   "cell_type": "code",
   "execution_count": 74,
   "id": "9368bd91",
   "metadata": {},
   "outputs": [
    {
     "data": {
      "text/plain": [
       "{2, 3, 4, 5}"
      ]
     },
     "execution_count": 74,
     "metadata": {},
     "output_type": "execute_result"
    }
   ],
   "source": [
    "s"
   ]
  },
  {
   "cell_type": "code",
   "execution_count": null,
   "id": "a279561e",
   "metadata": {},
   "outputs": [],
   "source": []
  }
 ],
 "metadata": {
  "kernelspec": {
   "display_name": "Python 3 (ipykernel)",
   "language": "python",
   "name": "python3"
  },
  "language_info": {
   "codemirror_mode": {
    "name": "ipython",
    "version": 3
   },
   "file_extension": ".py",
   "mimetype": "text/x-python",
   "name": "python",
   "nbconvert_exporter": "python",
   "pygments_lexer": "ipython3",
   "version": "3.11.5"
  }
 },
 "nbformat": 4,
 "nbformat_minor": 5
}
