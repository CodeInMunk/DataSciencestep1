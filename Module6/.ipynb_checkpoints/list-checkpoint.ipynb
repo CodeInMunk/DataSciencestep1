{
 "cells": [
  {
   "cell_type": "code",
   "execution_count": 29,
   "id": "6b126794",
   "metadata": {},
   "outputs": [],
   "source": [
    "#list are ordered collection of items\n",
    "#it can store any  data type\n"
   ]
  },
  {
   "cell_type": "code",
   "execution_count": 30,
   "id": "7e209ba6",
   "metadata": {},
   "outputs": [
    {
     "data": {
      "text/plain": [
       "list"
      ]
     },
     "execution_count": 30,
     "metadata": {},
     "output_type": "execute_result"
    }
   ],
   "source": [
    "type([])"
   ]
  },
  {
   "cell_type": "code",
   "execution_count": 31,
   "id": "e406fdfe",
   "metadata": {},
   "outputs": [],
   "source": [
    "grocery_list=[\"milk\",\"orange\",1,2,3,True,2+4j,2.3]"
   ]
  },
  {
   "cell_type": "code",
   "execution_count": 32,
   "id": "07472e59",
   "metadata": {},
   "outputs": [
    {
     "data": {
      "text/plain": [
       "list"
      ]
     },
     "execution_count": 32,
     "metadata": {},
     "output_type": "execute_result"
    }
   ],
   "source": [
    "type(grocery_list)"
   ]
  },
  {
   "cell_type": "code",
   "execution_count": 33,
   "id": "0edf3e1a",
   "metadata": {},
   "outputs": [
    {
     "data": {
      "text/plain": [
       "['milk', 'orange', 1, 2, 3, True, (2+4j), 2.3]"
      ]
     },
     "execution_count": 33,
     "metadata": {},
     "output_type": "execute_result"
    }
   ],
   "source": [
    "grocery_list"
   ]
  },
  {
   "cell_type": "code",
   "execution_count": 34,
   "id": "8ac79259",
   "metadata": {},
   "outputs": [],
   "source": [
    "#list are mutable: changes kiye ja skte hain"
   ]
  },
  {
   "cell_type": "code",
   "execution_count": 35,
   "id": "8cc3fabb",
   "metadata": {},
   "outputs": [
    {
     "data": {
      "text/plain": [
       "'orange'"
      ]
     },
     "execution_count": 35,
     "metadata": {},
     "output_type": "execute_result"
    }
   ],
   "source": [
    "#elements in list are easily acessible due to index\n",
    "grocery_list[1]\n"
   ]
  },
  {
   "cell_type": "code",
   "execution_count": 36,
   "id": "eeeefdd2",
   "metadata": {},
   "outputs": [
    {
     "data": {
      "text/plain": [
       "2.3"
      ]
     },
     "execution_count": 36,
     "metadata": {},
     "output_type": "execute_result"
    }
   ],
   "source": [
    "grocery_list[-1]"
   ]
  },
  {
   "cell_type": "code",
   "execution_count": 37,
   "id": "57345f73",
   "metadata": {},
   "outputs": [
    {
     "data": {
      "text/plain": [
       "['orange', 1, 2, 3, True, (2+4j), 2.3]"
      ]
     },
     "execution_count": 37,
     "metadata": {},
     "output_type": "execute_result"
    }
   ],
   "source": [
    "#kha se shuru krni hai list to usme andr wo likh do\n",
    "grocery_list[1:]  #[start:end+1:step size]"
   ]
  },
  {
   "cell_type": "code",
   "execution_count": 38,
   "id": "d3c81151",
   "metadata": {},
   "outputs": [
    {
     "data": {
      "text/plain": [
       "['orange', 1, 2]"
      ]
     },
     "execution_count": 38,
     "metadata": {},
     "output_type": "execute_result"
    }
   ],
   "source": [
    "grocery_list[1:4]"
   ]
  },
  {
   "cell_type": "code",
   "execution_count": 39,
   "id": "36cfbcf4",
   "metadata": {},
   "outputs": [
    {
     "data": {
      "text/plain": [
       "['Action1', 'Action2', 'Action3']"
      ]
     },
     "execution_count": 39,
     "metadata": {},
     "output_type": "execute_result"
    }
   ],
   "source": [
    "movies=[\"Action1\",\"Action2\",\"Action3\",\"comedy1\"]\n",
    "movies[0:3]"
   ]
  },
  {
   "cell_type": "code",
   "execution_count": 40,
   "id": "714eb79d",
   "metadata": {},
   "outputs": [
    {
     "data": {
      "text/plain": [
       "'index'"
      ]
     },
     "execution_count": 40,
     "metadata": {},
     "output_type": "execute_result"
    }
   ],
   "source": [
    "pages=[\"Title page\",\"chapter1\",\"chapter2\",\"conclusion\",\"index\"]\n",
    "pages[-1]"
   ]
  },
  {
   "cell_type": "code",
   "execution_count": 41,
   "id": "1d06e3d4",
   "metadata": {},
   "outputs": [
    {
     "data": {
      "text/plain": [
       "'conclusion'"
      ]
     },
     "execution_count": 41,
     "metadata": {},
     "output_type": "execute_result"
    }
   ],
   "source": [
    "pages[-2]"
   ]
  },
  {
   "cell_type": "code",
   "execution_count": 42,
   "id": "c38a2629",
   "metadata": {},
   "outputs": [
    {
     "data": {
      "text/plain": [
       "['apple', 'banana']"
      ]
     },
     "execution_count": 42,
     "metadata": {},
     "output_type": "execute_result"
    }
   ],
   "source": [
    "#to add an item in a list we use append\n",
    "list1=[\"apple\",\"banana\"]\n",
    "list1"
   ]
  },
  {
   "cell_type": "code",
   "execution_count": 43,
   "id": "e40b014d",
   "metadata": {},
   "outputs": [],
   "source": [
    "list1.append(\"orange\") # yha pr item add kr diya "
   ]
  },
  {
   "cell_type": "code",
   "execution_count": 44,
   "id": "fbd96d10",
   "metadata": {},
   "outputs": [
    {
     "data": {
      "text/plain": [
       "['apple', 'banana', 'orange']"
      ]
     },
     "execution_count": 44,
     "metadata": {},
     "output_type": "execute_result"
    }
   ],
   "source": [
    "list1"
   ]
  },
  {
   "cell_type": "code",
   "execution_count": 45,
   "id": "2cece20f",
   "metadata": {},
   "outputs": [],
   "source": [
    "playlist=[]\n",
    "playlist.append(\"tum heen\")\n",
    "playlist.append(\"tare zamen pr\")"
   ]
  },
  {
   "cell_type": "code",
   "execution_count": 46,
   "id": "7bb5e4c3",
   "metadata": {},
   "outputs": [
    {
     "data": {
      "text/plain": [
       "['tum heen', 'tare zamen pr']"
      ]
     },
     "execution_count": 46,
     "metadata": {},
     "output_type": "execute_result"
    }
   ],
   "source": [
    "playlist"
   ]
  },
  {
   "cell_type": "code",
   "execution_count": 47,
   "id": "58cfbd88",
   "metadata": {},
   "outputs": [],
   "source": [
    "#kisi item ko remove krke uske jgh kuch or lane ka hai to\n",
    "list1=['apple', 'banana', 'orange']\n",
    "list1[1]=\"brinjal\" # banana emove krke brinjal add kr diya"
   ]
  },
  {
   "cell_type": "code",
   "execution_count": 48,
   "id": "b8f32af4",
   "metadata": {},
   "outputs": [
    {
     "data": {
      "text/plain": [
       "['apple', 'brinjal', 'orange']"
      ]
     },
     "execution_count": 48,
     "metadata": {},
     "output_type": "execute_result"
    }
   ],
   "source": [
    "list1"
   ]
  },
  {
   "cell_type": "code",
   "execution_count": 49,
   "id": "f5863b74",
   "metadata": {},
   "outputs": [],
   "source": [
    "#meko bina kuch htay item dalna hai list mai and ek parrticular index pr thn use insert\n",
    "list1.insert(1,\"banana\")"
   ]
  },
  {
   "cell_type": "code",
   "execution_count": 50,
   "id": "90bf331e",
   "metadata": {},
   "outputs": [
    {
     "data": {
      "text/plain": [
       "['apple', 'banana', 'brinjal', 'orange']"
      ]
     },
     "execution_count": 50,
     "metadata": {},
     "output_type": "execute_result"
    }
   ],
   "source": [
    "list1"
   ]
  },
  {
   "cell_type": "code",
   "execution_count": 51,
   "id": "2fe38d98",
   "metadata": {},
   "outputs": [],
   "source": [
    "#EXTEND : used to append elements from another iterable\n",
    "#mano mera bhai busy hai and uske vi samman ab meko lane to meri list mai add ho jaenge uske samman ab\n",
    "my_list=[\"apple\",\"banana\",\"orange\"]\n",
    "brother_list=[\"potato\",\"brinjal\",\"onion\"]\n",
    "my_list.extend(brother_list)"
   ]
  },
  {
   "cell_type": "code",
   "execution_count": 52,
   "id": "edc7a962",
   "metadata": {},
   "outputs": [
    {
     "data": {
      "text/plain": [
       "['apple', 'banana', 'orange', 'potato', 'brinjal', 'onion']"
      ]
     },
     "execution_count": 52,
     "metadata": {},
     "output_type": "execute_result"
    }
   ],
   "source": [
    "my_list"
   ]
  },
  {
   "cell_type": "code",
   "execution_count": 53,
   "id": "1f63fafe",
   "metadata": {},
   "outputs": [
    {
     "data": {
      "text/plain": [
       "['apple', 'banana', 'orange', 'potato', 'brinjal', 'onion']"
      ]
     },
     "execution_count": 53,
     "metadata": {},
     "output_type": "execute_result"
    }
   ],
   "source": [
    "#concatenate(addition se) se vi extend wale kaam kr skte hain\n",
    "my_list=[\"apple\",\"banana\",\"orange\"]\n",
    "brother_list=[\"potato\",\"brinjal\",\"onion\"]\n",
    "my_list+brother_list"
   ]
  },
  {
   "cell_type": "code",
   "execution_count": 54,
   "id": "f651ed57",
   "metadata": {},
   "outputs": [
    {
     "data": {
      "text/plain": [
       "'**********'"
      ]
     },
     "execution_count": 54,
     "metadata": {},
     "output_type": "execute_result"
    }
   ],
   "source": [
    "#repeatation operation\n",
    "\"*\"*10"
   ]
  },
  {
   "cell_type": "code",
   "execution_count": 55,
   "id": "660e9b43",
   "metadata": {},
   "outputs": [
    {
     "data": {
      "text/plain": [
       "'----------'"
      ]
     },
     "execution_count": 55,
     "metadata": {},
     "output_type": "execute_result"
    }
   ],
   "source": [
    "\"-\"*10"
   ]
  },
  {
   "cell_type": "code",
   "execution_count": 56,
   "id": "bc0216e4",
   "metadata": {},
   "outputs": [
    {
     "data": {
      "text/plain": [
       "[0, 0, 0, 0, 0]"
      ]
     },
     "execution_count": 56,
     "metadata": {},
     "output_type": "execute_result"
    }
   ],
   "source": [
    "#ab jaise upr mai repetation hui waise heen list vi repeat kr skte hain\n",
    "[0]*5"
   ]
  },
  {
   "cell_type": "code",
   "execution_count": 57,
   "id": "b2359374",
   "metadata": {},
   "outputs": [
    {
     "data": {
      "text/plain": [
       "['0',\n",
       " 3,\n",
       " 5,\n",
       " 35,\n",
       " 33,\n",
       " 53,\n",
       " 55,\n",
       " '0',\n",
       " 3,\n",
       " 5,\n",
       " 35,\n",
       " 33,\n",
       " 53,\n",
       " 55,\n",
       " '0',\n",
       " 3,\n",
       " 5,\n",
       " 35,\n",
       " 33,\n",
       " 53,\n",
       " 55,\n",
       " '0',\n",
       " 3,\n",
       " 5,\n",
       " 35,\n",
       " 33,\n",
       " 53,\n",
       " 55,\n",
       " '0',\n",
       " 3,\n",
       " 5,\n",
       " 35,\n",
       " 33,\n",
       " 53,\n",
       " 55]"
      ]
     },
     "execution_count": 57,
     "metadata": {},
     "output_type": "execute_result"
    }
   ],
   "source": [
    "[\"0\",3,5,35,33,53,55]*5"
   ]
  },
  {
   "cell_type": "code",
   "execution_count": 58,
   "id": "2674aad7",
   "metadata": {},
   "outputs": [
    {
     "data": {
      "text/plain": [
       "[1, 2, 3, 4, 5, 1, 2, 3, 4, 5, 1, 2, 3, 4, 5, 1, 2, 3, 4, 5, 1, 2, 3, 4, 5]"
      ]
     },
     "execution_count": 58,
     "metadata": {},
     "output_type": "execute_result"
    }
   ],
   "source": [
    "list(range(1,6))*5"
   ]
  },
  {
   "cell_type": "code",
   "execution_count": 59,
   "id": "415533e1",
   "metadata": {},
   "outputs": [
    {
     "name": "stdout",
     "output_type": "stream",
     "text": [
      "your appointment is tomorrow\n",
      "your appointment is tomorrow\n",
      "your appointment is tomorrow\n",
      "your appointment is tomorrow\n",
      "your appointment is tomorrow\n",
      "\n"
     ]
    }
   ],
   "source": [
    "msg=\"your appointment is tomorrow\\n\"\n",
    "print(msg*5)"
   ]
  },
  {
   "cell_type": "code",
   "execution_count": 60,
   "id": "a2b2b40a",
   "metadata": {},
   "outputs": [
    {
     "data": {
      "text/plain": [
       "True"
      ]
     },
     "execution_count": 60,
     "metadata": {},
     "output_type": "execute_result"
    }
   ],
   "source": [
    "#Membership check: in and not in\n",
    "\n",
    "grocerry_list=['apple', 'banana', 'orange', 'potato', 'brinjal', 'onion']\n",
    "\"apple\" in grocerry_list  # true dega agr hua to or nai hua to false"
   ]
  },
  {
   "cell_type": "code",
   "execution_count": 61,
   "id": "6d8c7ecb",
   "metadata": {},
   "outputs": [
    {
     "data": {
      "text/plain": [
       "False"
      ]
     },
     "execution_count": 61,
     "metadata": {},
     "output_type": "execute_result"
    }
   ],
   "source": [
    "\"apple\" not in grocerry_list # false dega agr hua to , true dega agr nai hua to"
   ]
  },
  {
   "cell_type": "code",
   "execution_count": 62,
   "id": "eb0d4060",
   "metadata": {},
   "outputs": [
    {
     "data": {
      "text/plain": [
       "['apple', 'banana', 'orange', 'potato', 'brinjal', 'onion']"
      ]
     },
     "execution_count": 62,
     "metadata": {},
     "output_type": "execute_result"
    }
   ],
   "source": [
    "#copying a list agr original list mai change kiya to copy wale mai vi ho jayga jaise neeeche a mai\n",
    "#ab ye a mai jo change hua original list ke wjh se iska concept hota hai deep copying and shallow copying\n",
    "grocerry_list"
   ]
  },
  {
   "cell_type": "code",
   "execution_count": 63,
   "id": "60bbc806",
   "metadata": {},
   "outputs": [],
   "source": [
    "a=grocerry_list"
   ]
  },
  {
   "cell_type": "code",
   "execution_count": 64,
   "id": "e9718bd2",
   "metadata": {},
   "outputs": [],
   "source": [
    "grocerry_list.append(\"cucumber\")"
   ]
  },
  {
   "cell_type": "code",
   "execution_count": 65,
   "id": "fa23e641",
   "metadata": {},
   "outputs": [
    {
     "data": {
      "text/plain": [
       "['apple', 'banana', 'orange', 'potato', 'brinjal', 'onion', 'cucumber']"
      ]
     },
     "execution_count": 65,
     "metadata": {},
     "output_type": "execute_result"
    }
   ],
   "source": [
    "a # ye isme vi change islea hua kyunki python ne alg space dene ke bjay a ko and list ko dono ko same space di hai\n",
    "#dono ka location memory ka same hai bs islea aisa hua\n",
    "\n",
    "#eg do log cheating kr rhe hain peeche wala aage wale ka copy kr rha pura same same ab aage wale ne kuch change kiya apne answer mai thn peeche wala vi same dekhte hue apne mai vi change kr liya isko shallow copy khte hain\n",
    "#upr wale ko heen shalow copy bolte hain\n",
    "\n",
    "\n",
    "#agr mai a= list.copy() krta to fir python a ko new memory location de deta or fir baad mai list mai change krte to a mai nai hota\n",
    "#upr wale ko khte hain deep copy"
   ]
  },
  {
   "cell_type": "code",
   "execution_count": 66,
   "id": "e8f38285",
   "metadata": {},
   "outputs": [],
   "source": [
    "a=grocerry_list.copy()"
   ]
  },
  {
   "cell_type": "code",
   "execution_count": 67,
   "id": "c4c2a7f5",
   "metadata": {},
   "outputs": [
    {
     "data": {
      "text/plain": [
       "['apple', 'banana', 'orange', 'potato', 'brinjal', 'onion', 'cucumber']"
      ]
     },
     "execution_count": 67,
     "metadata": {},
     "output_type": "execute_result"
    }
   ],
   "source": [
    "a"
   ]
  },
  {
   "cell_type": "code",
   "execution_count": 68,
   "id": "061de3ae",
   "metadata": {},
   "outputs": [
    {
     "data": {
      "text/plain": [
       "['apple',\n",
       " 'banana',\n",
       " 'orange',\n",
       " 'potato',\n",
       " 'brinjal',\n",
       " 'onion',\n",
       " 'cucumber',\n",
       " 'flower']"
      ]
     },
     "execution_count": 68,
     "metadata": {},
     "output_type": "execute_result"
    }
   ],
   "source": [
    "grocerry_list.append(\"flower\")\n",
    "grocerry_list"
   ]
  },
  {
   "cell_type": "code",
   "execution_count": 69,
   "id": "b7f36fe1",
   "metadata": {},
   "outputs": [
    {
     "data": {
      "text/plain": [
       "['apple', 'banana', 'orange', 'potato', 'brinjal', 'onion', 'cucumber']"
      ]
     },
     "execution_count": 69,
     "metadata": {},
     "output_type": "execute_result"
    }
   ],
   "source": [
    "a  #  or copy ke wjh se ab a mai changes nai aay"
   ]
  },
  {
   "cell_type": "code",
   "execution_count": 70,
   "id": "f3c60d67",
   "metadata": {},
   "outputs": [
    {
     "data": {
      "text/plain": [
       "['apple',\n",
       " 'banana',\n",
       " 'brinjal',\n",
       " 'cucumber',\n",
       " 'flower',\n",
       " 'onion',\n",
       " 'orange',\n",
       " 'potato']"
      ]
     },
     "execution_count": 70,
     "metadata": {},
     "output_type": "execute_result"
    }
   ],
   "source": [
    "#alphabatical order mai mangta agr apne ko list ka content to use sorted()\n",
    "sorted(grocerry_list)"
   ]
  },
  {
   "cell_type": "code",
   "execution_count": 73,
   "id": "9c64b9e7",
   "metadata": {},
   "outputs": [
    {
     "data": {
      "text/plain": [
       "7"
      ]
     },
     "execution_count": 73,
     "metadata": {},
     "output_type": "execute_result"
    }
   ],
   "source": [
    "# to know the index of a element in a list we use index()\n",
    "#mano meko banana ka chahiye index\n",
    "grocerry_list.index(\"flower\")  # ye original list pr btati hai append wale pr ni"
   ]
  },
  {
   "cell_type": "code",
   "execution_count": 84,
   "id": "eee9b2ea",
   "metadata": {},
   "outputs": [
    {
     "data": {
      "text/plain": [
       "2"
      ]
     },
     "execution_count": 84,
     "metadata": {},
     "output_type": "execute_result"
    }
   ],
   "source": [
    "#to know ki kinni baar ek element repeat hua hai kisi list mai use count\n",
    "book_list=[\"data structure\",\"ml\",\"ai\",\"ml\"]\n",
    "book_list.count(\"ml\") # ml 2 baar occour hua hai"
   ]
  },
  {
   "cell_type": "code",
   "execution_count": 85,
   "id": "ec49850b",
   "metadata": {},
   "outputs": [],
   "source": [
    "#to remove a elemt use remove \n",
    "\n",
    "book_list.remove(\"ml\") # ml do baar hai  list mai to do baar likhna pada\n",
    "book_list.remove(\"ml\")"
   ]
  },
  {
   "cell_type": "code",
   "execution_count": 86,
   "id": "08cb9ad5",
   "metadata": {},
   "outputs": [
    {
     "data": {
      "text/plain": [
       "['data structure', 'ai']"
      ]
     },
     "execution_count": 86,
     "metadata": {},
     "output_type": "execute_result"
    }
   ],
   "source": [
    "book_list"
   ]
  },
  {
   "cell_type": "code",
   "execution_count": 87,
   "id": "53dc81db",
   "metadata": {},
   "outputs": [],
   "source": [
    "#to delete a list e can use del\n",
    "del book_list"
   ]
  },
  {
   "cell_type": "code",
   "execution_count": 89,
   "id": "aafbcacc",
   "metadata": {},
   "outputs": [
    {
     "ename": "NameError",
     "evalue": "name 'book_list' is not defined",
     "output_type": "error",
     "traceback": [
      "\u001b[1;31m---------------------------------------------------------------------------\u001b[0m",
      "\u001b[1;31mNameError\u001b[0m                                 Traceback (most recent call last)",
      "Cell \u001b[1;32mIn[89], line 1\u001b[0m\n\u001b[1;32m----> 1\u001b[0m book_list\n",
      "\u001b[1;31mNameError\u001b[0m: name 'book_list' is not defined"
     ]
    }
   ],
   "source": [
    " book_list  # phle tha book_list pr ab del se delete ho gya islea error show krega"
   ]
  },
  {
   "cell_type": "code",
   "execution_count": 90,
   "id": "1821cfd5",
   "metadata": {},
   "outputs": [],
   "source": [
    "#mano meko list nai delete krni thi pr uske andr ke samman delete krne the thn will use clear\n",
    "book_list=[\"data structure\",\"ml\",\"ai\"]\n",
    "book_list.clear()"
   ]
  },
  {
   "cell_type": "code",
   "execution_count": 91,
   "id": "41eae5e0",
   "metadata": {},
   "outputs": [
    {
     "data": {
      "text/plain": [
       "[]"
      ]
     },
     "execution_count": 91,
     "metadata": {},
     "output_type": "execute_result"
    }
   ],
   "source": [
    "book_list # khali list aaygi"
   ]
  },
  {
   "cell_type": "code",
   "execution_count": 92,
   "id": "3804fcd7",
   "metadata": {},
   "outputs": [
    {
     "data": {
      "text/plain": [
       "'ai'"
      ]
     },
     "execution_count": 92,
     "metadata": {},
     "output_type": "execute_result"
    }
   ],
   "source": [
    "#last ka item hatana ho agr list se to use pop()\n",
    "book_list=[\"data structure\",\"ml\",\"ai\"]\n",
    "book_list.pop()"
   ]
  },
  {
   "cell_type": "code",
   "execution_count": 94,
   "id": "04176ee7",
   "metadata": {},
   "outputs": [
    {
     "data": {
      "text/plain": [
       "['data structure', 'ml']"
      ]
     },
     "execution_count": 94,
     "metadata": {},
     "output_type": "execute_result"
    }
   ],
   "source": [
    "book_list # last ka element delete ho gya"
   ]
  },
  {
   "cell_type": "code",
   "execution_count": 96,
   "id": "ef223a8f",
   "metadata": {},
   "outputs": [
    {
     "data": {
      "text/plain": [
       "'ml'"
      ]
     },
     "execution_count": 96,
     "metadata": {},
     "output_type": "execute_result"
    }
   ],
   "source": [
    "#mano meko kisi ek particular index pr delete krna hai agr list ka element too\n",
    "book_list=[\"data structure\",\"ml\",\"ai\"]\n",
    "book_list.pop(1) # 1 index pr ml hai maine usko hata diya"
   ]
  },
  {
   "cell_type": "code",
   "execution_count": 100,
   "id": "3aa6f4f5",
   "metadata": {},
   "outputs": [],
   "source": [
    "##list comprehension\n",
    "\n",
    "#mano meko kisi list ke andr sare elements ka double value krna hai eg. neeche\n",
    "prices=[10,20,30,40] # meko 10 ko 20 bnana hai ,20 ko 40,30 ko 60,40 ko 80 ye krna hai\n",
    "#price*2 se nai hota hai usse har element repet hhoga 2 -2 baar\n"
   ]
  },
  {
   "cell_type": "code",
   "execution_count": 101,
   "id": "a2f029d7",
   "metadata": {},
   "outputs": [],
   "source": [
    "#traditional ya common method hai ab iska ek double krne ka\n",
    "prices=[10,20,30,40]\n",
    "doubled_price=[]\n",
    "for i in prices:\n",
    "    doubled_price.append(i*2) # sare element multiply hokr ab doubled_price mai store ho gay"
   ]
  },
  {
   "cell_type": "code",
   "execution_count": 102,
   "id": "476417ca",
   "metadata": {},
   "outputs": [
    {
     "data": {
      "text/plain": [
       "[20, 40, 60, 80]"
      ]
     },
     "execution_count": 102,
     "metadata": {},
     "output_type": "execute_result"
    }
   ],
   "source": [
    "doubled_price # price ka double ho gya"
   ]
  },
  {
   "cell_type": "code",
   "execution_count": 107,
   "id": "8f846da6",
   "metadata": {},
   "outputs": [],
   "source": [
    "#pr precise way hai iska ki(mtlb chota trika)\n",
    "doubled_price=[price * 2 for price in prices] # ek line mai mil gya or ye fast vi hai\n",
    "#bde codes ko chote mai likhne ko heen list comprehension khte hain"
   ]
  },
  {
   "cell_type": "code",
   "execution_count": 108,
   "id": "cc110c0d",
   "metadata": {},
   "outputs": [
    {
     "data": {
      "text/plain": [
       "[20, 40, 60, 80]"
      ]
     },
     "execution_count": 108,
     "metadata": {},
     "output_type": "execute_result"
    }
   ],
   "source": [
    "doubled_price"
   ]
  },
  {
   "cell_type": "code",
   "execution_count": 112,
   "id": "662e3515",
   "metadata": {},
   "outputs": [
    {
     "data": {
      "text/plain": [
       "['Ajay', 'Bijay', 'Raju']"
      ]
     },
     "execution_count": 112,
     "metadata": {},
     "output_type": "execute_result"
    }
   ],
   "source": [
    "#eg of comprehension\n",
    "#to capitalize the first letter of each element\n",
    "name=[\"Ajay\",\"bijay\",\"raju\"]\n",
    "[names.capitalize() for names in name]\n"
   ]
  },
  {
   "cell_type": "code",
   "execution_count": 113,
   "id": "68d53871",
   "metadata": {},
   "outputs": [],
   "source": [
    "#eg of comprehension\n",
    "#like mano meko square krna hai elements ka\n",
    "num=[1,2,3,4,5]\n",
    "squared_num=[numb*numb for numb in num]"
   ]
  },
  {
   "cell_type": "code",
   "execution_count": 114,
   "id": "9df16f2b",
   "metadata": {},
   "outputs": [
    {
     "data": {
      "text/plain": [
       "[1, 4, 9, 16, 25]"
      ]
     },
     "execution_count": 114,
     "metadata": {},
     "output_type": "execute_result"
    }
   ],
   "source": [
    "squared_num"
   ]
  },
  {
   "cell_type": "code",
   "execution_count": 115,
   "id": "5839aeb2",
   "metadata": {},
   "outputs": [
    {
     "data": {
      "text/plain": [
       "[1, 4, 9, 16, 25]"
      ]
     },
     "execution_count": 115,
     "metadata": {},
     "output_type": "execute_result"
    }
   ],
   "source": [
    "#ek or trika square ka hai\n",
    "#like mano meko square krna hai elements ka\n",
    "num=[1,2,3,4,5]\n",
    "[numb**2 for numb in num]"
   ]
  },
  {
   "cell_type": "code",
   "execution_count": 117,
   "id": "cc697d18",
   "metadata": {},
   "outputs": [
    {
     "data": {
      "text/plain": [
       "['doctype', 'pdf , hello', 'html']"
      ]
     },
     "execution_count": 117,
     "metadata": {},
     "output_type": "execute_result"
    }
   ],
   "source": [
    "#splitting\n",
    "#we have already learned abt splitting in string\n",
    "#eg. below\n",
    "str1=\"doctype.pdf\" \n",
    "str1.split(\".\") # . jha pr hai wha se alh alg kr dega"
   ]
  },
  {
   "cell_type": "code",
   "execution_count": 118,
   "id": "ebc7e7ca",
   "metadata": {},
   "outputs": [
    {
     "data": {
      "text/plain": [
       "'doctype'"
      ]
     },
     "execution_count": 118,
     "metadata": {},
     "output_type": "execute_result"
    }
   ],
   "source": [
    "#hm splitting ke baad konsa dekhna chahte hain ye vi decide kr skte hain\n",
    "str1.split(\".\")[0] #0 lgaya mtlb jo list bnti hai splitting ke baad string ki uska 0 index wala dikhega element"
   ]
  },
  {
   "cell_type": "code",
   "execution_count": 122,
   "id": "8187ca1e",
   "metadata": {},
   "outputs": [
    {
     "data": {
      "text/plain": [
       "['pdf', 'html', 'jpg', 'png']"
      ]
     },
     "execution_count": 122,
     "metadata": {},
     "output_type": "execute_result"
    }
   ],
   "source": [
    "#mano meko formats diff. fies ke janne hain\n",
    "files_name=[\"doc1.pdf\",\"hello.html\",\"ted.jpg\",\"hero.png\"]\n",
    "[file.split(\".\")[-1] for file in files_name] # file_name ke andr bht sare string hain(file) sbka division hoga or new lists bnengi usme last wala apne ko chahiye elemt unka type janne ke liye"
   ]
  },
  {
   "cell_type": "code",
   "execution_count": 124,
   "id": "b31eaf49",
   "metadata": {},
   "outputs": [
    {
     "data": {
      "text/plain": [
       "['hello@yahoo.com', 'ji@yahoo.com']"
      ]
     },
     "execution_count": 124,
     "metadata": {},
     "output_type": "execute_result"
    }
   ],
   "source": [
    "#conditional list comprehension\n",
    "#jaise eg meko bs wo email chahiye list mai se jo yahoo se end hoti hain\n",
    "email_adress=[\"hs@gmail.com\",\"hello@yahoo.com\",\"ji@yahoo.com\",\"hr@gmail.com\"]\n",
    "[email for email in email_adress if email.endswith(\"@yahoo.com\") ]"
   ]
  },
  {
   "cell_type": "code",
   "execution_count": 134,
   "id": "eacf1f51",
   "metadata": {},
   "outputs": [],
   "source": [
    "#nested list comprehension\n",
    "pairs=[]\n",
    "i=0\n",
    "for x in [1,2,3]:\n",
    "    for y in [4,5,6]:\n",
    "        pairs.append((x,y)) # same append ki jgh print(x,y) se kr skte the agr list nai bnani hoti to"
   ]
  },
  {
   "cell_type": "code",
   "execution_count": 135,
   "id": "327b25a0",
   "metadata": {},
   "outputs": [
    {
     "data": {
      "text/plain": [
       "[(1, 4), (1, 5), (1, 6), (2, 4), (2, 5), (2, 6), (3, 4), (3, 5), (3, 6)]"
      ]
     },
     "execution_count": 135,
     "metadata": {},
     "output_type": "execute_result"
    }
   ],
   "source": [
    "pairs"
   ]
  },
  {
   "cell_type": "code",
   "execution_count": 137,
   "id": "21e59b04",
   "metadata": {},
   "outputs": [
    {
     "data": {
      "text/plain": [
       "[[1, 4], [1, 5], [1, 6], [2, 4], [2, 5], [2, 6], [3, 4], [3, 5], [3, 6]]"
      ]
     },
     "execution_count": 137,
     "metadata": {},
     "output_type": "execute_result"
    }
   ],
   "source": [
    "[[x,y]for x in [1,2,3] for y in [4,5,6]]"
   ]
  },
  {
   "cell_type": "code",
   "execution_count": 136,
   "id": "a0d2f2a0",
   "metadata": {},
   "outputs": [
    {
     "name": "stdout",
     "output_type": "stream",
     "text": [
      "[(1, 4), (2, 5), (3, 6)]\n"
     ]
    }
   ],
   "source": [
    "#upr wali chij same index ke elements ko pair krne wali hm zip naam ke func se vi kr skte hain\n",
    "# Pair corresponding elements from two lists\n",
    "pairs = [(x, y) for x, y in zip([1, 2, 3], [4, 5, 6])]\n",
    "print(pairs)\n"
   ]
  },
  {
   "cell_type": "code",
   "execution_count": 129,
   "id": "904318ba",
   "metadata": {},
   "outputs": [
    {
     "name": "stdout",
     "output_type": "stream",
     "text": [
      "[(1, 4), (2, 5), (3, 6)]\n"
     ]
    }
   ],
   "source": [
    "# ye vi same output ka ek method hai\n",
    "# Using a for loop\n",
    "list1 = [1, 2, 3]\n",
    "list2 = [4, 5, 6]\n",
    "pairs = []\n",
    "for i in range(len(list1)):\n",
    "    pairs.append((list1[i], list2[i]))\n",
    "print(pairs)\n"
   ]
  },
  {
   "cell_type": "code",
   "execution_count": 138,
   "id": "d569036e",
   "metadata": {},
   "outputs": [],
   "source": [
    "#list as stack and queue\n",
    "#stack:last in first out prnciple: the last element added to th element will be the first one\n",
    "#jaise mano books ko ek ke upr ek rakha to jo sbse last mai rakhenge wo sbse upr aaygi or ab jb apne ko book nikalni hogi to sbse phle upr wali hataenge na whi hai bs"
   ]
  },
  {
   "cell_type": "code",
   "execution_count": 139,
   "id": "b67fb966",
   "metadata": {},
   "outputs": [
    {
     "data": {
      "text/plain": [
       "['plate1', 'plate2', 'plate3', 'plate4']"
      ]
     },
     "execution_count": 139,
     "metadata": {},
     "output_type": "execute_result"
    }
   ],
   "source": [
    "stack_of_plates=[]\n",
    "stack_of_plates.append(\"plate1\")\n",
    "stack_of_plates.append(\"plate2\")\n",
    "stack_of_plates.append(\"plate3\")\n",
    "stack_of_plates.append(\"plate4\")\n",
    "stack_of_plates"
   ]
  },
  {
   "cell_type": "code",
   "execution_count": 140,
   "id": "2ea144ff",
   "metadata": {},
   "outputs": [
    {
     "data": {
      "text/plain": [
       "'plate4'"
      ]
     },
     "execution_count": 140,
     "metadata": {},
     "output_type": "execute_result"
    }
   ],
   "source": [
    "stack_of_plates.pop() # remove konsa hua jo sbse last mai add hua"
   ]
  },
  {
   "cell_type": "code",
   "execution_count": 141,
   "id": "a5fa73c6",
   "metadata": {},
   "outputs": [
    {
     "data": {
      "text/plain": [
       "['plate1', 'plate2', 'plate3']"
      ]
     },
     "execution_count": 141,
     "metadata": {},
     "output_type": "execute_result"
    }
   ],
   "source": [
    "stack_of_plates # ab last wala hat gya hai"
   ]
  },
  {
   "cell_type": "code",
   "execution_count": 142,
   "id": "54cd6b98",
   "metadata": {},
   "outputs": [],
   "source": [
    "#QUEUE: first in and first out hota hai isme\n",
    "#orderly sequential manner\n",
    "#two ends\n",
    "#jaise mano ticket lene ke liye movie ki line mai lage hai hm to jo sbse aage khada hoga sbse phle usko ticket milegi na bs whi"
   ]
  },
  {
   "cell_type": "code",
   "execution_count": 144,
   "id": "4c6a562e",
   "metadata": {},
   "outputs": [
    {
     "data": {
      "text/plain": [
       "deque(['cus1', 'cus2', 'cus3', 'cus4', 'cus5'])"
      ]
     },
     "execution_count": 144,
     "metadata": {},
     "output_type": "execute_result"
    }
   ],
   "source": [
    "from collections import deque\n",
    "checkout=deque()\n",
    "checkout.append(\"cus1\")  #cus is customer\n",
    "checkout.append(\"cus2\")\n",
    "checkout.append(\"cus3\")\n",
    "checkout.append(\"cus4\")\n",
    "checkout.append(\"cus5\")\n",
    "checkout"
   ]
  },
  {
   "cell_type": "code",
   "execution_count": 147,
   "id": "25ca8829",
   "metadata": {},
   "outputs": [],
   "source": [
    "while checkout: # ab checkout ke time reception wale serve kis line mai krenge\n",
    "    customer=checkout.popleft() #ye popleft vi bs tb heen kr pa rhe hain jb hmne ye deque use kiya normal list mai nai hota hai\n",
    "    print(\"serving\",customer)"
   ]
  },
  {
   "cell_type": "code",
   "execution_count": null,
   "id": "18acc9ab",
   "metadata": {},
   "outputs": [],
   "source": []
  }
 ],
 "metadata": {
  "kernelspec": {
   "display_name": "Python 3 (ipykernel)",
   "language": "python",
   "name": "python3"
  },
  "language_info": {
   "codemirror_mode": {
    "name": "ipython",
    "version": 3
   },
   "file_extension": ".py",
   "mimetype": "text/x-python",
   "name": "python",
   "nbconvert_exporter": "python",
   "pygments_lexer": "ipython3",
   "version": "3.11.5"
  }
 },
 "nbformat": 4,
 "nbformat_minor": 5
}
