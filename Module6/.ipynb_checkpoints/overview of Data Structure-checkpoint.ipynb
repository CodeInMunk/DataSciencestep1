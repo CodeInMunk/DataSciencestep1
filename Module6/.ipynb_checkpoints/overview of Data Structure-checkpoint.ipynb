{
 "cells": [
  {
   "cell_type": "markdown",
   "id": "87f11dc1",
   "metadata": {},
   "source": [
    "# Data Structure Overview"
   ]
  },
  {
   "cell_type": "code",
   "execution_count": 1,
   "id": "a6608009",
   "metadata": {},
   "outputs": [],
   "source": [
    " #data structure is way of organising data so that it can be acessed and manipulated effeciently"
   ]
  },
  {
   "cell_type": "markdown",
   "id": "17870d94",
   "metadata": {},
   "source": [
    "# list\n",
    "#it is an ordered collection of elements that can be of any data type it can be integer,float,string anything\n",
    "#list is mutable\n"
   ]
  },
  {
   "cell_type": "code",
   "execution_count": 12,
   "id": "d3162eb8",
   "metadata": {},
   "outputs": [
    {
     "data": {
      "text/plain": [
       "5"
      ]
     },
     "execution_count": 12,
     "metadata": {},
     "output_type": "execute_result"
    }
   ],
   "source": [
    "a=[3,33,35,5,55]\n",
    "a[3]"
   ]
  },
  {
   "cell_type": "code",
   "execution_count": 13,
   "id": "a33c5e1f",
   "metadata": {},
   "outputs": [],
   "source": [
    "a[3]=6 #mutability mtlb list ke andr ka content change kr diya"
   ]
  },
  {
   "cell_type": "code",
   "execution_count": 14,
   "id": "a14de5b7",
   "metadata": {},
   "outputs": [
    {
     "data": {
      "text/plain": [
       "[3, 33, 35, 6, 55]"
      ]
     },
     "execution_count": 14,
     "metadata": {},
     "output_type": "execute_result"
    }
   ],
   "source": [
    "a"
   ]
  },
  {
   "cell_type": "code",
   "execution_count": 15,
   "id": "247f1d96",
   "metadata": {},
   "outputs": [],
   "source": [
    "#if i have to add a element i.e object in to the list then i can do this by using append\n",
    "a.append(\"hello\") #bracket ke andr jo likhenge add ho jayga"
   ]
  },
  {
   "cell_type": "code",
   "execution_count": 16,
   "id": "e7f271b0",
   "metadata": {},
   "outputs": [
    {
     "data": {
      "text/plain": [
       "[3, 33, 35, 6, 55, 'hello']"
      ]
     },
     "execution_count": 16,
     "metadata": {},
     "output_type": "execute_result"
    }
   ],
   "source": [
    "a"
   ]
  },
  {
   "cell_type": "code",
   "execution_count": 17,
   "id": "8ed8e3d2",
   "metadata": {},
   "outputs": [],
   "source": [
    "#to remove a object from list we use remove\n",
    "a.remove(35)"
   ]
  },
  {
   "cell_type": "code",
   "execution_count": 18,
   "id": "043f5bfa",
   "metadata": {},
   "outputs": [
    {
     "data": {
      "text/plain": [
       "[3, 33, 6, 55, 'hello']"
      ]
     },
     "execution_count": 18,
     "metadata": {},
     "output_type": "execute_result"
    }
   ],
   "source": [
    "a"
   ]
  },
  {
   "cell_type": "code",
   "execution_count": 19,
   "id": "15505866",
   "metadata": {},
   "outputs": [
    {
     "data": {
      "text/plain": [
       "[[1, 2, 3], [4, 5, 6], [7, 8, 9]]"
      ]
     },
     "execution_count": 19,
     "metadata": {},
     "output_type": "execute_result"
    }
   ],
   "source": [
    "#hm list ke andr vi list daal skte hain\n",
    "lis=[[1,2,3],[4,5,6],[7,8,9]]\n",
    "lis"
   ]
  },
  {
   "cell_type": "code",
   "execution_count": 20,
   "id": "8bee186e",
   "metadata": {},
   "outputs": [
    {
     "data": {
      "text/plain": [
       "6"
      ]
     },
     "execution_count": 20,
     "metadata": {},
     "output_type": "execute_result"
    }
   ],
   "source": [
    "#list ke andr ke list ke elemnt vi apn acess kr skte hain\n",
    "lis[1][2]  # list ke andr ke second list ke last elemt jo ki 6 hai usko acess kiya"
   ]
  },
  {
   "cell_type": "markdown",
   "id": "c0c7bb34",
   "metadata": {},
   "source": [
    "# TUPLES"
   ]
  },
  {
   "cell_type": "code",
   "execution_count": null,
   "id": "06024dae",
   "metadata": {},
   "outputs": [],
   "source": [
    "#Tuples are immutable"
   ]
  }
 ],
 "metadata": {
  "kernelspec": {
   "display_name": "Python 3 (ipykernel)",
   "language": "python",
   "name": "python3"
  },
  "language_info": {
   "codemirror_mode": {
    "name": "ipython",
    "version": 3
   },
   "file_extension": ".py",
   "mimetype": "text/x-python",
   "name": "python",
   "nbconvert_exporter": "python",
   "pygments_lexer": "ipython3",
   "version": "3.11.5"
  }
 },
 "nbformat": 4,
 "nbformat_minor": 5
}
