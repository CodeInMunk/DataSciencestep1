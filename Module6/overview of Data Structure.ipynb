{
 "cells": [
  {
   "cell_type": "markdown",
   "id": "87f11dc1",
   "metadata": {},
   "source": [
    "# Data Structure Overview"
   ]
  },
  {
   "cell_type": "code",
   "execution_count": 1,
   "id": "a6608009",
   "metadata": {},
   "outputs": [],
   "source": [
    " #data structure is way of organising data so that it can be acessed and manipulated effeciently"
   ]
  },
  {
   "cell_type": "markdown",
   "id": "17870d94",
   "metadata": {},
   "source": [
    "# list\n",
    "#it is an ordered collection of elements that can be of any data type it can be integer,float,string anything\n",
    "#list is mutable\n"
   ]
  },
  {
   "cell_type": "code",
   "execution_count": 12,
   "id": "d3162eb8",
   "metadata": {},
   "outputs": [
    {
     "data": {
      "text/plain": [
       "5"
      ]
     },
     "execution_count": 12,
     "metadata": {},
     "output_type": "execute_result"
    }
   ],
   "source": [
    "a=[3,33,35,5,55]\n",
    "a[3]"
   ]
  },
  {
   "cell_type": "code",
   "execution_count": 13,
   "id": "a33c5e1f",
   "metadata": {},
   "outputs": [],
   "source": [
    "a[3]=6 #mutability mtlb list ke andr ka content change kr diya"
   ]
  },
  {
   "cell_type": "code",
   "execution_count": 14,
   "id": "a14de5b7",
   "metadata": {},
   "outputs": [
    {
     "data": {
      "text/plain": [
       "[3, 33, 35, 6, 55]"
      ]
     },
     "execution_count": 14,
     "metadata": {},
     "output_type": "execute_result"
    }
   ],
   "source": [
    "a"
   ]
  },
  {
   "cell_type": "code",
   "execution_count": 15,
   "id": "247f1d96",
   "metadata": {},
   "outputs": [],
   "source": [
    "#if i have to add a element i.e object in to the list then i can do this by using append\n",
    "a.append(\"hello\") #bracket ke andr jo likhenge add ho jayga"
   ]
  },
  {
   "cell_type": "code",
   "execution_count": 16,
   "id": "e7f271b0",
   "metadata": {},
   "outputs": [
    {
     "data": {
      "text/plain": [
       "[3, 33, 35, 6, 55, 'hello']"
      ]
     },
     "execution_count": 16,
     "metadata": {},
     "output_type": "execute_result"
    }
   ],
   "source": [
    "a"
   ]
  },
  {
   "cell_type": "code",
   "execution_count": 17,
   "id": "8ed8e3d2",
   "metadata": {},
   "outputs": [],
   "source": [
    "#to remove a object from list we use remove\n",
    "a.remove(35)"
   ]
  },
  {
   "cell_type": "code",
   "execution_count": 18,
   "id": "043f5bfa",
   "metadata": {},
   "outputs": [
    {
     "data": {
      "text/plain": [
       "[3, 33, 6, 55, 'hello']"
      ]
     },
     "execution_count": 18,
     "metadata": {},
     "output_type": "execute_result"
    }
   ],
   "source": [
    "a"
   ]
  },
  {
   "cell_type": "code",
   "execution_count": 19,
   "id": "15505866",
   "metadata": {},
   "outputs": [
    {
     "data": {
      "text/plain": [
       "[[1, 2, 3], [4, 5, 6], [7, 8, 9]]"
      ]
     },
     "execution_count": 19,
     "metadata": {},
     "output_type": "execute_result"
    }
   ],
   "source": [
    "#hm list ke andr vi list daal skte hain\n",
    "lis=[[1,2,3],[4,5,6],[7,8,9]]\n",
    "lis"
   ]
  },
  {
   "cell_type": "code",
   "execution_count": 20,
   "id": "8bee186e",
   "metadata": {},
   "outputs": [
    {
     "data": {
      "text/plain": [
       "6"
      ]
     },
     "execution_count": 20,
     "metadata": {},
     "output_type": "execute_result"
    }
   ],
   "source": [
    "#list ke andr ke list ke elemnt vi apn acess kr skte hain\n",
    "lis[1][2]  # list ke andr ke second list ke last elemt jo ki 6 hai usko acess kiya"
   ]
  },
  {
   "cell_type": "markdown",
   "id": "c0c7bb34",
   "metadata": {},
   "source": [
    "# TUPLES"
   ]
  },
  {
   "cell_type": "code",
   "execution_count": 1,
   "id": "06024dae",
   "metadata": {},
   "outputs": [],
   "source": [
    "#Tuples are immutable : ye tb use hota hai jb permanent rakhni ho andr ke elements unlike list jisme changes kr skte hain"
   ]
  },
  {
   "cell_type": "code",
   "execution_count": 2,
   "id": "405b7b11",
   "metadata": {},
   "outputs": [
    {
     "data": {
      "text/plain": [
       "(2, 3)"
      ]
     },
     "execution_count": 2,
     "metadata": {},
     "output_type": "execute_result"
    }
   ],
   "source": [
    "point=(2,3)\n",
    "point"
   ]
  },
  {
   "cell_type": "code",
   "execution_count": 4,
   "id": "fd4b73a1",
   "metadata": {},
   "outputs": [
    {
     "data": {
      "text/plain": [
       "3"
      ]
     },
     "execution_count": 4,
     "metadata": {},
     "output_type": "execute_result"
    }
   ],
   "source": [
    "point[1]"
   ]
  },
  {
   "cell_type": "code",
   "execution_count": 5,
   "id": "7aef6fe4",
   "metadata": {},
   "outputs": [
    {
     "ename": "TypeError",
     "evalue": "'tuple' object does not support item assignment",
     "output_type": "error",
     "traceback": [
      "\u001b[1;31m---------------------------------------------------------------------------\u001b[0m",
      "\u001b[1;31mTypeError\u001b[0m                                 Traceback (most recent call last)",
      "Cell \u001b[1;32mIn[5], line 1\u001b[0m\n\u001b[1;32m----> 1\u001b[0m point[\u001b[38;5;241m1\u001b[39m]\u001b[38;5;241m=\u001b[39m\u001b[38;5;241m2\u001b[39m\n",
      "\u001b[1;31mTypeError\u001b[0m: 'tuple' object does not support item assignment"
     ]
    }
   ],
   "source": [
    "point[1]=2"
   ]
  },
  {
   "cell_type": "code",
   "execution_count": 6,
   "id": "6db49ebd",
   "metadata": {},
   "outputs": [],
   "source": [
    "t=(\"harshit\",1,2,3,4,5,3+3j) #tuple  can also store different data types"
   ]
  },
  {
   "cell_type": "code",
   "execution_count": 7,
   "id": "03ff7e60",
   "metadata": {},
   "outputs": [
    {
     "data": {
      "text/plain": [
       "('harshit', 1, 2, 3, 4, 5, (3+3j))"
      ]
     },
     "execution_count": 7,
     "metadata": {},
     "output_type": "execute_result"
    }
   ],
   "source": [
    "t"
   ]
  },
  {
   "cell_type": "code",
   "execution_count": 8,
   "id": "5af98be5",
   "metadata": {},
   "outputs": [
    {
     "data": {
      "text/plain": [
       "complex"
      ]
     },
     "execution_count": 8,
     "metadata": {},
     "output_type": "execute_result"
    }
   ],
   "source": [
    "type(t[6])"
   ]
  },
  {
   "cell_type": "code",
   "execution_count": 10,
   "id": "9cfc1726",
   "metadata": {},
   "outputs": [
    {
     "name": "stdout",
     "output_type": "stream",
     "text": [
      "('1', '2', '3', '4')\n"
     ]
    }
   ],
   "source": [
    "box1=(\"1\",\"2\")\n",
    "box2=(\"3\",\"4\")\n",
    "print(box1+box2)"
   ]
  },
  {
   "cell_type": "code",
   "execution_count": 12,
   "id": "35603822",
   "metadata": {},
   "outputs": [
    {
     "data": {
      "text/plain": [
       "(('1', '2'), ('3', '4'))"
      ]
     },
     "execution_count": 12,
     "metadata": {},
     "output_type": "execute_result"
    }
   ],
   "source": [
    "choclate_bag=(box1,box2)\n",
    "choclate_bag"
   ]
  },
  {
   "cell_type": "code",
   "execution_count": 16,
   "id": "68e6f776",
   "metadata": {},
   "outputs": [
    {
     "name": "stdout",
     "output_type": "stream",
     "text": [
      "1\n",
      "2\n",
      "3\n",
      "4\n"
     ]
    }
   ],
   "source": [
    "for bag in choclate_bag:\n",
    "    for choc in bag:\n",
    "        print(choc)"
   ]
  },
  {
   "cell_type": "markdown",
   "id": "528629ad",
   "metadata": {},
   "source": [
    "### SETS\n"
   ]
  },
  {
   "cell_type": "code",
   "execution_count": 17,
   "id": "32f97f2c",
   "metadata": {},
   "outputs": [],
   "source": [
    "#sets are unorders collection of unique elements"
   ]
  },
  {
   "cell_type": "code",
   "execution_count": 18,
   "id": "5c4a0c33",
   "metadata": {},
   "outputs": [],
   "source": [
    "s={\"red\",\"blue\",\"red\"}# ab isme red ek hat jayga kyunki set mai chije repeat nai hoti"
   ]
  },
  {
   "cell_type": "code",
   "execution_count": 19,
   "id": "e50326a4",
   "metadata": {},
   "outputs": [
    {
     "data": {
      "text/plain": [
       "{'blue', 'red'}"
      ]
     },
     "execution_count": 19,
     "metadata": {},
     "output_type": "execute_result"
    }
   ],
   "source": [
    "s"
   ]
  },
  {
   "cell_type": "code",
   "execution_count": 20,
   "id": "21eec4d2",
   "metadata": {},
   "outputs": [],
   "source": [
    "# set jo hai wo unordered hota hai mtlb jruri nai jaise hmne dala hai usme object print waise heen ho"
   ]
  },
  {
   "cell_type": "code",
   "execution_count": 21,
   "id": "c33c43b3",
   "metadata": {},
   "outputs": [],
   "source": [
    "d={\"red\",\"blue\",\"green\",\"yellow\",\"purple\"}"
   ]
  },
  {
   "cell_type": "code",
   "execution_count": 22,
   "id": "35b40b94",
   "metadata": {},
   "outputs": [
    {
     "data": {
      "text/plain": [
       "{'blue', 'green', 'purple', 'red', 'yellow'}"
      ]
     },
     "execution_count": 22,
     "metadata": {},
     "output_type": "execute_result"
    }
   ],
   "source": [
    "d"
   ]
  },
  {
   "cell_type": "code",
   "execution_count": 23,
   "id": "aa2564c3",
   "metadata": {},
   "outputs": [],
   "source": [
    "#set jo hai usme list and tuple ki trh hm dekh ni skte ek object jaise list[2],tuple[2] krne pr aa jata tha 3rd index ka object isme nai aata hai\n",
    "#reason hota hai ki set jjo hai unordered way mai print hota hai islea nai aata hai"
   ]
  },
  {
   "cell_type": "code",
   "execution_count": 24,
   "id": "e7604b7d",
   "metadata": {},
   "outputs": [],
   "source": [
    "#to add an object in set (jaise list ke liye append ka use krte hai)\n",
    "d.add(\"pwskills\")"
   ]
  },
  {
   "cell_type": "code",
   "execution_count": 26,
   "id": "eea6c359",
   "metadata": {},
   "outputs": [
    {
     "data": {
      "text/plain": [
       "{'blue', 'green', 'purple', 'pwskills', 'red', 'yellow'}"
      ]
     },
     "execution_count": 26,
     "metadata": {},
     "output_type": "execute_result"
    }
   ],
   "source": [
    "d  # ab isme upr ka pw skills add ho jayga or jruri nai list mai jaise last mai hota tha yha pr vi waise ho ye unordered hota hai to ski vi print ho jayga"
   ]
  },
  {
   "cell_type": "code",
   "execution_count": 28,
   "id": "623f1d7a",
   "metadata": {},
   "outputs": [],
   "source": [
    "#to remove an object in set \n",
    "d.remove(\"yellow\")"
   ]
  },
  {
   "cell_type": "code",
   "execution_count": 30,
   "id": "7e38d95f",
   "metadata": {},
   "outputs": [
    {
     "data": {
      "text/plain": [
       "{'blue', 'green', 'purple', 'pwskills', 'red'}"
      ]
     },
     "execution_count": 30,
     "metadata": {},
     "output_type": "execute_result"
    }
   ],
   "source": [
    "d # yellow hat jayga"
   ]
  },
  {
   "cell_type": "markdown",
   "id": "7e366158",
   "metadata": {},
   "source": [
    "# DICTIONARY"
   ]
  },
  {
   "cell_type": "code",
   "execution_count": 31,
   "id": "f08ccf6f",
   "metadata": {},
   "outputs": [],
   "source": [
    "#INME VI CURLY BRACKET USE HOGA LIKE SET {}\n",
    "#DICTIONARY STORE THE KEY VALUE PAIR : KEYS WILL BE ALWAYS UNIQUE AND WE CANT CHANGE THE KEYS(IMMUTABLE) BT VALUES CAN BE CHANGED"
   ]
  },
  {
   "cell_type": "code",
   "execution_count": 32,
   "id": "a014eb19",
   "metadata": {},
   "outputs": [],
   "source": [
    "#How to make key value pair\n",
    "my_dict={\"key_course\":\"data science\",\"duration\":2}"
   ]
  },
  {
   "cell_type": "code",
   "execution_count": 33,
   "id": "b27ed402",
   "metadata": {},
   "outputs": [
    {
     "data": {
      "text/plain": [
       "dict"
      ]
     },
     "execution_count": 33,
     "metadata": {},
     "output_type": "execute_result"
    }
   ],
   "source": [
    "type(my_dict)"
   ]
  },
  {
   "cell_type": "code",
   "execution_count": 34,
   "id": "bae3f3ad",
   "metadata": {},
   "outputs": [],
   "source": [
    "phone_book={\"harshit\":33354679,\"anwar\":212114545}"
   ]
  },
  {
   "cell_type": "code",
   "execution_count": 35,
   "id": "4f767568",
   "metadata": {},
   "outputs": [
    {
     "data": {
      "text/plain": [
       "dict"
      ]
     },
     "execution_count": 35,
     "metadata": {},
     "output_type": "execute_result"
    }
   ],
   "source": [
    "type(phone_book)"
   ]
  },
  {
   "cell_type": "code",
   "execution_count": 36,
   "id": "d3cff1fd",
   "metadata": {},
   "outputs": [
    {
     "data": {
      "text/plain": [
       "33354679"
      ]
     },
     "execution_count": 36,
     "metadata": {},
     "output_type": "execute_result"
    }
   ],
   "source": [
    "#how to acess harshit number from the phone_book above (which is a dictionary)\n",
    "phone_book[\"harshit\"]"
   ]
  },
  {
   "cell_type": "code",
   "execution_count": 38,
   "id": "2686fb77",
   "metadata": {},
   "outputs": [],
   "source": [
    "#in dictionary agr koi key 2 baar likh dein to phle wali key overwrite ho jati hai\n",
    "tele_caller={\"rahul\":232323,\"anshu\":121212,\"vishal\":454545,\"rahul\":565656} #rahul do baar likha phle wale rahul(key) ki value ab bdl jaygi last wale ki vallue se"
   ]
  },
  {
   "cell_type": "code",
   "execution_count": 40,
   "id": "c7b47463",
   "metadata": {},
   "outputs": [
    {
     "data": {
      "text/plain": [
       "{'rahul': 565656, 'anshu': 121212, 'vishal': 454545}"
      ]
     },
     "execution_count": 40,
     "metadata": {},
     "output_type": "execute_result"
    }
   ],
   "source": [
    "tele_caller #rahul do baar likha phle wale rahul(key) ki value ab bdl jaygi last wale ki vallue se"
   ]
  },
  {
   "cell_type": "code",
   "execution_count": 41,
   "id": "4306902c",
   "metadata": {},
   "outputs": [
    {
     "data": {
      "text/plain": [
       "dict_keys(['rahul', 'anshu', 'vishal'])"
      ]
     },
     "execution_count": 41,
     "metadata": {},
     "output_type": "execute_result"
    }
   ],
   "source": [
    "#agr bs keys dekhni ho kisi dictionary ki to\n",
    "tele_caller.keys()"
   ]
  },
  {
   "cell_type": "code",
   "execution_count": 42,
   "id": "357c13c5",
   "metadata": {},
   "outputs": [
    {
     "data": {
      "text/plain": [
       "dict_values([565656, 121212, 454545])"
      ]
     },
     "execution_count": 42,
     "metadata": {},
     "output_type": "execute_result"
    }
   ],
   "source": [
    "#agr bs values dekhni ho dictionary ki to\n",
    "tele_caller.values()"
   ]
  },
  {
   "cell_type": "code",
   "execution_count": 43,
   "id": "61448f9a",
   "metadata": {},
   "outputs": [],
   "source": [
    "#to change value of a key\n",
    "tele_caller[\"rahul\"]=\"i have changed my number\""
   ]
  },
  {
   "cell_type": "code",
   "execution_count": 44,
   "id": "f8d066d1",
   "metadata": {},
   "outputs": [
    {
     "data": {
      "text/plain": [
       "{'rahul': 'i have changed my number', 'anshu': 121212, 'vishal': 454545}"
      ]
     },
     "execution_count": 44,
     "metadata": {},
     "output_type": "execute_result"
    }
   ],
   "source": [
    "tele_caller"
   ]
  },
  {
   "cell_type": "markdown",
   "id": "0e55b26b",
   "metadata": {},
   "source": [
    "# Array\n"
   ]
  },
  {
   "cell_type": "code",
   "execution_count": 45,
   "id": "298d0734",
   "metadata": {},
   "outputs": [],
   "source": [
    "#array ka kam hm numpy mai krenge pr python se thodu sa basic dekh lete hain"
   ]
  },
  {
   "cell_type": "code",
   "execution_count": 46,
   "id": "e6a8783c",
   "metadata": {},
   "outputs": [],
   "source": [
    "#array is almost similar to list"
   ]
  },
  {
   "cell_type": "code",
   "execution_count": 54,
   "id": "f151abad",
   "metadata": {},
   "outputs": [],
   "source": [
    "from array import array"
   ]
  },
  {
   "cell_type": "code",
   "execution_count": 55,
   "id": "95125bc9",
   "metadata": {},
   "outputs": [
    {
     "ename": "ValueError",
     "evalue": "bad typecode (must be b, B, u, h, H, i, I, l, L, q, Q, f or d)",
     "output_type": "error",
     "traceback": [
      "\u001b[1;31m---------------------------------------------------------------------------\u001b[0m",
      "\u001b[1;31mValueError\u001b[0m                                Traceback (most recent call last)",
      "Cell \u001b[1;32mIn[55], line 1\u001b[0m\n\u001b[1;32m----> 1\u001b[0m a\u001b[38;5;241m=\u001b[39marray(\u001b[38;5;124m\"\u001b[39m\u001b[38;5;124m1\u001b[39m\u001b[38;5;124m\"\u001b[39m,[\u001b[38;5;241m1\u001b[39m,\u001b[38;5;241m2\u001b[39m,\u001b[38;5;241m3\u001b[39m,\u001b[38;5;241m4\u001b[39m])\n",
      "\u001b[1;31mValueError\u001b[0m: bad typecode (must be b, B, u, h, H, i, I, l, L, q, Q, f or d)"
     ]
    }
   ],
   "source": [
    "a=array(\"1\",[1,2,3,4])"
   ]
  },
  {
   "cell_type": "code",
   "execution_count": 56,
   "id": "944dd137",
   "metadata": {},
   "outputs": [
    {
     "ename": "IndexError",
     "evalue": "tuple index out of range",
     "output_type": "error",
     "traceback": [
      "\u001b[1;31m---------------------------------------------------------------------------\u001b[0m",
      "\u001b[1;31mIndexError\u001b[0m                                Traceback (most recent call last)",
      "Cell \u001b[1;32mIn[56], line 1\u001b[0m\n\u001b[1;32m----> 1\u001b[0m a[\u001b[38;5;241m2\u001b[39m]\n",
      "\u001b[1;31mIndexError\u001b[0m: tuple index out of range"
     ]
    }
   ],
   "source": [
    "a[2]"
   ]
  },
  {
   "cell_type": "code",
   "execution_count": null,
   "id": "10937a82",
   "metadata": {},
   "outputs": [],
   "source": []
  }
 ],
 "metadata": {
  "kernelspec": {
   "display_name": "Python 3 (ipykernel)",
   "language": "python",
   "name": "python3"
  },
  "language_info": {
   "codemirror_mode": {
    "name": "ipython",
    "version": 3
   },
   "file_extension": ".py",
   "mimetype": "text/x-python",
   "name": "python",
   "nbconvert_exporter": "python",
   "pygments_lexer": "ipython3",
   "version": "3.11.5"
  }
 },
 "nbformat": 4,
 "nbformat_minor": 5
}
