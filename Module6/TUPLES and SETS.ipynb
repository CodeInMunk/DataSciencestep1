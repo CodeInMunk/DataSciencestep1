{
 "cells": [
  {
   "cell_type": "code",
   "execution_count": 3,
   "id": "250f35da",
   "metadata": {},
   "outputs": [
    {
     "data": {
      "text/plain": [
       "tuple"
      ]
     },
     "execution_count": 3,
     "metadata": {},
     "output_type": "execute_result"
    }
   ],
   "source": [
    "T=()\n",
    "type(T)"
   ]
  },
  {
   "cell_type": "code",
   "execution_count": 4,
   "id": "46352e3e",
   "metadata": {},
   "outputs": [],
   "source": [
    "#tuples are immutable unlike list\n",
    "#tuples are ordered collection of elements, hetrogenous"
   ]
  },
  {
   "cell_type": "code",
   "execution_count": 5,
   "id": "f8fe5cdd",
   "metadata": {},
   "outputs": [
    {
     "data": {
      "text/plain": [
       "tuple"
      ]
     },
     "execution_count": 5,
     "metadata": {},
     "output_type": "execute_result"
    }
   ],
   "source": [
    "tuple1=(\"pwskills\",7+3j,True,33,55,3.5,33)\n",
    "type(tuple1)"
   ]
  },
  {
   "cell_type": "code",
   "execution_count": 6,
   "id": "c60e1bc7",
   "metadata": {},
   "outputs": [
    {
     "data": {
      "text/plain": [
       "'pwskills'"
      ]
     },
     "execution_count": 6,
     "metadata": {},
     "output_type": "execute_result"
    }
   ],
   "source": [
    "#indexing is available here also\n",
    "tuple1[0]"
   ]
  },
  {
   "cell_type": "code",
   "execution_count": 7,
   "id": "4b843567",
   "metadata": {},
   "outputs": [
    {
     "data": {
      "text/plain": [
       "2"
      ]
     },
     "execution_count": 7,
     "metadata": {},
     "output_type": "execute_result"
    }
   ],
   "source": [
    "#to count ki tuple ke andr ka element kinni baar repeat hua hai :\n",
    "tuple1.count(33)"
   ]
  },
  {
   "cell_type": "code",
   "execution_count": 8,
   "id": "2164cc1e",
   "metadata": {},
   "outputs": [
    {
     "data": {
      "text/plain": [
       "2"
      ]
     },
     "execution_count": 8,
     "metadata": {},
     "output_type": "execute_result"
    }
   ],
   "source": [
    "#to get the index of an element \n",
    "tuple1.index(True) # true 2 index pr hai to output 2 aayga"
   ]
  },
  {
   "cell_type": "code",
   "execution_count": 9,
   "id": "b2ab422a",
   "metadata": {},
   "outputs": [
    {
     "data": {
      "text/plain": [
       "3"
      ]
     },
     "execution_count": 9,
     "metadata": {},
     "output_type": "execute_result"
    }
   ],
   "source": [
    "tuple1.index(33) # phla 33 jo hai uski location dega"
   ]
  },
  {
   "cell_type": "code",
   "execution_count": 10,
   "id": "7ecfb866",
   "metadata": {},
   "outputs": [
    {
     "data": {
      "text/plain": [
       "('pwskills',\n",
       " (7+3j),\n",
       " True,\n",
       " 33,\n",
       " 55,\n",
       " 3.5,\n",
       " 33,\n",
       " 'pwskills',\n",
       " (7+3j),\n",
       " True,\n",
       " 33,\n",
       " 55,\n",
       " 3.5,\n",
       " 33)"
      ]
     },
     "execution_count": 10,
     "metadata": {},
     "output_type": "execute_result"
    }
   ],
   "source": [
    "#repeat in tuple\n",
    "tuple1*2"
   ]
  },
  {
   "cell_type": "code",
   "execution_count": 11,
   "id": "b6cd03c8",
   "metadata": {},
   "outputs": [
    {
     "data": {
      "text/plain": [
       "('pwskills', (7+3j), True, 33)"
      ]
     },
     "execution_count": 11,
     "metadata": {},
     "output_type": "execute_result"
    }
   ],
   "source": [
    "tuple1[:4]"
   ]
  },
  {
   "cell_type": "code",
   "execution_count": 12,
   "id": "f5a65496",
   "metadata": {},
   "outputs": [
    {
     "data": {
      "text/plain": [
       "(33, 3.5, 55, 33, True, (7+3j), 'pwskills')"
      ]
     },
     "execution_count": 12,
     "metadata": {},
     "output_type": "execute_result"
    }
   ],
   "source": [
    "tuple1[::-1] # reverse mai elements btayga sare peeche se aage tk"
   ]
  },
  {
   "cell_type": "code",
   "execution_count": 13,
   "id": "49f47407",
   "metadata": {},
   "outputs": [
    {
     "data": {
      "text/plain": [
       "33"
      ]
     },
     "execution_count": 13,
     "metadata": {},
     "output_type": "execute_result"
    }
   ],
   "source": [
    "tuple1[-1]"
   ]
  },
  {
   "cell_type": "code",
   "execution_count": 14,
   "id": "40403d3d",
   "metadata": {},
   "outputs": [
    {
     "name": "stdout",
     "output_type": "stream",
     "text": [
      "0 pwskills\n",
      "1 (7+3j)\n",
      "2 True\n",
      "3 33\n",
      "4 55\n",
      "5 3.5\n",
      "6 33\n"
     ]
    }
   ],
   "source": [
    "for i in range(len(tuple1)):\n",
    "    print(i,tuple1[i])"
   ]
  },
  {
   "cell_type": "code",
   "execution_count": 15,
   "id": "774a7527",
   "metadata": {},
   "outputs": [
    {
     "name": "stdout",
     "output_type": "stream",
     "text": [
      "pwskills 0\n",
      "(7+3j) 1\n",
      "True 2\n",
      "33 3\n",
      "55 4\n",
      "3.5 5\n",
      "33 6\n"
     ]
    }
   ],
   "source": [
    "\n",
    "\n",
    "for (element, index) in zip(tuple1, range(len(tuple1))):\n",
    "    print(element, index)\n"
   ]
  },
  {
   "cell_type": "code",
   "execution_count": 16,
   "id": "8b096320",
   "metadata": {},
   "outputs": [
    {
     "name": "stdout",
     "output_type": "stream",
     "text": [
      "pwskills <class 'str'>\n",
      "(7+3j) <class 'complex'>\n",
      "True <class 'bool'>\n",
      "33 <class 'int'>\n",
      "55 <class 'int'>\n",
      "3.5 <class 'float'>\n",
      "33 <class 'int'>\n"
     ]
    }
   ],
   "source": [
    "# tuple ke andr ke element kis type ke hain janna hai\n",
    "for i in tuple1:\n",
    "    print(i,type(i))"
   ]
  },
  {
   "cell_type": "code",
   "execution_count": 17,
   "id": "aca13b01",
   "metadata": {},
   "outputs": [],
   "source": [
    "t1=(1,100,20,53,35)"
   ]
  },
  {
   "cell_type": "code",
   "execution_count": 18,
   "id": "cf8eb10c",
   "metadata": {},
   "outputs": [
    {
     "data": {
      "text/plain": [
       "100"
      ]
     },
     "execution_count": 18,
     "metadata": {},
     "output_type": "execute_result"
    }
   ],
   "source": [
    "# to get maximum value of a tuple (here t1)\n",
    "max(t1)"
   ]
  },
  {
   "cell_type": "code",
   "execution_count": 19,
   "id": "3c57e218",
   "metadata": {},
   "outputs": [
    {
     "data": {
      "text/plain": [
       "1"
      ]
     },
     "execution_count": 19,
     "metadata": {},
     "output_type": "execute_result"
    }
   ],
   "source": [
    "#to get min. value\n",
    "min(t1)"
   ]
  },
  {
   "cell_type": "code",
   "execution_count": 20,
   "id": "75d6a2d4",
   "metadata": {},
   "outputs": [],
   "source": [
    "t2=(55.50,30,59)"
   ]
  },
  {
   "cell_type": "code",
   "execution_count": 21,
   "id": "98a4d353",
   "metadata": {},
   "outputs": [],
   "source": [
    "#making tuples from combination\n",
    "t3=(t1,t2)"
   ]
  },
  {
   "cell_type": "code",
   "execution_count": 22,
   "id": "faf5defa",
   "metadata": {},
   "outputs": [
    {
     "data": {
      "text/plain": [
       "((1, 100, 20, 53, 35), (55.5, 30, 59))"
      ]
     },
     "execution_count": 22,
     "metadata": {},
     "output_type": "execute_result"
    }
   ],
   "source": [
    " t3"
   ]
  },
  {
   "cell_type": "code",
   "execution_count": 23,
   "id": "5accd83e",
   "metadata": {},
   "outputs": [
    {
     "data": {
      "text/plain": [
       "('pwskills', (7+3j), True, 33, 55, 3.5, 33)"
      ]
     },
     "execution_count": 23,
     "metadata": {},
     "output_type": "execute_result"
    }
   ],
   "source": [
    "tuple1"
   ]
  },
  {
   "cell_type": "code",
   "execution_count": 24,
   "id": "a68064cd",
   "metadata": {},
   "outputs": [
    {
     "data": {
      "text/plain": [
       "True"
      ]
     },
     "execution_count": 24,
     "metadata": {},
     "output_type": "execute_result"
    }
   ],
   "source": [
    "#presence of elements\n",
    "\"pwskills\" in tuple1"
   ]
  },
  {
   "cell_type": "code",
   "execution_count": 25,
   "id": "43c2faa6",
   "metadata": {},
   "outputs": [
    {
     "data": {
      "text/plain": [
       "False"
      ]
     },
     "execution_count": 25,
     "metadata": {},
     "output_type": "execute_result"
    }
   ],
   "source": [
    "\"pwskills\" not in tuple1"
   ]
  },
  {
   "cell_type": "markdown",
   "id": "b5f5090d",
   "metadata": {},
   "source": [
    "# SETS\n"
   ]
  },
  {
   "cell_type": "code",
   "execution_count": 26,
   "id": "5d129384",
   "metadata": {},
   "outputs": [],
   "source": [
    "#sets are collection of unique and unordered elementes\n",
    "#dont allow duplicate elements ek baar heen rhega ek element\n"
   ]
  },
  {
   "cell_type": "code",
   "execution_count": 27,
   "id": "3f2c60f0",
   "metadata": {},
   "outputs": [],
   "source": [
    "s={}"
   ]
  },
  {
   "cell_type": "code",
   "execution_count": 28,
   "id": "14bf8e21",
   "metadata": {},
   "outputs": [
    {
     "data": {
      "text/plain": [
       "{}"
      ]
     },
     "execution_count": 28,
     "metadata": {},
     "output_type": "execute_result"
    }
   ],
   "source": [
    "s"
   ]
  },
  {
   "cell_type": "code",
   "execution_count": 29,
   "id": "18fa1b90",
   "metadata": {},
   "outputs": [
    {
     "data": {
      "text/plain": [
       "dict"
      ]
     },
     "execution_count": 29,
     "metadata": {},
     "output_type": "execute_result"
    }
   ],
   "source": [
    "type(s)"
   ]
  },
  {
   "cell_type": "code",
   "execution_count": 30,
   "id": "b1893328",
   "metadata": {},
   "outputs": [],
   "source": [
    "s={3,4,5}"
   ]
  },
  {
   "cell_type": "code",
   "execution_count": 31,
   "id": "ce07d99a",
   "metadata": {},
   "outputs": [
    {
     "data": {
      "text/plain": [
       "set"
      ]
     },
     "execution_count": 31,
     "metadata": {},
     "output_type": "execute_result"
    }
   ],
   "source": [
    "type(s)"
   ]
  },
  {
   "cell_type": "code",
   "execution_count": 50,
   "id": "44333269",
   "metadata": {},
   "outputs": [
    {
     "data": {
      "text/plain": [
       "{1, 3, 4, 5, 6, 'Ajay', 'ajay', 'anwar', 'arun'}"
      ]
     },
     "execution_count": 50,
     "metadata": {},
     "output_type": "execute_result"
    }
   ],
   "source": [
    "s={1,1,3,4,5,6,6,\"ajay\",\"arun\",\"anwar\",\"anwar\",\"Ajay\"}\n",
    "s  # jitni vi values double thi ab ek heen print hongi ajay dobaar aayga kyunki case sensetive hota hai or ek ajay ka a small ek ka capital hai"
   ]
  },
  {
   "cell_type": "code",
   "execution_count": 51,
   "id": "24ca3e36",
   "metadata": {},
   "outputs": [],
   "source": [
    "#list se set bnanan\n",
    "list=[2,3,4,5]\n",
    "s=set(list)"
   ]
  },
  {
   "cell_type": "code",
   "execution_count": 52,
   "id": "9368bd91",
   "metadata": {},
   "outputs": [
    {
     "data": {
      "text/plain": [
       "{2, 3, 4, 5}"
      ]
     },
     "execution_count": 52,
     "metadata": {},
     "output_type": "execute_result"
    }
   ],
   "source": [
    "s"
   ]
  },
  {
   "cell_type": "code",
   "execution_count": 53,
   "id": "a279561e",
   "metadata": {},
   "outputs": [
    {
     "ename": "TypeError",
     "evalue": "'set' object is not subscriptable",
     "output_type": "error",
     "traceback": [
      "\u001b[1;31m---------------------------------------------------------------------------\u001b[0m",
      "\u001b[1;31mTypeError\u001b[0m                                 Traceback (most recent call last)",
      "Cell \u001b[1;32mIn[53], line 2\u001b[0m\n\u001b[0;32m      1\u001b[0m \u001b[38;5;66;03m#set object is not subscriptable mtlb ki indexing yha pr nai ho skti error aayga\u001b[39;00m\n\u001b[1;32m----> 2\u001b[0m s[\u001b[38;5;241m0\u001b[39m]\n",
      "\u001b[1;31mTypeError\u001b[0m: 'set' object is not subscriptable"
     ]
    }
   ],
   "source": [
    "#set object is not subscriptable mtlb ki indexing yha pr nai ho skti error aayga\n",
    "s[0]"
   ]
  },
  {
   "cell_type": "code",
   "execution_count": 54,
   "id": "14bf1a18",
   "metadata": {},
   "outputs": [
    {
     "ename": "TypeError",
     "evalue": "unhashable type: 'list'",
     "output_type": "error",
     "traceback": [
      "\u001b[1;31m---------------------------------------------------------------------------\u001b[0m",
      "\u001b[1;31mTypeError\u001b[0m                                 Traceback (most recent call last)",
      "Cell \u001b[1;32mIn[54], line 2\u001b[0m\n\u001b[0;32m      1\u001b[0m \u001b[38;5;66;03m#set mai indexing ke time error aati hai because it stores value in hash index format\u001b[39;00m\n\u001b[1;32m----> 2\u001b[0m s\u001b[38;5;241m=\u001b[39m{\u001b[38;5;241m1\u001b[39m,\u001b[38;5;241m1\u001b[39m,\u001b[38;5;241m3\u001b[39m,\u001b[38;5;241m4\u001b[39m,\u001b[38;5;241m5\u001b[39m,\u001b[38;5;241m6\u001b[39m,\u001b[38;5;241m6\u001b[39m,\u001b[38;5;124m\"\u001b[39m\u001b[38;5;124majay\u001b[39m\u001b[38;5;124m\"\u001b[39m,\u001b[38;5;124m\"\u001b[39m\u001b[38;5;124marun\u001b[39m\u001b[38;5;124m\"\u001b[39m,\u001b[38;5;124m\"\u001b[39m\u001b[38;5;124manwar\u001b[39m\u001b[38;5;124m\"\u001b[39m,\u001b[38;5;124m\"\u001b[39m\u001b[38;5;124manwar\u001b[39m\u001b[38;5;124m\"\u001b[39m,\u001b[38;5;124m\"\u001b[39m\u001b[38;5;124mAjay\u001b[39m\u001b[38;5;124m\"\u001b[39m,[\u001b[38;5;241m1\u001b[39m,\u001b[38;5;241m2\u001b[39m,\u001b[38;5;241m3\u001b[39m]}\n",
      "\u001b[1;31mTypeError\u001b[0m: unhashable type: 'list'"
     ]
    }
   ],
   "source": [
    "#set mai indexing ke time error aati hai because it stores value in hash index format\n",
    "s={1,1,3,4,5,6,6,\"ajay\",\"arun\",\"anwar\",\"anwar\",\"Ajay\",[1,2,3]} \n",
    "# upr wali set error dega because isme list dali hai or koi vi chij jo mutable hai string,list ye sb unka hash nai kr skte"
   ]
  },
  {
   "cell_type": "code",
   "execution_count": 68,
   "id": "b32269ef",
   "metadata": {},
   "outputs": [
    {
     "data": {
      "text/plain": [
       "{(1, 2, 3), 1, 3, 4, 5, 6, 'Ajay', 'ajay', 'anwar', 'arun'}"
      ]
     },
     "execution_count": 68,
     "metadata": {},
     "output_type": "execute_result"
    }
   ],
   "source": [
    "s={1,1,3,4,5,6,6,\"ajay\",\"arun\",\"anwar\",\"anwar\",\"Ajay\",(1,2,3)}\n",
    "#ab ye error nai dega kyunki tupple immutable hai\n",
    "s"
   ]
  },
  {
   "cell_type": "code",
   "execution_count": 69,
   "id": "dc1039f0",
   "metadata": {},
   "outputs": [
    {
     "name": "stdout",
     "output_type": "stream",
     "text": [
      "ajay\n",
      "1\n",
      "3\n",
      "4\n",
      "5\n",
      "6\n",
      "arun\n",
      "(1, 2, 3)\n",
      "Ajay\n",
      "anwar\n"
     ]
    }
   ],
   "source": [
    "for i in s:\n",
    "    print(i)"
   ]
  },
  {
   "cell_type": "code",
   "execution_count": 70,
   "id": "3ca0eba8",
   "metadata": {},
   "outputs": [
    {
     "data": {
      "text/plain": [
       "10"
      ]
     },
     "execution_count": 70,
     "metadata": {},
     "output_type": "execute_result"
    }
   ],
   "source": [
    "len(s)"
   ]
  },
  {
   "cell_type": "code",
   "execution_count": 71,
   "id": "7f52b10b",
   "metadata": {},
   "outputs": [
    {
     "data": {
      "text/plain": [
       "'ajay'"
      ]
     },
     "execution_count": 71,
     "metadata": {},
     "output_type": "execute_result"
    }
   ],
   "source": [
    "s.pop() #unlike list jisme last element remove hota tha yha pr koi vi random delete hoga since set is unordered"
   ]
  },
  {
   "cell_type": "code",
   "execution_count": 72,
   "id": "161ee248",
   "metadata": {},
   "outputs": [],
   "source": [
    "#agr unordered na krke apne man se ek element hatana hai th use remove\n",
    "s.remove('Ajay') # mera Ajay hatane ka man tha or hat gya ab"
   ]
  },
  {
   "cell_type": "code",
   "execution_count": 73,
   "id": "f015c638",
   "metadata": {},
   "outputs": [
    {
     "data": {
      "text/plain": [
       "{(1, 2, 3), 1, 3, 4, 5, 6, 'anwar', 'arun'}"
      ]
     },
     "execution_count": 73,
     "metadata": {},
     "output_type": "execute_result"
    }
   ],
   "source": [
    "s"
   ]
  },
  {
   "cell_type": "code",
   "execution_count": 74,
   "id": "6347da50",
   "metadata": {},
   "outputs": [],
   "source": [
    "#ab meko kuch jodna hai set mai to i can use UPDATE pr integer nai jod skte update se\n",
    "s.update(\"2\")"
   ]
  },
  {
   "cell_type": "code",
   "execution_count": 75,
   "id": "db37907a",
   "metadata": {},
   "outputs": [
    {
     "data": {
      "text/plain": [
       "{(1, 2, 3), 1, '2', 3, 4, 5, 6, 'anwar', 'arun'}"
      ]
     },
     "execution_count": 75,
     "metadata": {},
     "output_type": "execute_result"
    }
   ],
   "source": [
    "s"
   ]
  },
  {
   "cell_type": "code",
   "execution_count": 76,
   "id": "0f8f67b9",
   "metadata": {},
   "outputs": [
    {
     "ename": "TypeError",
     "evalue": "'int' object is not iterable",
     "output_type": "error",
     "traceback": [
      "\u001b[1;31m---------------------------------------------------------------------------\u001b[0m",
      "\u001b[1;31mTypeError\u001b[0m                                 Traceback (most recent call last)",
      "Cell \u001b[1;32mIn[76], line 2\u001b[0m\n\u001b[0;32m      1\u001b[0m \u001b[38;5;66;03m#whi agr int jodne ka try krte to\u001b[39;00m\n\u001b[1;32m----> 2\u001b[0m s\u001b[38;5;241m.\u001b[39mupdate(\u001b[38;5;241m2\u001b[39m)\n",
      "\u001b[1;31mTypeError\u001b[0m: 'int' object is not iterable"
     ]
    }
   ],
   "source": [
    "#whi agr int jodne ka try krte to\n",
    "s.update(2) #error aa jani thi"
   ]
  },
  {
   "cell_type": "code",
   "execution_count": 78,
   "id": "c017761e",
   "metadata": {},
   "outputs": [],
   "source": [
    "#set delete krne ke liye we can use del\n",
    "del s"
   ]
  },
  {
   "cell_type": "code",
   "execution_count": 80,
   "id": "feb3d517",
   "metadata": {},
   "outputs": [
    {
     "ename": "NameError",
     "evalue": "name 's' is not defined",
     "output_type": "error",
     "traceback": [
      "\u001b[1;31m---------------------------------------------------------------------------\u001b[0m",
      "\u001b[1;31mNameError\u001b[0m                                 Traceback (most recent call last)",
      "Cell \u001b[1;32mIn[80], line 1\u001b[0m\n\u001b[1;32m----> 1\u001b[0m s\n",
      "\u001b[1;31mNameError\u001b[0m: name 's' is not defined"
     ]
    }
   ],
   "source": [
    "s # ab s nai aayga erroe aayga"
   ]
  },
  {
   "cell_type": "code",
   "execution_count": 82,
   "id": "2f90972f",
   "metadata": {},
   "outputs": [],
   "source": [
    "#ab meko set rakhna hai pr uske andr ke element nai to\n",
    "s={1,1,3,4,5,6,6,\"ajay\",\"arun\",\"anwar\",\"anwar\",\"Ajay\"}\n",
    "s.clear()"
   ]
  },
  {
   "cell_type": "code",
   "execution_count": 83,
   "id": "35260ff1",
   "metadata": {},
   "outputs": [
    {
     "data": {
      "text/plain": [
       "set()"
      ]
     },
     "execution_count": 83,
     "metadata": {},
     "output_type": "execute_result"
    }
   ],
   "source": [
    "s"
   ]
  },
  {
   "cell_type": "code",
   "execution_count": 88,
   "id": "db6bae69",
   "metadata": {},
   "outputs": [],
   "source": [
    "#koi particular element htane ke liye we can use discard\n",
    "s={1,1,3,4,5,6,6,\"ajay\",\"arun\",\"anwar\",\"anwar\",\"Ajay\"}\n",
    "s.discard(6)"
   ]
  },
  {
   "cell_type": "code",
   "execution_count": 89,
   "id": "ab0d5670",
   "metadata": {},
   "outputs": [
    {
     "data": {
      "text/plain": [
       "{1, 3, 4, 5, 'Ajay', 'ajay', 'anwar', 'arun'}"
      ]
     },
     "execution_count": 89,
     "metadata": {},
     "output_type": "execute_result"
    }
   ],
   "source": [
    "s"
   ]
  },
  {
   "cell_type": "code",
   "execution_count": 91,
   "id": "fd87c147",
   "metadata": {},
   "outputs": [
    {
     "ename": "KeyError",
     "evalue": "'86'",
     "output_type": "error",
     "traceback": [
      "\u001b[1;31m---------------------------------------------------------------------------\u001b[0m",
      "\u001b[1;31mKeyError\u001b[0m                                  Traceback (most recent call last)",
      "Cell \u001b[1;32mIn[91], line 3\u001b[0m\n\u001b[0;32m      1\u001b[0m \u001b[38;5;66;03m#diffrence discard and remove ka hai ki:\u001b[39;00m\n\u001b[0;32m      2\u001b[0m \u001b[38;5;66;03m#mano koi element hai set ke andar nai hai avi or maine remove mai daal diya to error aa jayga pr discard mai nai aayga\u001b[39;00m\n\u001b[1;32m----> 3\u001b[0m s\u001b[38;5;241m.\u001b[39mremove(\u001b[38;5;124m\"\u001b[39m\u001b[38;5;124m86\u001b[39m\u001b[38;5;124m\"\u001b[39m)\n",
      "\u001b[1;31mKeyError\u001b[0m: '86'"
     ]
    }
   ],
   "source": [
    "#diffrence discard and remove ka hai ki:\n",
    "#mano koi element hai set ke andar nai hai avi or maine remove mai daal diya to error aa jayga pr discard mai nai aayga\n",
    "s.remove(\"86\") # ye error dega"
   ]
  },
  {
   "cell_type": "code",
   "execution_count": 93,
   "id": "d5c85ea5",
   "metadata": {},
   "outputs": [],
   "source": [
    "s={1,1,3,4,5,6,6,\"ajay\",\"arun\",\"anwar\",\"anwar\",\"Ajay\"}\n",
    "s.discard(\"86\") # ye koi error nai dega and hence discard meko acha laga"
   ]
  },
  {
   "cell_type": "markdown",
   "id": "d4ffa6f5",
   "metadata": {},
   "source": [
    "# SET Operations"
   ]
  },
  {
   "cell_type": "code",
   "execution_count": 94,
   "id": "b7894c94",
   "metadata": {},
   "outputs": [],
   "source": [
    "#UNION:combines elements from 2 sets excluding duplicates\n",
    "#INTERSECTION:Only common elements between sets\n",
    "#DIFFRENCE:return the element that is present in first set and not in second\n",
    "#SYMMETRIC DIFFRENCE:returns elements that are present in either of sets but not in both"
   ]
  },
  {
   "cell_type": "code",
   "execution_count": 95,
   "id": "cc7a3d6f",
   "metadata": {},
   "outputs": [],
   "source": [
    "s1={\"coding\",\"reading\",\"hiking\"}\n",
    "s2={\"coding\",\"photography\",\"travelling\"}"
   ]
  },
  {
   "cell_type": "code",
   "execution_count": 97,
   "id": "fc8f7497",
   "metadata": {},
   "outputs": [
    {
     "name": "stdout",
     "output_type": "stream",
     "text": [
      "coding\n"
     ]
    }
   ],
   "source": [
    "#lets say i want common from both the sets\n",
    "#ek purana method yaad krne ke liye neeche wala code likha u can ignore\n",
    "for i in s1:\n",
    "    for j in s2:\n",
    "        if i==j:\n",
    "            print(i)"
   ]
  },
  {
   "cell_type": "code",
   "execution_count": 99,
   "id": "69930948",
   "metadata": {},
   "outputs": [
    {
     "data": {
      "text/plain": [
       "{'coding'}"
      ]
     },
     "execution_count": 99,
     "metadata": {},
     "output_type": "execute_result"
    }
   ],
   "source": [
    "#lets say i want common from both the sets:will thn use intersection(&)\n",
    "s1&s2 #& hai intersection ka sign and hme output coding milega kyunki whi common hai"
   ]
  },
  {
   "cell_type": "code",
   "execution_count": 101,
   "id": "0b3d6df4",
   "metadata": {},
   "outputs": [
    {
     "data": {
      "text/plain": [
       "{'coding', 'hiking', 'photography', 'reading', 'travelling'}"
      ]
     },
     "execution_count": 101,
     "metadata": {},
     "output_type": "execute_result"
    }
   ],
   "source": [
    "#if i want union thn\n",
    "s1|s2 # chije repeat nai hongi yaad rakhna"
   ]
  },
  {
   "cell_type": "code",
   "execution_count": 103,
   "id": "844b99bb",
   "metadata": {},
   "outputs": [
    {
     "data": {
      "text/plain": [
       "{'hiking', 'reading'}"
      ]
     },
     "execution_count": 103,
     "metadata": {},
     "output_type": "execute_result"
    }
   ],
   "source": [
    "#diffrence\n",
    "s1-s2 #jo s1 mai ho pr s2 mai nai"
   ]
  },
  {
   "cell_type": "code",
   "execution_count": 105,
   "id": "ca4b35f1",
   "metadata": {},
   "outputs": [
    {
     "data": {
      "text/plain": [
       "{'hiking', 'photography', 'reading', 'travelling'}"
      ]
     },
     "execution_count": 105,
     "metadata": {},
     "output_type": "execute_result"
    }
   ],
   "source": [
    "#symmetric diffrennce(^) : sare elements bs common wale chod kr\n",
    "s1^s2 # coding nai aayga output mai kyunki wo common hai"
   ]
  },
  {
   "cell_type": "code",
   "execution_count": 106,
   "id": "97008586",
   "metadata": {},
   "outputs": [],
   "source": [
    "#frozen sets:mtlb ek aisa set bnana jisme hm na add kr skein na remove elements ko frozen type\n",
    "s={1,2,3,4,5}"
   ]
  },
  {
   "cell_type": "code",
   "execution_count": 109,
   "id": "b184a821",
   "metadata": {},
   "outputs": [],
   "source": [
    "s.add(\"2\") # ab jaise es s mai to add ho gya pr frozen hota to nai hota"
   ]
  },
  {
   "cell_type": "code",
   "execution_count": 110,
   "id": "5cfd4f66",
   "metadata": {},
   "outputs": [
    {
     "data": {
      "text/plain": [
       "{1, 2, '2', 3, 4, 5}"
      ]
     },
     "execution_count": 110,
     "metadata": {},
     "output_type": "execute_result"
    }
   ],
   "source": [
    "s"
   ]
  },
  {
   "cell_type": "code",
   "execution_count": 111,
   "id": "0912a592",
   "metadata": {},
   "outputs": [],
   "source": [
    "my_frozenset=frozenset([1,2,3,4,5])"
   ]
  },
  {
   "cell_type": "code",
   "execution_count": 112,
   "id": "58eee450",
   "metadata": {},
   "outputs": [
    {
     "data": {
      "text/plain": [
       "frozenset({1, 2, 3, 4, 5})"
      ]
     },
     "execution_count": 112,
     "metadata": {},
     "output_type": "execute_result"
    }
   ],
   "source": [
    "my_frozenset"
   ]
  },
  {
   "cell_type": "code",
   "execution_count": 113,
   "id": "c95df5b2",
   "metadata": {},
   "outputs": [
    {
     "data": {
      "text/plain": [
       "frozenset"
      ]
     },
     "execution_count": 113,
     "metadata": {},
     "output_type": "execute_result"
    }
   ],
   "source": [
    "type(my_frozenset)"
   ]
  },
  {
   "cell_type": "code",
   "execution_count": 115,
   "id": "8f6b54e8",
   "metadata": {},
   "outputs": [
    {
     "ename": "AttributeError",
     "evalue": "'frozenset' object has no attribute 'add'",
     "output_type": "error",
     "traceback": [
      "\u001b[1;31m---------------------------------------------------------------------------\u001b[0m",
      "\u001b[1;31mAttributeError\u001b[0m                            Traceback (most recent call last)",
      "Cell \u001b[1;32mIn[115], line 1\u001b[0m\n\u001b[1;32m----> 1\u001b[0m my_frozenset\u001b[38;5;241m.\u001b[39madd(\u001b[38;5;241m5\u001b[39m)\n",
      "\u001b[1;31mAttributeError\u001b[0m: 'frozenset' object has no attribute 'add'"
     ]
    }
   ],
   "source": [
    "my_frozenset.add(5) # error dega kyunki changes nai kr skte frozen set mai"
   ]
  },
  {
   "cell_type": "code",
   "execution_count": 117,
   "id": "7d3afc85",
   "metadata": {},
   "outputs": [
    {
     "ename": "AttributeError",
     "evalue": "'frozenset' object has no attribute 'pop'",
     "output_type": "error",
     "traceback": [
      "\u001b[1;31m---------------------------------------------------------------------------\u001b[0m",
      "\u001b[1;31mAttributeError\u001b[0m                            Traceback (most recent call last)",
      "Cell \u001b[1;32mIn[117], line 1\u001b[0m\n\u001b[1;32m----> 1\u001b[0m my_frozenset\u001b[38;5;241m.\u001b[39mpop()\n",
      "\u001b[1;31mAttributeError\u001b[0m: 'frozenset' object has no attribute 'pop'"
     ]
    }
   ],
   "source": [
    "my_frozenset.pop() # error dega kyunki changes nai kr skte frozen set mai"
   ]
  },
  {
   "cell_type": "code",
   "execution_count": 118,
   "id": "54e668f9",
   "metadata": {},
   "outputs": [
    {
     "name": "stdout",
     "output_type": "stream",
     "text": [
      "1\n",
      "2\n",
      "3\n",
      "4\n",
      "5\n"
     ]
    }
   ],
   "source": [
    "#bt yes iske elements dekh skte hain hm\n",
    "#eg\n",
    "for i in my_frozenset:\n",
    "    print(i)"
   ]
  },
  {
   "cell_type": "code",
   "execution_count": null,
   "id": "29db35de",
   "metadata": {},
   "outputs": [],
   "source": []
  }
 ],
 "metadata": {
  "kernelspec": {
   "display_name": "Python 3 (ipykernel)",
   "language": "python",
   "name": "python3"
  },
  "language_info": {
   "codemirror_mode": {
    "name": "ipython",
    "version": 3
   },
   "file_extension": ".py",
   "mimetype": "text/x-python",
   "name": "python",
   "nbconvert_exporter": "python",
   "pygments_lexer": "ipython3",
   "version": "3.11.5"
  }
 },
 "nbformat": 4,
 "nbformat_minor": 5
}
