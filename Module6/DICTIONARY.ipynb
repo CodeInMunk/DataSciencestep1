{
 "cells": [
  {
   "cell_type": "code",
   "execution_count": 4,
   "id": "3d98f066",
   "metadata": {},
   "outputs": [],
   "source": [
    "#dictionary is a data structure that stores data as key value pair\n",
    "#dictionary is unordered , keys are unique and immutable\n",
    "s={}"
   ]
  },
  {
   "cell_type": "code",
   "execution_count": 2,
   "id": "31f7e6e3",
   "metadata": {},
   "outputs": [
    {
     "data": {
      "text/plain": [
       "dict"
      ]
     },
     "execution_count": 2,
     "metadata": {},
     "output_type": "execute_result"
    }
   ],
   "source": [
    "type(s)"
   ]
  },
  {
   "cell_type": "code",
   "execution_count": 7,
   "id": "488764a0",
   "metadata": {},
   "outputs": [],
   "source": [
    "d={\"name\":\"Harshit\",\"email\":\"hs@gmail.com\",\"profession\":\"data scientist\",33:55}\n",
    "#yha pr name,email and profession ko khte hain key\n",
    "#harshit,hs@gmail.com,data scientist ko khte hain value\n",
    "#key works as index"
   ]
  },
  {
   "cell_type": "code",
   "execution_count": 8,
   "id": "381a82de",
   "metadata": {},
   "outputs": [
    {
     "data": {
      "text/plain": [
       "'Harshit'"
      ]
     },
     "execution_count": 8,
     "metadata": {},
     "output_type": "execute_result"
    }
   ],
   "source": [
    "#key works as index\n",
    "d[\"name\"]"
   ]
  },
  {
   "cell_type": "code",
   "execution_count": 9,
   "id": "60e0138f",
   "metadata": {},
   "outputs": [],
   "source": [
    "#as we said key is immutable bt value is not therefore\n",
    "d[\"name\"]=\"Anwar\""
   ]
  },
  {
   "cell_type": "code",
   "execution_count": 10,
   "id": "9778e93f",
   "metadata": {},
   "outputs": [
    {
     "data": {
      "text/plain": [
       "{'name': 'Anwar',\n",
       " 'email': 'hs@gmail.com',\n",
       " 'profession': 'data scientist',\n",
       " 33: 55}"
      ]
     },
     "execution_count": 10,
     "metadata": {},
     "output_type": "execute_result"
    }
   ],
   "source": [
    "d"
   ]
  },
  {
   "cell_type": "code",
   "execution_count": 16,
   "id": "de7710ca",
   "metadata": {},
   "outputs": [
    {
     "name": "stdout",
     "output_type": "stream",
     "text": [
      "name Anwar\n",
      "email hs@gmail.com\n",
      "profession data scientist\n",
      "33 55\n"
     ]
    },
    {
     "data": {
      "text/plain": [
       "[None, None, None, None]"
      ]
     },
     "execution_count": 16,
     "metadata": {},
     "output_type": "execute_result"
    }
   ],
   "source": [
    "[print(key, d[key]) for key in d]\n"
   ]
  },
  {
   "cell_type": "code",
   "execution_count": 17,
   "id": "6767bb59",
   "metadata": {},
   "outputs": [],
   "source": [
    "#agr dictionary mai key do baar aa jay same same to last wale key ki value se phle wala overwrite ho jayga\n",
    "d={\"name\":\"Harshit\",\"email\":\"hs@gmail.com\",\"profession\":\"data scientist\",33:55,\"email\":\"singhharshit0503@gmail.com\"}"
   ]
  },
  {
   "cell_type": "code",
   "execution_count": 19,
   "id": "9f9b90cc",
   "metadata": {},
   "outputs": [
    {
     "data": {
      "text/plain": [
       "{'name': 'Harshit',\n",
       " 'email': 'singhharshit0503@gmail.com',\n",
       " 'profession': 'data scientist',\n",
       " 33: 55}"
      ]
     },
     "execution_count": 19,
     "metadata": {},
     "output_type": "execute_result"
    }
   ],
   "source": [
    "d # hs wali email id hat kr ab bs ek id show krega singhharshit bwali"
   ]
  },
  {
   "cell_type": "code",
   "execution_count": 20,
   "id": "9a12b95b",
   "metadata": {},
   "outputs": [
    {
     "ename": "SyntaxError",
     "evalue": "incomplete input (1018224674.py, line 2)",
     "output_type": "error",
     "traceback": [
      "\u001b[1;36m  Cell \u001b[1;32mIn[20], line 2\u001b[1;36m\u001b[0m\n\u001b[1;33m    d={\"s\":3,4:33,2.3:55,#:53}\u001b[0m\n\u001b[1;37m                              ^\u001b[0m\n\u001b[1;31mSyntaxError\u001b[0m\u001b[1;31m:\u001b[0m incomplete input\n"
     ]
    }
   ],
   "source": [
    "#key mai float,int,string kuch vi de skte hain bt not special character like #,@,$ ye sb nai\n",
    "d={\"s\":3,4:33,2.3:55,#:53}  # ye jo hash lagaya wo error dega"
   ]
  },
  {
   "cell_type": "code",
   "execution_count": 21,
   "id": "002b7a1b",
   "metadata": {},
   "outputs": [],
   "source": [
    "d={\"s\":3,4:33,2.3:55} # ab bina special character ke it will work"
   ]
  },
  {
   "cell_type": "code",
   "execution_count": 25,
   "id": "3aefbfd1",
   "metadata": {},
   "outputs": [
    {
     "ename": "TypeError",
     "evalue": "unhashable type: 'list'",
     "output_type": "error",
     "traceback": [
      "\u001b[1;31m---------------------------------------------------------------------------\u001b[0m",
      "\u001b[1;31mTypeError\u001b[0m                                 Traceback (most recent call last)",
      "Cell \u001b[1;32mIn[25], line 2\u001b[0m\n\u001b[0;32m      1\u001b[0m \u001b[38;5;66;03m#now since key is immutable so therefore we can use list as key error dega tuple nai dega since its immutable\u001b[39;00m\n\u001b[1;32m----> 2\u001b[0m d\u001b[38;5;241m=\u001b[39m{[\u001b[38;5;241m1\u001b[39m,\u001b[38;5;241m2\u001b[39m,\u001b[38;5;241m3\u001b[39m]:\u001b[38;5;124m\"\u001b[39m\u001b[38;5;124mfdgfsfg\u001b[39m\u001b[38;5;124m\"\u001b[39m}\n",
      "\u001b[1;31mTypeError\u001b[0m: unhashable type: 'list'"
     ]
    }
   ],
   "source": [
    "#now since key is immutable so therefore we can use list as key error dega tuple nai dega since its immutable\n",
    "d={[1,2,3]:\"fdgfsfg\"}"
   ]
  },
  {
   "cell_type": "code",
   "execution_count": 27,
   "id": "1341328a",
   "metadata": {},
   "outputs": [
    {
     "ename": "TypeError",
     "evalue": "unhashable type: 'dict'",
     "output_type": "error",
     "traceback": [
      "\u001b[1;31m---------------------------------------------------------------------------\u001b[0m",
      "\u001b[1;31mTypeError\u001b[0m                                 Traceback (most recent call last)",
      "Cell \u001b[1;32mIn[27], line 1\u001b[0m\n\u001b[1;32m----> 1\u001b[0m d\u001b[38;5;241m=\u001b[39m{{\u001b[38;5;124m\"\u001b[39m\u001b[38;5;124mkey\u001b[39m\u001b[38;5;124m\"\u001b[39m:\u001b[38;5;241m123\u001b[39m}:\u001b[38;5;124m\"\u001b[39m\u001b[38;5;124mabc\u001b[39m\u001b[38;5;124m\"\u001b[39m}\n",
      "\u001b[1;31mTypeError\u001b[0m: unhashable type: 'dict'"
     ]
    }
   ],
   "source": [
    "d={{\"key\":123}:\"abc\"} #this will also show error kyunki dictionary mai value bdl skte hain na bs key nai bdl pate so wo dict kind of mutable hai"
   ]
  },
  {
   "cell_type": "code",
   "execution_count": 28,
   "id": "dd518612",
   "metadata": {},
   "outputs": [],
   "source": [
    "#set vi agr key ki jgh dalenge to error dega"
   ]
  },
  {
   "cell_type": "code",
   "execution_count": 44,
   "id": "17e005c6",
   "metadata": {},
   "outputs": [
    {
     "data": {
      "text/plain": [
       "dict_values(['Harshit', 'hs@gmail.com', 'data scientist', 55])"
      ]
     },
     "execution_count": 44,
     "metadata": {},
     "output_type": "execute_result"
    }
   ],
   "source": [
    "#sari keys dekhni hongi to\n",
    "d={\"name\":\"Harshit\",\"email\":\"hs@gmail.com\",\"profession\":\"data scientist\",33:55}\n",
    "d.values()"
   ]
  },
  {
   "cell_type": "code",
   "execution_count": 45,
   "id": "4509f5c1",
   "metadata": {},
   "outputs": [
    {
     "data": {
      "text/plain": [
       "dict_keys(['name', 'email', 'profession', 33])"
      ]
     },
     "execution_count": 45,
     "metadata": {},
     "output_type": "execute_result"
    }
   ],
   "source": [
    "#sari keys dekhni hongi to\n",
    "d.keys()"
   ]
  },
  {
   "cell_type": "code",
   "execution_count": 46,
   "id": "6dde70fa",
   "metadata": {},
   "outputs": [
    {
     "data": {
      "text/plain": [
       "dict_items([('name', 'Harshit'), ('email', 'hs@gmail.com'), ('profession', 'data scientist'), (33, 55)])"
      ]
     },
     "execution_count": 46,
     "metadata": {},
     "output_type": "execute_result"
    }
   ],
   "source": [
    "d.items()"
   ]
  },
  {
   "cell_type": "code",
   "execution_count": 47,
   "id": "7321a241",
   "metadata": {},
   "outputs": [],
   "source": [
    "#deep copy\n",
    "d1=d.copy()"
   ]
  },
  {
   "cell_type": "code",
   "execution_count": 48,
   "id": "30ed36bc",
   "metadata": {},
   "outputs": [
    {
     "data": {
      "text/plain": [
       "{'name': 'Harshit',\n",
       " 'email': 'hs@gmail.com',\n",
       " 'profession': 'data scientist',\n",
       " 33: 55}"
      ]
     },
     "execution_count": 48,
     "metadata": {},
     "output_type": "execute_result"
    }
   ],
   "source": [
    "d1"
   ]
  },
  {
   "cell_type": "code",
   "execution_count": 49,
   "id": "15cb6b9b",
   "metadata": {},
   "outputs": [],
   "source": [
    "d1=d # shallow copy"
   ]
  },
  {
   "cell_type": "code",
   "execution_count": 50,
   "id": "e31b823c",
   "metadata": {},
   "outputs": [
    {
     "data": {
      "text/plain": [
       "{'name': 'Harshit',\n",
       " 'email': 'hs@gmail.com',\n",
       " 'profession': 'data scientist',\n",
       " 33: 55}"
      ]
     },
     "execution_count": 50,
     "metadata": {},
     "output_type": "execute_result"
    }
   ],
   "source": [
    "d1\n"
   ]
  },
  {
   "cell_type": "code",
   "execution_count": 51,
   "id": "17432507",
   "metadata": {},
   "outputs": [],
   "source": [
    "#to delete dictionary\n",
    "del d1"
   ]
  },
  {
   "cell_type": "code",
   "execution_count": 52,
   "id": "e75da924",
   "metadata": {},
   "outputs": [
    {
     "ename": "NameError",
     "evalue": "name 'd1' is not defined",
     "output_type": "error",
     "traceback": [
      "\u001b[1;31m---------------------------------------------------------------------------\u001b[0m",
      "\u001b[1;31mNameError\u001b[0m                                 Traceback (most recent call last)",
      "Cell \u001b[1;32mIn[52], line 1\u001b[0m\n\u001b[1;32m----> 1\u001b[0m d1\n",
      "\u001b[1;31mNameError\u001b[0m: name 'd1' is not defined"
     ]
    }
   ],
   "source": [
    "d1 # ab error dega since delete krdi hmne d1"
   ]
  },
  {
   "cell_type": "code",
   "execution_count": 53,
   "id": "3a861dfa",
   "metadata": {},
   "outputs": [
    {
     "data": {
      "text/plain": [
       "55"
      ]
     },
     "execution_count": 53,
     "metadata": {},
     "output_type": "execute_result"
    }
   ],
   "source": [
    "d.pop(33) # jo vi key value htani hai yha pop mai likh do delete ho jaygi"
   ]
  },
  {
   "cell_type": "code",
   "execution_count": 54,
   "id": "52b94127",
   "metadata": {},
   "outputs": [
    {
     "data": {
      "text/plain": [
       "{'name': 'Harshit', 'email': 'hs@gmail.com', 'profession': 'data scientist'}"
      ]
     },
     "execution_count": 54,
     "metadata": {},
     "output_type": "execute_result"
    }
   ],
   "source": [
    "d"
   ]
  },
  {
   "cell_type": "code",
   "execution_count": 61,
   "id": "14c4763c",
   "metadata": {},
   "outputs": [
    {
     "data": {
      "text/plain": [
       "{'name': ['ajay', 'harshit', 'rahul']}"
      ]
     },
     "execution_count": 61,
     "metadata": {},
     "output_type": "execute_result"
    }
   ],
   "source": [
    "d={\"name\":[\"ajay\",\"harshit\",\"rahul\"]}\n",
    "d"
   ]
  },
  {
   "cell_type": "code",
   "execution_count": 62,
   "id": "1ee13813",
   "metadata": {},
   "outputs": [
    {
     "data": {
      "text/plain": [
       "{'course': 'DS', 'starts': '28th march'}"
      ]
     },
     "execution_count": 62,
     "metadata": {},
     "output_type": "execute_result"
    }
   ],
   "source": [
    "d1={\"course\":\"DS\",\"starts\":\"28th march\"}\n",
    "d1"
   ]
  },
  {
   "cell_type": "code",
   "execution_count": 63,
   "id": "f5aedba1",
   "metadata": {},
   "outputs": [],
   "source": [
    "#ab agr mai chahta hun ki d jo dictionary hai usme d1 ki sari values aa jay to will use update()\n",
    "d.update(d1)"
   ]
  },
  {
   "cell_type": "code",
   "execution_count": 64,
   "id": "8b967ba5",
   "metadata": {},
   "outputs": [
    {
     "data": {
      "text/plain": [
       "{'name': ['ajay', 'harshit', 'rahul'], 'course': 'DS', 'starts': '28th march'}"
      ]
     },
     "execution_count": 64,
     "metadata": {},
     "output_type": "execute_result"
    }
   ],
   "source": [
    "d"
   ]
  },
  {
   "cell_type": "code",
   "execution_count": 66,
   "id": "eb0d422d",
   "metadata": {},
   "outputs": [
    {
     "data": {
      "text/plain": [
       "'28th march'"
      ]
     },
     "execution_count": 66,
     "metadata": {},
     "output_type": "execute_result"
    }
   ],
   "source": [
    "d[\"starts\"]"
   ]
  },
  {
   "cell_type": "code",
   "execution_count": 67,
   "id": "dfeac989",
   "metadata": {},
   "outputs": [
    {
     "data": {
      "text/plain": [
       "'28th march'"
      ]
     },
     "execution_count": 67,
     "metadata": {},
     "output_type": "execute_result"
    }
   ],
   "source": [
    "# same above thing can be done by get()\n",
    "d.get(\"starts\")"
   ]
  },
  {
   "cell_type": "code",
   "execution_count": 70,
   "id": "6bb69dcc",
   "metadata": {},
   "outputs": [
    {
     "data": {
      "text/plain": [
       "{1: ('a', 'b', 'c'), 2: ('a', 'b', 'c'), 3: ('a', 'b', 'c')}"
      ]
     },
     "execution_count": 70,
     "metadata": {},
     "output_type": "execute_result"
    }
   ],
   "source": [
    "d.fromkeys((1,2,3),(\"a\",\"b\",\"c\"))\n",
    "#isse hoga kya ki 1 ek key bnega or uske liye a,b,c value bnega fir 2 ek key bnega and a,b,c uski value bnega fir 3 ek key bnega and same a,b,c uski value bnega"
   ]
  },
  {
   "cell_type": "code",
   "execution_count": 71,
   "id": "81cfd152",
   "metadata": {},
   "outputs": [],
   "source": [
    "#dictionary comprehension"
   ]
  },
  {
   "cell_type": "code",
   "execution_count": 73,
   "id": "bf8d8077",
   "metadata": {},
   "outputs": [
    {
     "name": "stdout",
     "output_type": "stream",
     "text": [
      "{'arun': 80, 'varun': 90, 'tarun': 100}\n"
     ]
    }
   ],
   "source": [
    "students = [\"arun\", \"varun\", \"tarun\"]\n",
    "marks = [80, 90, 100]\n",
    "\n",
    "result = {students[i]: marks[i] for i in range(len(students))}\n",
    "print(result)\n"
   ]
  },
  {
   "cell_type": "code",
   "execution_count": 77,
   "id": "d9f30cb2",
   "metadata": {},
   "outputs": [
    {
     "data": {
      "text/plain": [
       "{'arun': 80, 'varun': 90, 'tarun': 100}"
      ]
     },
     "execution_count": 77,
     "metadata": {},
     "output_type": "execute_result"
    }
   ],
   "source": [
    "students = [\"arun\", \"varun\", \"tarun\"]\n",
    "marks = [80, 90, 100]\n",
    "\n",
    "output=dict(zip(students,marks))\n",
    "output"
   ]
  },
  {
   "cell_type": "code",
   "execution_count": 81,
   "id": "f6aa65d6",
   "metadata": {},
   "outputs": [
    {
     "name": "stdout",
     "output_type": "stream",
     "text": [
      "(80, 'arun')\n",
      "(90, 'varun')\n",
      "(100, 'tarun')\n"
     ]
    }
   ],
   "source": [
    "for i in zip(marks,students):\n",
    "    print(i)"
   ]
  },
  {
   "cell_type": "code",
   "execution_count": 82,
   "id": "cfec9072",
   "metadata": {},
   "outputs": [
    {
     "data": {
      "text/plain": [
       "{'arun': 80, 'varun': 90, 'tarun': 100}"
      ]
     },
     "execution_count": 82,
     "metadata": {},
     "output_type": "execute_result"
    }
   ],
   "source": [
    "{students:marks for students,marks in zip(students,marks)}"
   ]
  },
  {
   "cell_type": "code",
   "execution_count": 91,
   "id": "ac34c092",
   "metadata": {},
   "outputs": [
    {
     "data": {
      "text/plain": [
       "{1: 'hello', 2: 'tata', 3: 'bata'}"
      ]
     },
     "execution_count": 91,
     "metadata": {},
     "output_type": "execute_result"
    }
   ],
   "source": [
    "user_id=[1,2,3]\n",
    "user_password=[\"hello\",\"tata\",\"bata\"]\n",
    "{u_id:u_password for u_id,u_password in zip(user_id,user_password)}"
   ]
  },
  {
   "cell_type": "code",
   "execution_count": null,
   "id": "eafd0ef8",
   "metadata": {},
   "outputs": [],
   "source": []
  }
 ],
 "metadata": {
  "kernelspec": {
   "display_name": "Python 3 (ipykernel)",
   "language": "python",
   "name": "python3"
  },
  "language_info": {
   "codemirror_mode": {
    "name": "ipython",
    "version": 3
   },
   "file_extension": ".py",
   "mimetype": "text/x-python",
   "name": "python",
   "nbconvert_exporter": "python",
   "pygments_lexer": "ipython3",
   "version": "3.11.5"
  }
 },
 "nbformat": 4,
 "nbformat_minor": 5
}
