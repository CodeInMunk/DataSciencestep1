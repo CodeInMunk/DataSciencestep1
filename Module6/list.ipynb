{
 "cells": [
  {
   "cell_type": "code",
   "execution_count": 29,
   "id": "d1eba640",
   "metadata": {},
   "outputs": [],
   "source": [
    "#list are ordered collection of items\n",
    "#it can store any  data type\n"
   ]
  },
  {
   "cell_type": "code",
   "execution_count": 30,
   "id": "c7bdfcdc",
   "metadata": {},
   "outputs": [
    {
     "data": {
      "text/plain": [
       "list"
      ]
     },
     "execution_count": 30,
     "metadata": {},
     "output_type": "execute_result"
    }
   ],
   "source": [
    "type([])"
   ]
  },
  {
   "cell_type": "code",
   "execution_count": 31,
   "id": "cd08ef3f",
   "metadata": {},
   "outputs": [],
   "source": [
    "grocery_list=[\"milk\",\"orange\",1,2,3,True,2+4j,2.3]"
   ]
  },
  {
   "cell_type": "code",
   "execution_count": 32,
   "id": "81f7f309",
   "metadata": {},
   "outputs": [
    {
     "data": {
      "text/plain": [
       "list"
      ]
     },
     "execution_count": 32,
     "metadata": {},
     "output_type": "execute_result"
    }
   ],
   "source": [
    "type(grocery_list)"
   ]
  },
  {
   "cell_type": "code",
   "execution_count": 33,
   "id": "e3d0115b",
   "metadata": {},
   "outputs": [
    {
     "data": {
      "text/plain": [
       "['milk', 'orange', 1, 2, 3, True, (2+4j), 2.3]"
      ]
     },
     "execution_count": 33,
     "metadata": {},
     "output_type": "execute_result"
    }
   ],
   "source": [
    "grocery_list"
   ]
  },
  {
   "cell_type": "code",
   "execution_count": 34,
   "id": "b0886413",
   "metadata": {},
   "outputs": [],
   "source": [
    "#list are mutable: changes kiye ja skte hain"
   ]
  },
  {
   "cell_type": "code",
   "execution_count": 35,
   "id": "f14b4d85",
   "metadata": {},
   "outputs": [
    {
     "data": {
      "text/plain": [
       "'orange'"
      ]
     },
     "execution_count": 35,
     "metadata": {},
     "output_type": "execute_result"
    }
   ],
   "source": [
    "#elements in list are easily acessible due to index\n",
    "grocery_list[1]\n"
   ]
  },
  {
   "cell_type": "code",
   "execution_count": 36,
   "id": "dee99acf",
   "metadata": {},
   "outputs": [
    {
     "data": {
      "text/plain": [
       "2.3"
      ]
     },
     "execution_count": 36,
     "metadata": {},
     "output_type": "execute_result"
    }
   ],
   "source": [
    "grocery_list[-1]"
   ]
  },
  {
   "cell_type": "code",
   "execution_count": 37,
   "id": "e2af4c88",
   "metadata": {},
   "outputs": [
    {
     "data": {
      "text/plain": [
       "['orange', 1, 2, 3, True, (2+4j), 2.3]"
      ]
     },
     "execution_count": 37,
     "metadata": {},
     "output_type": "execute_result"
    }
   ],
   "source": [
    "#kha se shuru krni hai list to usme andr wo likh do\n",
    "grocery_list[1:]  #[start:end+1:step size]"
   ]
  },
  {
   "cell_type": "code",
   "execution_count": 38,
   "id": "bb05dd91",
   "metadata": {},
   "outputs": [
    {
     "data": {
      "text/plain": [
       "['orange', 1, 2]"
      ]
     },
     "execution_count": 38,
     "metadata": {},
     "output_type": "execute_result"
    }
   ],
   "source": [
    "grocery_list[1:4]"
   ]
  },
  {
   "cell_type": "code",
   "execution_count": 39,
   "id": "75275d5b",
   "metadata": {},
   "outputs": [
    {
     "data": {
      "text/plain": [
       "['Action1', 'Action2', 'Action3']"
      ]
     },
     "execution_count": 39,
     "metadata": {},
     "output_type": "execute_result"
    }
   ],
   "source": [
    "movies=[\"Action1\",\"Action2\",\"Action3\",\"comedy1\"]\n",
    "movies[0:3]"
   ]
  },
  {
   "cell_type": "code",
   "execution_count": 40,
   "id": "4f9cd000",
   "metadata": {},
   "outputs": [
    {
     "data": {
      "text/plain": [
       "'index'"
      ]
     },
     "execution_count": 40,
     "metadata": {},
     "output_type": "execute_result"
    }
   ],
   "source": [
    "pages=[\"Title page\",\"chapter1\",\"chapter2\",\"conclusion\",\"index\"]\n",
    "pages[-1]"
   ]
  },
  {
   "cell_type": "code",
   "execution_count": 41,
   "id": "ad6bfafa",
   "metadata": {},
   "outputs": [
    {
     "data": {
      "text/plain": [
       "'conclusion'"
      ]
     },
     "execution_count": 41,
     "metadata": {},
     "output_type": "execute_result"
    }
   ],
   "source": [
    "pages[-2]"
   ]
  },
  {
   "cell_type": "code",
   "execution_count": 42,
   "id": "bcec5f9d",
   "metadata": {},
   "outputs": [
    {
     "data": {
      "text/plain": [
       "['apple', 'banana']"
      ]
     },
     "execution_count": 42,
     "metadata": {},
     "output_type": "execute_result"
    }
   ],
   "source": [
    "#to add an item in a list we use append\n",
    "list1=[\"apple\",\"banana\"]\n",
    "list1"
   ]
  },
  {
   "cell_type": "code",
   "execution_count": 43,
   "id": "e5d143f7",
   "metadata": {},
   "outputs": [],
   "source": [
    "list1.append(\"orange\") # yha pr item add kr diya "
   ]
  },
  {
   "cell_type": "code",
   "execution_count": 44,
   "id": "6c2100e5",
   "metadata": {},
   "outputs": [
    {
     "data": {
      "text/plain": [
       "['apple', 'banana', 'orange']"
      ]
     },
     "execution_count": 44,
     "metadata": {},
     "output_type": "execute_result"
    }
   ],
   "source": [
    "list1"
   ]
  },
  {
   "cell_type": "code",
   "execution_count": 45,
   "id": "c064d59e",
   "metadata": {},
   "outputs": [],
   "source": [
    "playlist=[]\n",
    "playlist.append(\"tum heen\")\n",
    "playlist.append(\"tare zamen pr\")"
   ]
  },
  {
   "cell_type": "code",
   "execution_count": 46,
   "id": "17296b28",
   "metadata": {},
   "outputs": [
    {
     "data": {
      "text/plain": [
       "['tum heen', 'tare zamen pr']"
      ]
     },
     "execution_count": 46,
     "metadata": {},
     "output_type": "execute_result"
    }
   ],
   "source": [
    "playlist"
   ]
  },
  {
   "cell_type": "code",
   "execution_count": 47,
   "id": "3981d3e5",
   "metadata": {},
   "outputs": [],
   "source": [
    "#kisi item ko remove krke uske jgh kuch or lane ka hai to\n",
    "list1=['apple', 'banana', 'orange']\n",
    "list1[1]=\"brinjal\" # banana emove krke brinjal add kr diya"
   ]
  },
  {
   "cell_type": "code",
   "execution_count": 48,
   "id": "81216f55",
   "metadata": {},
   "outputs": [
    {
     "data": {
      "text/plain": [
       "['apple', 'brinjal', 'orange']"
      ]
     },
     "execution_count": 48,
     "metadata": {},
     "output_type": "execute_result"
    }
   ],
   "source": [
    "list1"
   ]
  },
  {
   "cell_type": "code",
   "execution_count": 49,
   "id": "28c164ba",
   "metadata": {},
   "outputs": [],
   "source": [
    "#meko bina kuch htay item dalna hai list mai and ek parrticular index pr thn use insert\n",
    "list1.insert(1,\"banana\")"
   ]
  },
  {
   "cell_type": "code",
   "execution_count": 50,
   "id": "6888197c",
   "metadata": {},
   "outputs": [
    {
     "data": {
      "text/plain": [
       "['apple', 'banana', 'brinjal', 'orange']"
      ]
     },
     "execution_count": 50,
     "metadata": {},
     "output_type": "execute_result"
    }
   ],
   "source": [
    "list1"
   ]
  },
  {
   "cell_type": "code",
   "execution_count": 51,
   "id": "0b3e9284",
   "metadata": {},
   "outputs": [],
   "source": [
    "#EXTEND : used to append elements from another iterable\n",
    "#mano mera bhai busy hai and uske vi samman ab meko lane to meri list mai add ho jaenge uske samman ab\n",
    "my_list=[\"apple\",\"banana\",\"orange\"]\n",
    "brother_list=[\"potato\",\"brinjal\",\"onion\"]\n",
    "my_list.extend(brother_list)"
   ]
  },
  {
   "cell_type": "code",
   "execution_count": 52,
   "id": "fb43a6b6",
   "metadata": {},
   "outputs": [
    {
     "data": {
      "text/plain": [
       "['apple', 'banana', 'orange', 'potato', 'brinjal', 'onion']"
      ]
     },
     "execution_count": 52,
     "metadata": {},
     "output_type": "execute_result"
    }
   ],
   "source": [
    "my_list"
   ]
  },
  {
   "cell_type": "code",
   "execution_count": 53,
   "id": "9d2f110a",
   "metadata": {},
   "outputs": [
    {
     "data": {
      "text/plain": [
       "['apple', 'banana', 'orange', 'potato', 'brinjal', 'onion']"
      ]
     },
     "execution_count": 53,
     "metadata": {},
     "output_type": "execute_result"
    }
   ],
   "source": [
    "#concatenate(addition se) se vi extend wale kaam kr skte hain\n",
    "my_list=[\"apple\",\"banana\",\"orange\"]\n",
    "brother_list=[\"potato\",\"brinjal\",\"onion\"]\n",
    "my_list+brother_list"
   ]
  },
  {
   "cell_type": "code",
   "execution_count": 54,
   "id": "78712c3e",
   "metadata": {},
   "outputs": [
    {
     "data": {
      "text/plain": [
       "'**********'"
      ]
     },
     "execution_count": 54,
     "metadata": {},
     "output_type": "execute_result"
    }
   ],
   "source": [
    "#repeatation operation\n",
    "\"*\"*10"
   ]
  },
  {
   "cell_type": "code",
   "execution_count": 55,
   "id": "f8f2362c",
   "metadata": {},
   "outputs": [
    {
     "data": {
      "text/plain": [
       "'----------'"
      ]
     },
     "execution_count": 55,
     "metadata": {},
     "output_type": "execute_result"
    }
   ],
   "source": [
    "\"-\"*10"
   ]
  },
  {
   "cell_type": "code",
   "execution_count": 56,
   "id": "446a9e8c",
   "metadata": {},
   "outputs": [
    {
     "data": {
      "text/plain": [
       "[0, 0, 0, 0, 0]"
      ]
     },
     "execution_count": 56,
     "metadata": {},
     "output_type": "execute_result"
    }
   ],
   "source": [
    "#ab jaise upr mai repetation hui waise heen list vi repeat kr skte hain\n",
    "[0]*5"
   ]
  },
  {
   "cell_type": "code",
   "execution_count": 57,
   "id": "bfb50640",
   "metadata": {},
   "outputs": [
    {
     "data": {
      "text/plain": [
       "['0',\n",
       " 3,\n",
       " 5,\n",
       " 35,\n",
       " 33,\n",
       " 53,\n",
       " 55,\n",
       " '0',\n",
       " 3,\n",
       " 5,\n",
       " 35,\n",
       " 33,\n",
       " 53,\n",
       " 55,\n",
       " '0',\n",
       " 3,\n",
       " 5,\n",
       " 35,\n",
       " 33,\n",
       " 53,\n",
       " 55,\n",
       " '0',\n",
       " 3,\n",
       " 5,\n",
       " 35,\n",
       " 33,\n",
       " 53,\n",
       " 55,\n",
       " '0',\n",
       " 3,\n",
       " 5,\n",
       " 35,\n",
       " 33,\n",
       " 53,\n",
       " 55]"
      ]
     },
     "execution_count": 57,
     "metadata": {},
     "output_type": "execute_result"
    }
   ],
   "source": [
    "[\"0\",3,5,35,33,53,55]*5"
   ]
  },
  {
   "cell_type": "code",
   "execution_count": 58,
   "id": "776f31b8",
   "metadata": {},
   "outputs": [
    {
     "data": {
      "text/plain": [
       "[1, 2, 3, 4, 5, 1, 2, 3, 4, 5, 1, 2, 3, 4, 5, 1, 2, 3, 4, 5, 1, 2, 3, 4, 5]"
      ]
     },
     "execution_count": 58,
     "metadata": {},
     "output_type": "execute_result"
    }
   ],
   "source": [
    "list(range(1,6))*5"
   ]
  },
  {
   "cell_type": "code",
   "execution_count": 59,
   "id": "15cc6ace",
   "metadata": {},
   "outputs": [
    {
     "name": "stdout",
     "output_type": "stream",
     "text": [
      "your appointment is tomorrow\n",
      "your appointment is tomorrow\n",
      "your appointment is tomorrow\n",
      "your appointment is tomorrow\n",
      "your appointment is tomorrow\n",
      "\n"
     ]
    }
   ],
   "source": [
    "msg=\"your appointment is tomorrow\\n\"\n",
    "print(msg*5)"
   ]
  },
  {
   "cell_type": "code",
   "execution_count": 60,
   "id": "de6ad691",
   "metadata": {},
   "outputs": [
    {
     "data": {
      "text/plain": [
       "True"
      ]
     },
     "execution_count": 60,
     "metadata": {},
     "output_type": "execute_result"
    }
   ],
   "source": [
    "#Membership check: in and not in\n",
    "\n",
    "grocerry_list=['apple', 'banana', 'orange', 'potato', 'brinjal', 'onion']\n",
    "\"apple\" in grocerry_list  # true dega agr hua to or nai hua to false"
   ]
  },
  {
   "cell_type": "code",
   "execution_count": 61,
   "id": "4df381fe",
   "metadata": {},
   "outputs": [
    {
     "data": {
      "text/plain": [
       "False"
      ]
     },
     "execution_count": 61,
     "metadata": {},
     "output_type": "execute_result"
    }
   ],
   "source": [
    "\"apple\" not in grocerry_list # false dega agr hua to , true dega agr nai hua to"
   ]
  },
  {
   "cell_type": "code",
   "execution_count": 62,
   "id": "a1fc8128",
   "metadata": {},
   "outputs": [
    {
     "data": {
      "text/plain": [
       "['apple', 'banana', 'orange', 'potato', 'brinjal', 'onion']"
      ]
     },
     "execution_count": 62,
     "metadata": {},
     "output_type": "execute_result"
    }
   ],
   "source": [
    "#copying a list agr original list mai change kiya to copy wale mai vi ho jayga jaise neeeche a mai\n",
    "#ab ye a mai jo change hua original list ke wjh se iska concept hota hai deep copying and shallow copying\n",
    "grocerry_list"
   ]
  },
  {
   "cell_type": "code",
   "execution_count": 63,
   "id": "9e6eabb5",
   "metadata": {},
   "outputs": [],
   "source": [
    "a=grocerry_list"
   ]
  },
  {
   "cell_type": "code",
   "execution_count": 64,
   "id": "4773a7d8",
   "metadata": {},
   "outputs": [],
   "source": [
    "grocerry_list.append(\"cucumber\")"
   ]
  },
  {
   "cell_type": "code",
   "execution_count": 65,
   "id": "e245ddbb",
   "metadata": {},
   "outputs": [
    {
     "data": {
      "text/plain": [
       "['apple', 'banana', 'orange', 'potato', 'brinjal', 'onion', 'cucumber']"
      ]
     },
     "execution_count": 65,
     "metadata": {},
     "output_type": "execute_result"
    }
   ],
   "source": [
    "a # ye isme vi change islea hua kyunki python ne alg space dene ke bjay a ko and list ko dono ko same space di hai\n",
    "#dono ka location memory ka same hai bs islea aisa hua\n",
    "\n",
    "#eg do log cheating kr rhe hain peeche wala aage wale ka copy kr rha pura same same ab aage wale ne kuch change kiya apne answer mai thn peeche wala vi same dekhte hue apne mai vi change kr liya isko shallow copy khte hain\n",
    "#upr wale ko heen shalow copy bolte hain\n",
    "\n",
    "\n",
    "#agr mai a= list.copy() krta to fir python a ko new memory location de deta or fir baad mai list mai change krte to a mai nai hota\n",
    "#upr wale ko khte hain deep copy"
   ]
  },
  {
   "cell_type": "code",
   "execution_count": 66,
   "id": "647a4572",
   "metadata": {},
   "outputs": [],
   "source": [
    "a=grocerry_list.copy()"
   ]
  },
  {
   "cell_type": "code",
   "execution_count": 67,
   "id": "51443f43",
   "metadata": {},
   "outputs": [
    {
     "data": {
      "text/plain": [
       "['apple', 'banana', 'orange', 'potato', 'brinjal', 'onion', 'cucumber']"
      ]
     },
     "execution_count": 67,
     "metadata": {},
     "output_type": "execute_result"
    }
   ],
   "source": [
    "a"
   ]
  },
  {
   "cell_type": "code",
   "execution_count": 68,
   "id": "045fe1b0",
   "metadata": {},
   "outputs": [
    {
     "data": {
      "text/plain": [
       "['apple',\n",
       " 'banana',\n",
       " 'orange',\n",
       " 'potato',\n",
       " 'brinjal',\n",
       " 'onion',\n",
       " 'cucumber',\n",
       " 'flower']"
      ]
     },
     "execution_count": 68,
     "metadata": {},
     "output_type": "execute_result"
    }
   ],
   "source": [
    "grocerry_list.append(\"flower\")\n",
    "grocerry_list"
   ]
  },
  {
   "cell_type": "code",
   "execution_count": 69,
   "id": "57f1fc98",
   "metadata": {},
   "outputs": [
    {
     "data": {
      "text/plain": [
       "['apple', 'banana', 'orange', 'potato', 'brinjal', 'onion', 'cucumber']"
      ]
     },
     "execution_count": 69,
     "metadata": {},
     "output_type": "execute_result"
    }
   ],
   "source": [
    "a  #  or copy ke wjh se ab a mai changes nai aay"
   ]
  },
  {
   "cell_type": "code",
   "execution_count": 70,
   "id": "ea0ff83b",
   "metadata": {},
   "outputs": [
    {
     "data": {
      "text/plain": [
       "['apple',\n",
       " 'banana',\n",
       " 'brinjal',\n",
       " 'cucumber',\n",
       " 'flower',\n",
       " 'onion',\n",
       " 'orange',\n",
       " 'potato']"
      ]
     },
     "execution_count": 70,
     "metadata": {},
     "output_type": "execute_result"
    }
   ],
   "source": [
    "#alphabatical order mai mangta agr apne ko list ka content to use sorted()\n",
    "sorted(grocerry_list)"
   ]
  },
  {
   "cell_type": "code",
   "execution_count": 73,
   "id": "ece584d6",
   "metadata": {},
   "outputs": [
    {
     "data": {
      "text/plain": [
       "7"
      ]
     },
     "execution_count": 73,
     "metadata": {},
     "output_type": "execute_result"
    }
   ],
   "source": [
    "# to know the index of a element in a list we use index()\n",
    "#mano meko banana ka chahiye index\n",
    "grocerry_list.index(\"flower\")  # ye original list pr btati hai append wale pr ni"
   ]
  },
  {
   "cell_type": "code",
   "execution_count": 84,
   "id": "7dd32ebd",
   "metadata": {},
   "outputs": [
    {
     "data": {
      "text/plain": [
       "2"
      ]
     },
     "execution_count": 84,
     "metadata": {},
     "output_type": "execute_result"
    }
   ],
   "source": [
    "#to know ki kinni baar ek element repeat hua hai kisi list mai use count\n",
    "book_list=[\"data structure\",\"ml\",\"ai\",\"ml\"]\n",
    "book_list.count(\"ml\") # ml 2 baar occour hua hai"
   ]
  },
  {
   "cell_type": "code",
   "execution_count": 85,
   "id": "a65d98f1",
   "metadata": {},
   "outputs": [],
   "source": [
    "#to remove a elemt use remove \n",
    "\n",
    "book_list.remove(\"ml\") # ml do baar hai  list mai to do baar likhna pada\n",
    "book_list.remove(\"ml\")"
   ]
  },
  {
   "cell_type": "code",
   "execution_count": 86,
   "id": "3a6138fa",
   "metadata": {},
   "outputs": [
    {
     "data": {
      "text/plain": [
       "['data structure', 'ai']"
      ]
     },
     "execution_count": 86,
     "metadata": {},
     "output_type": "execute_result"
    }
   ],
   "source": [
    "book_list"
   ]
  },
  {
   "cell_type": "code",
   "execution_count": 87,
   "id": "f7a700d7",
   "metadata": {},
   "outputs": [],
   "source": [
    "#to delete a list e can use del\n",
    "del book_list"
   ]
  },
  {
   "cell_type": "code",
   "execution_count": 89,
   "id": "a7bce701",
   "metadata": {},
   "outputs": [
    {
     "ename": "NameError",
     "evalue": "name 'book_list' is not defined",
     "output_type": "error",
     "traceback": [
      "\u001b[1;31m---------------------------------------------------------------------------\u001b[0m",
      "\u001b[1;31mNameError\u001b[0m                                 Traceback (most recent call last)",
      "Cell \u001b[1;32mIn[89], line 1\u001b[0m\n\u001b[1;32m----> 1\u001b[0m book_list\n",
      "\u001b[1;31mNameError\u001b[0m: name 'book_list' is not defined"
     ]
    }
   ],
   "source": [
    " book_list  # phle tha book_list pr ab del se delete ho gya islea error show krega"
   ]
  },
  {
   "cell_type": "code",
   "execution_count": 90,
   "id": "7b340892",
   "metadata": {},
   "outputs": [],
   "source": [
    "#mano meko list nai delete krni thi pr uske andr ke samman delete krne the thn will use clear\n",
    "book_list=[\"data structure\",\"ml\",\"ai\"]\n",
    "book_list.clear()"
   ]
  },
  {
   "cell_type": "code",
   "execution_count": 91,
   "id": "3be92d3e",
   "metadata": {},
   "outputs": [
    {
     "data": {
      "text/plain": [
       "[]"
      ]
     },
     "execution_count": 91,
     "metadata": {},
     "output_type": "execute_result"
    }
   ],
   "source": [
    "book_list # khali list aaygi"
   ]
  },
  {
   "cell_type": "code",
   "execution_count": 92,
   "id": "849a1c9c",
   "metadata": {},
   "outputs": [
    {
     "data": {
      "text/plain": [
       "'ai'"
      ]
     },
     "execution_count": 92,
     "metadata": {},
     "output_type": "execute_result"
    }
   ],
   "source": [
    "#last ka item hatana ho agr list se to use pop()\n",
    "book_list=[\"data structure\",\"ml\",\"ai\"]\n",
    "book_list.pop()"
   ]
  },
  {
   "cell_type": "code",
   "execution_count": 94,
   "id": "0ed4cfb7",
   "metadata": {},
   "outputs": [
    {
     "data": {
      "text/plain": [
       "['data structure', 'ml']"
      ]
     },
     "execution_count": 94,
     "metadata": {},
     "output_type": "execute_result"
    }
   ],
   "source": [
    "book_list # last ka element delete ho gya"
   ]
  },
  {
   "cell_type": "code",
   "execution_count": 96,
   "id": "8d8ffe29",
   "metadata": {},
   "outputs": [
    {
     "data": {
      "text/plain": [
       "'ml'"
      ]
     },
     "execution_count": 96,
     "metadata": {},
     "output_type": "execute_result"
    }
   ],
   "source": [
    "#mano meko kisi ek particular index pr delete krna hai agr list ka element too\n",
    "book_list=[\"data structure\",\"ml\",\"ai\"]\n",
    "book_list.pop(1) # 1 index pr ml hai maine usko hata diya"
   ]
  },
  {
   "cell_type": "code",
   "execution_count": 100,
   "id": "63b3376d",
   "metadata": {},
   "outputs": [],
   "source": [
    "##list comprehension\n",
    "\n",
    "#mano meko kisi list ke andr sare elements ka double value krna hai eg. neeche\n",
    "prices=[10,20,30,40] # meko 10 ko 20 bnana hai ,20 ko 40,30 ko 60,40 ko 80 ye krna hai\n",
    "#price*2 se nai hota hai usse har element repet hhoga 2 -2 baar\n"
   ]
  },
  {
   "cell_type": "code",
   "execution_count": 101,
   "id": "e63ad33b",
   "metadata": {},
   "outputs": [],
   "source": [
    "#traditional ya common method hai ab iska ek double krne ka\n",
    "prices=[10,20,30,40]\n",
    "doubled_price=[]\n",
    "for i in prices:\n",
    "    doubled_price.append(i*2) # sare element multiply hokr ab doubled_price mai store ho gay"
   ]
  },
  {
   "cell_type": "code",
   "execution_count": 102,
   "id": "920c08ca",
   "metadata": {},
   "outputs": [
    {
     "data": {
      "text/plain": [
       "[20, 40, 60, 80]"
      ]
     },
     "execution_count": 102,
     "metadata": {},
     "output_type": "execute_result"
    }
   ],
   "source": [
    "doubled_price # price ka double ho gya"
   ]
  },
  {
   "cell_type": "code",
   "execution_count": 107,
   "id": "9197e819",
   "metadata": {},
   "outputs": [],
   "source": [
    "#pr precise way hai iska ki(mtlb chota trika)\n",
    "doubled_price=[price * 2 for price in prices] # ek line mai mil gya or ye fast vi hai\n",
    "#bde codes ko chote mai likhne ko heen list comprehension khte hain"
   ]
  },
  {
   "cell_type": "code",
   "execution_count": 108,
   "id": "82310814",
   "metadata": {},
   "outputs": [
    {
     "data": {
      "text/plain": [
       "[20, 40, 60, 80]"
      ]
     },
     "execution_count": 108,
     "metadata": {},
     "output_type": "execute_result"
    }
   ],
   "source": [
    "doubled_price"
   ]
  },
  {
   "cell_type": "code",
   "execution_count": 112,
   "id": "4a0fc798",
   "metadata": {},
   "outputs": [
    {
     "data": {
      "text/plain": [
       "['Ajay', 'Bijay', 'Raju']"
      ]
     },
     "execution_count": 112,
     "metadata": {},
     "output_type": "execute_result"
    }
   ],
   "source": [
    "#eg of comprehension\n",
    "#to capitalize the first letter of each element\n",
    "name=[\"Ajay\",\"bijay\",\"raju\"]\n",
    "[names.capitalize() for names in name]\n"
   ]
  },
  {
   "cell_type": "code",
   "execution_count": 113,
   "id": "da49786e",
   "metadata": {},
   "outputs": [],
   "source": [
    "#eg of comprehension\n",
    "#like mano meko square krna hai elements ka\n",
    "num=[1,2,3,4,5]\n",
    "squared_num=[numb*numb for numb in num]"
   ]
  },
  {
   "cell_type": "code",
   "execution_count": 114,
   "id": "405fa4ab",
   "metadata": {},
   "outputs": [
    {
     "data": {
      "text/plain": [
       "[1, 4, 9, 16, 25]"
      ]
     },
     "execution_count": 114,
     "metadata": {},
     "output_type": "execute_result"
    }
   ],
   "source": [
    "squared_num"
   ]
  },
  {
   "cell_type": "code",
   "execution_count": 115,
   "id": "6e4f72ac",
   "metadata": {},
   "outputs": [
    {
     "data": {
      "text/plain": [
       "[1, 4, 9, 16, 25]"
      ]
     },
     "execution_count": 115,
     "metadata": {},
     "output_type": "execute_result"
    }
   ],
   "source": [
    "#ek or trika square ka hai\n",
    "#like mano meko square krna hai elements ka\n",
    "num=[1,2,3,4,5]\n",
    "[numb**2 for numb in num]"
   ]
  },
  {
   "cell_type": "code",
   "execution_count": 117,
   "id": "f79c769c",
   "metadata": {},
   "outputs": [
    {
     "data": {
      "text/plain": [
       "['doctype', 'pdf , hello', 'html']"
      ]
     },
     "execution_count": 117,
     "metadata": {},
     "output_type": "execute_result"
    }
   ],
   "source": [
    "#splitting\n",
    "#we have already learned abt splitting in string\n",
    "#eg. below\n",
    "str1=\"doctype.pdf\" \n",
    "str1.split(\".\") # . jha pr hai wha se alh alg kr dega"
   ]
  },
  {
   "cell_type": "code",
   "execution_count": 118,
   "id": "ff9fa80e",
   "metadata": {},
   "outputs": [
    {
     "data": {
      "text/plain": [
       "'doctype'"
      ]
     },
     "execution_count": 118,
     "metadata": {},
     "output_type": "execute_result"
    }
   ],
   "source": [
    "#hm splitting ke baad konsa dekhna chahte hain ye vi decide kr skte hain\n",
    "str1.split(\".\")[0] #0 lgaya mtlb jo list bnti hai splitting ke baad string ki uska 0 index wala dikhega element"
   ]
  },
  {
   "cell_type": "code",
   "execution_count": 122,
   "id": "347eb4a7",
   "metadata": {},
   "outputs": [
    {
     "data": {
      "text/plain": [
       "['pdf', 'html', 'jpg', 'png']"
      ]
     },
     "execution_count": 122,
     "metadata": {},
     "output_type": "execute_result"
    }
   ],
   "source": [
    "#mano meko formats diff. fies ke janne hain\n",
    "files_name=[\"doc1.pdf\",\"hello.html\",\"ted.jpg\",\"hero.png\"]\n",
    "[file.split(\".\")[-1] for file in files_name] # file_name ke andr bht sare string hain(file) sbka division hoga or new lists bnengi usme last wala apne ko chahiye elemt unka type janne ke liye"
   ]
  },
  {
   "cell_type": "code",
   "execution_count": 124,
   "id": "b6819a0e",
   "metadata": {},
   "outputs": [
    {
     "data": {
      "text/plain": [
       "['hello@yahoo.com', 'ji@yahoo.com']"
      ]
     },
     "execution_count": 124,
     "metadata": {},
     "output_type": "execute_result"
    }
   ],
   "source": [
    "#conditional list comprehension\n",
    "#jaise eg meko bs wo email chahiye list mai se jo yahoo se end hoti hain\n",
    "email_adress=[\"hs@gmail.com\",\"hello@yahoo.com\",\"ji@yahoo.com\",\"hr@gmail.com\"]\n",
    "[email for email in email_adress if email.endswith(\"@yahoo.com\") ]"
   ]
  },
  {
   "cell_type": "code",
   "execution_count": 134,
   "id": "864b9839",
   "metadata": {},
   "outputs": [],
   "source": [
    "#nested list comprehension\n",
    "pairs=[]\n",
    "i=0\n",
    "for x in [1,2,3]:\n",
    "    for y in [4,5,6]:\n",
    "        pairs.append((x,y)) # same append ki jgh print(x,y) se kr skte the agr list nai bnani hoti to"
   ]
  },
  {
   "cell_type": "code",
   "execution_count": 135,
   "id": "2cff9719",
   "metadata": {},
   "outputs": [
    {
     "data": {
      "text/plain": [
       "[(1, 4), (1, 5), (1, 6), (2, 4), (2, 5), (2, 6), (3, 4), (3, 5), (3, 6)]"
      ]
     },
     "execution_count": 135,
     "metadata": {},
     "output_type": "execute_result"
    }
   ],
   "source": [
    "pairs"
   ]
  },
  {
   "cell_type": "code",
   "execution_count": 137,
   "id": "4434e5f6",
   "metadata": {},
   "outputs": [
    {
     "data": {
      "text/plain": [
       "[[1, 4], [1, 5], [1, 6], [2, 4], [2, 5], [2, 6], [3, 4], [3, 5], [3, 6]]"
      ]
     },
     "execution_count": 137,
     "metadata": {},
     "output_type": "execute_result"
    }
   ],
   "source": [
    "[[x,y]for x in [1,2,3] for y in [4,5,6]]"
   ]
  },
  {
   "cell_type": "code",
   "execution_count": 136,
   "id": "ac281901",
   "metadata": {},
   "outputs": [
    {
     "name": "stdout",
     "output_type": "stream",
     "text": [
      "[(1, 4), (2, 5), (3, 6)]\n"
     ]
    }
   ],
   "source": [
    "#upr wali chij same index ke elements ko pair krne wali hm zip naam ke func se vi kr skte hain\n",
    "# Pair corresponding elements from two lists\n",
    "pairs = [(x, y) for x, y in zip([1, 2, 3], [4, 5, 6])]\n",
    "print(pairs)\n"
   ]
  },
  {
   "cell_type": "code",
   "execution_count": 129,
   "id": "15d333ea",
   "metadata": {},
   "outputs": [
    {
     "name": "stdout",
     "output_type": "stream",
     "text": [
      "[(1, 4), (2, 5), (3, 6)]\n"
     ]
    }
   ],
   "source": [
    "# ye vi same output ka ek method hai\n",
    "# Using a for loop\n",
    "list1 = [1, 2, 3]\n",
    "list2 = [4, 5, 6]\n",
    "pairs = []\n",
    "for i in range(len(list1)):\n",
    "    pairs.append((list1[i], list2[i]))\n",
    "print(pairs)\n"
   ]
  },
  {
   "cell_type": "code",
   "execution_count": 138,
   "id": "d80ffb42",
   "metadata": {},
   "outputs": [],
   "source": [
    "#list as stack and queue\n",
    "#stack:last in first out prnciple: the last element added to th element will be the first one\n",
    "#jaise mano books ko ek ke upr ek rakha to jo sbse last mai rakhenge wo sbse upr aaygi or ab jb apne ko book nikalni hogi to sbse phle upr wali hataenge na whi hai bs"
   ]
  },
  {
   "cell_type": "code",
   "execution_count": 139,
   "id": "e3279af6",
   "metadata": {},
   "outputs": [
    {
     "data": {
      "text/plain": [
       "['plate1', 'plate2', 'plate3', 'plate4']"
      ]
     },
     "execution_count": 139,
     "metadata": {},
     "output_type": "execute_result"
    }
   ],
   "source": [
    "stack_of_plates=[]\n",
    "stack_of_plates.append(\"plate1\")\n",
    "stack_of_plates.append(\"plate2\")\n",
    "stack_of_plates.append(\"plate3\")\n",
    "stack_of_plates.append(\"plate4\")\n",
    "stack_of_plates"
   ]
  },
  {
   "cell_type": "code",
   "execution_count": 140,
   "id": "4467b093",
   "metadata": {},
   "outputs": [
    {
     "data": {
      "text/plain": [
       "'plate4'"
      ]
     },
     "execution_count": 140,
     "metadata": {},
     "output_type": "execute_result"
    }
   ],
   "source": [
    "stack_of_plates.pop() # remove konsa hua jo sbse last mai add hua"
   ]
  },
  {
   "cell_type": "code",
   "execution_count": 141,
   "id": "84417b58",
   "metadata": {},
   "outputs": [
    {
     "data": {
      "text/plain": [
       "['plate1', 'plate2', 'plate3']"
      ]
     },
     "execution_count": 141,
     "metadata": {},
     "output_type": "execute_result"
    }
   ],
   "source": [
    "stack_of_plates # ab last wala hat gya hai"
   ]
  },
  {
   "cell_type": "code",
   "execution_count": 142,
   "id": "232f1c30",
   "metadata": {},
   "outputs": [],
   "source": [
    "#QUEUE: first in and first out hota hai isme\n",
    "#orderly sequential manner\n",
    "#two ends\n",
    "#jaise mano ticket lene ke liye movie ki line mai lage hai hm to jo sbse aage khada hoga sbse phle usko ticket milegi na bs whi"
   ]
  },
  {
   "cell_type": "code",
   "execution_count": 149,
   "id": "ac7508fa",
   "metadata": {},
   "outputs": [
    {
     "data": {
      "text/plain": [
       "deque(['cus1', 'cus2', 'cus3', 'cus4', 'cus5'])"
      ]
     },
     "execution_count": 149,
     "metadata": {},
     "output_type": "execute_result"
    }
   ],
   "source": [
    "from collections import deque\n",
    "checkout=deque()\n",
    "checkout.append(\"cus1\")  #cus is customer\n",
    "checkout.append(\"cus2\")\n",
    "checkout.append(\"cus3\")\n",
    "checkout.append(\"cus4\")\n",
    "checkout.append(\"cus5\")\n",
    "checkout"
   ]
  },
  {
   "cell_type": "code",
   "execution_count": 150,
   "id": "209f1cf1",
   "metadata": {},
   "outputs": [
    {
     "name": "stdout",
     "output_type": "stream",
     "text": [
      "serving cus1\n",
      "serving cus2\n",
      "serving cus3\n",
      "serving cus4\n",
      "serving cus5\n"
     ]
    }
   ],
   "source": [
    "while checkout: # ab checkout ke time reception wale serve kis line mai krenge\n",
    "    customer=checkout.popleft() #ye popleft vi bs tb heen kr pa rhe hain jb hmne ye deque use kiya normal list mai nai hota hai\n",
    "    print(\"serving\",customer)"
   ]
  },
  {
   "cell_type": "code",
   "execution_count": 151,
   "id": "42fe5471",
   "metadata": {},
   "outputs": [
    {
     "ename": "AttributeError",
     "evalue": "'list' object has no attribute 'popleft'",
     "output_type": "error",
     "traceback": [
      "\u001b[1;31m---------------------------------------------------------------------------\u001b[0m",
      "\u001b[1;31mAttributeError\u001b[0m                            Traceback (most recent call last)",
      "Cell \u001b[1;32mIn[151], line 2\u001b[0m\n\u001b[0;32m      1\u001b[0m list1 \u001b[38;5;241m=\u001b[39m [\u001b[38;5;241m1\u001b[39m, \u001b[38;5;241m2\u001b[39m, \u001b[38;5;241m3\u001b[39m]\n\u001b[1;32m----> 2\u001b[0m list1\u001b[38;5;241m.\u001b[39mpopleft()\n",
      "\u001b[1;31mAttributeError\u001b[0m: 'list' object has no attribute 'popleft'"
     ]
    }
   ],
   "source": [
    "#normal list pr agr popleft use krte to error de deta \n",
    "list1 = [1, 2, 3]\n",
    "list1.popleft()"
   ]
  },
  {
   "cell_type": "code",
   "execution_count": 153,
   "id": "5068cd1c",
   "metadata": {},
   "outputs": [],
   "source": [
    "from queue import Queue # phla queue ek module hai python ka and dusra wala ek class hai"
   ]
  },
  {
   "cell_type": "code",
   "execution_count": 154,
   "id": "5666de18",
   "metadata": {},
   "outputs": [
    {
     "name": "stdout",
     "output_type": "stream",
     "text": [
      "printing print job 1\n",
      "printing print job 2\n",
      "printing print job 3\n",
      "printing print job 4\n"
     ]
    }
   ],
   "source": [
    "print_queue=Queue()\n",
    "print_queue.put(\"print job 1\")\n",
    "print_queue.put(\"print job 2\")\n",
    "print_queue.put(\"print job 3\")\n",
    "print_queue.put(\"print job 4\")\n",
    "\n",
    "while not print_queue.empty():\n",
    "    print_job=print_queue.get()\n",
    "    print(\"printing\",print_job)\n"
   ]
  },
  {
   "cell_type": "code",
   "execution_count": null,
   "id": "7dc59a23",
   "metadata": {},
   "outputs": [],
   "source": []
  }
 ],
 "metadata": {
  "kernelspec": {
   "display_name": "Python 3 (ipykernel)",
   "language": "python",
   "name": "python3"
  },
  "language_info": {
   "codemirror_mode": {
    "name": "ipython",
    "version": 3
   },
   "file_extension": ".py",
   "mimetype": "text/x-python",
   "name": "python",
   "nbconvert_exporter": "python",
   "pygments_lexer": "ipython3",
   "version": "3.11.5"
  }
 },
 "nbformat": 4,
 "nbformat_minor": 5
}
