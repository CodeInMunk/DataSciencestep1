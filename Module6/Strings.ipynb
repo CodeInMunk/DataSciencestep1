{
 "cells": [
  {
   "cell_type": "code",
   "execution_count": 1,
   "id": "31f6e452",
   "metadata": {},
   "outputs": [],
   "source": [
    "#string is a sequence of character\n",
    "#charactered represented using numerical value\n",
    "#ASCII(7bits) and UNICODE(16 bits)\n",
    "#UTF8 and UTF16 are popular encoding schemes"
   ]
  },
  {
   "cell_type": "code",
   "execution_count": 3,
   "id": "8e770884",
   "metadata": {},
   "outputs": [
    {
     "data": {
      "text/plain": [
       "65"
      ]
     },
     "execution_count": 3,
     "metadata": {},
     "output_type": "execute_result"
    }
   ],
   "source": [
    "char=\"A\"\n",
    "ord(char) #ASCII value of A  # ord mtlb order"
   ]
  },
  {
   "cell_type": "code",
   "execution_count": 5,
   "id": "dd1e56cf",
   "metadata": {},
   "outputs": [
    {
     "data": {
      "text/plain": [
       "97"
      ]
     },
     "execution_count": 5,
     "metadata": {},
     "output_type": "execute_result"
    }
   ],
   "source": [
    "ord(\"a\")"
   ]
  },
  {
   "cell_type": "code",
   "execution_count": 8,
   "id": "d37bbc75",
   "metadata": {},
   "outputs": [
    {
     "data": {
      "text/plain": [
       "'e'"
      ]
     },
     "execution_count": 8,
     "metadata": {},
     "output_type": "execute_result"
    }
   ],
   "source": [
    "chr(101) #101 pr ascii mai kya aata hai"
   ]
  },
  {
   "cell_type": "code",
   "execution_count": 10,
   "id": "4e308765",
   "metadata": {},
   "outputs": [
    {
     "data": {
      "text/plain": [
       "'j'"
      ]
     },
     "execution_count": 10,
     "metadata": {},
     "output_type": "execute_result"
    }
   ],
   "source": [
    "chr(106)"
   ]
  },
  {
   "cell_type": "code",
   "execution_count": 4,
   "id": "83bf9083",
   "metadata": {},
   "outputs": [
    {
     "data": {
      "text/plain": [
       "'Ω'"
      ]
     },
     "execution_count": 4,
     "metadata": {},
     "output_type": "execute_result"
    }
   ],
   "source": [
    "#UNICODE representation\n",
    "\"\\u03A9\"  # omega ka representation"
   ]
  },
  {
   "cell_type": "code",
   "execution_count": 5,
   "id": "379f00c9",
   "metadata": {},
   "outputs": [
    {
     "data": {
      "text/plain": [
       "'Φ'"
      ]
     },
     "execution_count": 5,
     "metadata": {},
     "output_type": "execute_result"
    }
   ],
   "source": [
    "\"\\u03A6\""
   ]
  },
  {
   "cell_type": "code",
   "execution_count": 6,
   "id": "ba21a224",
   "metadata": {},
   "outputs": [
    {
     "data": {
      "text/plain": [
       "'ŀ'"
      ]
     },
     "execution_count": 6,
     "metadata": {},
     "output_type": "execute_result"
    }
   ],
   "source": [
    "chr(320)"
   ]
  },
  {
   "cell_type": "code",
   "execution_count": 8,
   "id": "c3cad9ca",
   "metadata": {},
   "outputs": [
    {
     "data": {
      "text/plain": [
       "'Ȝ'"
      ]
     },
     "execution_count": 8,
     "metadata": {},
     "output_type": "execute_result"
    }
   ],
   "source": [
    "chr(540)"
   ]
  },
  {
   "cell_type": "code",
   "execution_count": 9,
   "id": "69cfd2c3",
   "metadata": {},
   "outputs": [
    {
     "data": {
      "text/plain": [
       "'ύ'"
      ]
     },
     "execution_count": 9,
     "metadata": {},
     "output_type": "execute_result"
    }
   ],
   "source": [
    "chr((973))"
   ]
  },
  {
   "cell_type": "code",
   "execution_count": 10,
   "id": "103fb4db",
   "metadata": {},
   "outputs": [],
   "source": [
    "string1=\"pwskills\""
   ]
  },
  {
   "cell_type": "code",
   "execution_count": 11,
   "id": "f83daf22",
   "metadata": {},
   "outputs": [
    {
     "data": {
      "text/plain": [
       "str"
      ]
     },
     "execution_count": 11,
     "metadata": {},
     "output_type": "execute_result"
    }
   ],
   "source": [
    "type(string1)"
   ]
  },
  {
   "cell_type": "code",
   "execution_count": 12,
   "id": "26df6a54",
   "metadata": {},
   "outputs": [
    {
     "data": {
      "text/plain": [
       "'\\ni am a student\\ni study at SLIET\\nI will achive my dreams'"
      ]
     },
     "execution_count": 12,
     "metadata": {},
     "output_type": "execute_result"
    }
   ],
   "source": [
    "\"\"\"\n",
    "i am a student\n",
    "i study at SLIET\n",
    "I will achive my dreams\"\"\""
   ]
  },
  {
   "cell_type": "code",
   "execution_count": 18,
   "id": "a14bcd5f",
   "metadata": {},
   "outputs": [
    {
     "data": {
      "text/plain": [
       "'hello ; ji'"
      ]
     },
     "execution_count": 18,
     "metadata": {},
     "output_type": "execute_result"
    }
   ],
   "source": [
    "#concatenation of strings(jodna strings ko)\n",
    "string1=\"hello\"\n",
    "string2=\" ji\"\n",
    "string1+\" ;\"+string2"
   ]
  },
  {
   "cell_type": "code",
   "execution_count": 19,
   "id": "61ce7bac",
   "metadata": {},
   "outputs": [
    {
     "data": {
      "text/plain": [
       "'stringisuseful'"
      ]
     },
     "execution_count": 19,
     "metadata": {},
     "output_type": "execute_result"
    }
   ],
   "source": [
    "\"string\"+\"is\"+\"useful\""
   ]
  },
  {
   "cell_type": "code",
   "execution_count": 20,
   "id": "f6f4e617",
   "metadata": {},
   "outputs": [
    {
     "data": {
      "text/plain": [
       "'i'"
      ]
     },
     "execution_count": 20,
     "metadata": {},
     "output_type": "execute_result"
    }
   ],
   "source": [
    "#extract a string\n",
    "string1=\"i am a good student\"\n",
    "string1[0]"
   ]
  },
  {
   "cell_type": "code",
   "execution_count": 22,
   "id": "e4b6f725",
   "metadata": {},
   "outputs": [
    {
     "data": {
      "text/plain": [
       "'i am'"
      ]
     },
     "execution_count": 22,
     "metadata": {},
     "output_type": "execute_result"
    }
   ],
   "source": [
    "string1[0:4]  # 0 pr i 1 pr space 2 pr a and 3 pr m"
   ]
  },
  {
   "cell_type": "code",
   "execution_count": 24,
   "id": "e82f9da5",
   "metadata": {},
   "outputs": [
    {
     "data": {
      "text/plain": [
       "'wskills'"
      ]
     },
     "execution_count": 24,
     "metadata": {},
     "output_type": "execute_result"
    }
   ],
   "source": [
    "string2=\"pwskills\"\n",
    "string2[1:] #isto ke baad kuch nai dala mtlb apne aap usko pta chal gya last tk jana hai"
   ]
  },
  {
   "cell_type": "code",
   "execution_count": 27,
   "id": "920f937b",
   "metadata": {},
   "outputs": [
    {
     "data": {
      "text/plain": [
       "'s'"
      ]
     },
     "execution_count": 27,
     "metadata": {},
     "output_type": "execute_result"
    }
   ],
   "source": [
    "string2[-1]  # peeche se phla wala word print hoga -1 se and this goes on alg alg negative no. pr"
   ]
  },
  {
   "cell_type": "code",
   "execution_count": 28,
   "id": "d4f703db",
   "metadata": {},
   "outputs": [
    {
     "data": {
      "text/plain": [
       "'i'"
      ]
     },
     "execution_count": 28,
     "metadata": {},
     "output_type": "execute_result"
    }
   ],
   "source": [
    "string2[-4]"
   ]
  },
  {
   "cell_type": "code",
   "execution_count": 31,
   "id": "66f24cae",
   "metadata": {},
   "outputs": [
    {
     "data": {
      "text/plain": [
       "'lls'"
      ]
     },
     "execution_count": 31,
     "metadata": {},
     "output_type": "execute_result"
    }
   ],
   "source": [
    "#for last three charachters\n",
    "string2[-3:]"
   ]
  },
  {
   "cell_type": "code",
   "execution_count": 30,
   "id": "79e326e7",
   "metadata": {},
   "outputs": [
    {
     "data": {
      "text/plain": [
       "'pwski'"
      ]
     },
     "execution_count": 30,
     "metadata": {},
     "output_type": "execute_result"
    }
   ],
   "source": [
    "#agr meko peeche se character nai chahiye string ke and baki sare chahiye\n",
    "string2[:-3]"
   ]
  },
  {
   "cell_type": "code",
   "execution_count": 36,
   "id": "213ef575",
   "metadata": {},
   "outputs": [
    {
     "data": {
      "text/plain": [
       "'Hello'"
      ]
     },
     "execution_count": 36,
     "metadata": {},
     "output_type": "execute_result"
    }
   ],
   "source": [
    "#if i want to acess each of the element to mtlb step 1-1 ka lunga \n",
    "string3=\"Hello World\"\n",
    "string3[0:5:1] #initial kha se:kha tk+1:step size\n"
   ]
  },
  {
   "cell_type": "code",
   "execution_count": 37,
   "id": "edd32043",
   "metadata": {},
   "outputs": [
    {
     "data": {
      "text/plain": [
       "'Hello World'"
      ]
     },
     "execution_count": 37,
     "metadata": {},
     "output_type": "execute_result"
    }
   ],
   "source": [
    "string3[::1]"
   ]
  },
  {
   "cell_type": "code",
   "execution_count": 38,
   "id": "7f7c233e",
   "metadata": {},
   "outputs": [
    {
     "data": {
      "text/plain": [
       "'Hello'"
      ]
     },
     "execution_count": 38,
     "metadata": {},
     "output_type": "execute_result"
    }
   ],
   "source": [
    "string3[0:5]"
   ]
  },
  {
   "cell_type": "code",
   "execution_count": 39,
   "id": "17af0512",
   "metadata": {},
   "outputs": [
    {
     "data": {
      "text/plain": [
       "'HloW'"
      ]
     },
     "execution_count": 39,
     "metadata": {},
     "output_type": "execute_result"
    }
   ],
   "source": [
    "#if ii want alternate elements\n",
    "string3[0:7:2]"
   ]
  },
  {
   "cell_type": "code",
   "execution_count": 41,
   "id": "984bfead",
   "metadata": {},
   "outputs": [
    {
     "data": {
      "text/plain": [
       "'dlroW olleH'"
      ]
     },
     "execution_count": 41,
     "metadata": {},
     "output_type": "execute_result"
    }
   ],
   "source": [
    "#ulta print krna hai\n",
    "string3[::-1]"
   ]
  },
  {
   "cell_type": "code",
   "execution_count": 44,
   "id": "7a74ebf1",
   "metadata": {},
   "outputs": [
    {
     "ename": "IndexError",
     "evalue": "string index out of range",
     "output_type": "error",
     "traceback": [
      "\u001b[1;31m---------------------------------------------------------------------------\u001b[0m",
      "\u001b[1;31mIndexError\u001b[0m                                Traceback (most recent call last)",
      "Cell \u001b[1;32mIn[44], line 2\u001b[0m\n\u001b[0;32m      1\u001b[0m s\u001b[38;5;241m=\u001b[39m\u001b[38;5;124m\"\u001b[39m\u001b[38;5;124mpwskills\u001b[39m\u001b[38;5;124m\"\u001b[39m\n\u001b[1;32m----> 2\u001b[0m s[\u001b[38;5;241m9\u001b[39m]\n",
      "\u001b[1;31mIndexError\u001b[0m: string index out of range"
     ]
    }
   ],
   "source": [
    "s=\"pwskills\"\n",
    "s[9]#jo exist nai krta hai usme error aayga"
   ]
  },
  {
   "cell_type": "code",
   "execution_count": 52,
   "id": "1134cc87",
   "metadata": {},
   "outputs": [],
   "source": [
    "#strings are immutable ie koi changes nai kr skte hai\n"
   ]
  },
  {
   "cell_type": "code",
   "execution_count": 53,
   "id": "37535093",
   "metadata": {},
   "outputs": [
    {
     "data": {
      "text/plain": [
       "14"
      ]
     },
     "execution_count": 53,
     "metadata": {},
     "output_type": "execute_result"
    }
   ],
   "source": [
    "#to check length of string\n",
    "len(s)"
   ]
  },
  {
   "cell_type": "code",
   "execution_count": 57,
   "id": "9e5ebfaa",
   "metadata": {},
   "outputs": [],
   "source": [
    "s=\"i am a student\""
   ]
  },
  {
   "cell_type": "code",
   "execution_count": 59,
   "id": "d482fc1e",
   "metadata": {},
   "outputs": [],
   "source": [
    "#we can change a string completely by using replace function\n",
    "#eg.\n",
    "s=\"i am a student\"\n",
    "s.replace(\"student\",\"teacher\")"
   ]
  },
  {
   "cell_type": "code",
   "execution_count": 61,
   "id": "4b2cd6de",
   "metadata": {},
   "outputs": [
    {
     "data": {
      "text/plain": [
       "'i am a student'"
      ]
     },
     "execution_count": 61,
     "metadata": {},
     "output_type": "execute_result"
    }
   ],
   "source": [
    "s"
   ]
  },
  {
   "cell_type": "code",
   "execution_count": 62,
   "id": "23381a49",
   "metadata": {},
   "outputs": [],
   "source": [
    "adress=\"13 suhana apt,marathali,bangalore\" # yha mano ab glti se apt likh  diya o usko apratment pura likhna hai to yha replace kaam aaya"
   ]
  },
  {
   "cell_type": "code",
   "execution_count": 63,
   "id": "5068ca5c",
   "metadata": {},
   "outputs": [
    {
     "data": {
      "text/plain": [
       "'13 suhana apartment,marathali,bangalore'"
      ]
     },
     "execution_count": 63,
     "metadata": {},
     "output_type": "execute_result"
    }
   ],
   "source": [
    "adress.replace(\"apt\",\"apartment\")"
   ]
  },
  {
   "cell_type": "code",
   "execution_count": 65,
   "id": "031fcaed",
   "metadata": {},
   "outputs": [
    {
     "data": {
      "text/plain": [
       "'be rght back.talk to you later,laughing out loud'"
      ]
     },
     "execution_count": 65,
     "metadata": {},
     "output_type": "execute_result"
    }
   ],
   "source": [
    "#agr ek sath bht sari chije string mai change krni ho eg. below\n",
    "text=\"brb.ttyl,lol\"\n",
    "text.replace(\"brb\",\"be rght back\").replace(\"ttyl\",\"talk to you later\").replace(\"lol\",\"laughing out loud\")"
   ]
  },
  {
   "cell_type": "code",
   "execution_count": 66,
   "id": "1b936371",
   "metadata": {},
   "outputs": [
    {
     "data": {
      "text/plain": [
       "'hello , world'"
      ]
     },
     "execution_count": 66,
     "metadata": {},
     "output_type": "execute_result"
    }
   ],
   "source": [
    "#to convert a string into lower case\n",
    "text=\"Hello , World\"\n",
    "text.lower()"
   ]
  },
  {
   "cell_type": "code",
   "execution_count": 68,
   "id": "fe6ac137",
   "metadata": {},
   "outputs": [
    {
     "data": {
      "text/plain": [
       "'HELLO , WORLD'"
      ]
     },
     "execution_count": 68,
     "metadata": {},
     "output_type": "execute_result"
    }
   ],
   "source": [
    "#sb kuch uUPPER CASE mai krne ke liye\n",
    "text.upper()"
   ]
  },
  {
   "cell_type": "code",
   "execution_count": 70,
   "id": "c62c644d",
   "metadata": {},
   "outputs": [
    {
     "data": {
      "text/plain": [
       "'Hello , World'"
      ]
     },
     "execution_count": 70,
     "metadata": {},
     "output_type": "execute_result"
    }
   ],
   "source": [
    "#first letter of each word in a string will become capital one\n",
    "text.title()"
   ]
  },
  {
   "cell_type": "code",
   "execution_count": 1,
   "id": "faea877d",
   "metadata": {},
   "outputs": [
    {
     "data": {
      "text/plain": [
       "'tHIS IS a sTRING'"
      ]
     },
     "execution_count": 1,
     "metadata": {},
     "output_type": "execute_result"
    }
   ],
   "source": [
    "#agr meko kisi string ke capital ko small and small ko capital krna hoga to will use swap case\n",
    "string1=\"This is A String\"\n",
    "string1.swapcase()"
   ]
  },
  {
   "cell_type": "code",
   "execution_count": 2,
   "id": "d1f7b608",
   "metadata": {},
   "outputs": [
    {
     "data": {
      "text/plain": [
       "'This is a string'"
      ]
     },
     "execution_count": 2,
     "metadata": {},
     "output_type": "execute_result"
    }
   ],
   "source": [
    "#sirf first letter ko capital krna hai and rest of the character ko normal small thn use capitalize\n",
    "string1.capitalize()"
   ]
  },
  {
   "cell_type": "code",
   "execution_count": 5,
   "id": "851e0f0a",
   "metadata": {},
   "outputs": [
    {
     "data": {
      "text/plain": [
       "True"
      ]
     },
     "execution_count": 5,
     "metadata": {},
     "output_type": "execute_result"
    }
   ],
   "source": [
    "#string searching : meko kuch sub part search krna hai string ka to use hoga\n",
    "sentence=\"i am a student at pw skills\"\n",
    "\"am\" in sentence"
   ]
  },
  {
   "cell_type": "code",
   "execution_count": 10,
   "id": "416a37c2",
   "metadata": {},
   "outputs": [
    {
     "name": "stdout",
     "output_type": "stream",
     "text": [
      "search_word is present\n"
     ]
    }
   ],
   "source": [
    "sentence=\"i am a student at pw skills\"\n",
    "search_word=\"am\"\n",
    "if search_word in sentence:\n",
    "    print(\"search_word is present\")\n",
    "else:\n",
    "    print(\"its not present\")"
   ]
  },
  {
   "cell_type": "code",
   "execution_count": 13,
   "id": "5babcad7",
   "metadata": {},
   "outputs": [
    {
     "data": {
      "text/plain": [
       "False"
      ]
     },
     "execution_count": 13,
     "metadata": {},
     "output_type": "execute_result"
    }
   ],
   "source": [
    "#string comparison :it is very case sensetive \n",
    "str1=\"Hello\"\n",
    "str2=\"hello\"\n",
    "str1==str2  #false aayga since ek ka h capital ek ka h small"
   ]
  },
  {
   "cell_type": "code",
   "execution_count": 15,
   "id": "f198415e",
   "metadata": {},
   "outputs": [
    {
     "data": {
      "text/plain": [
       "True"
      ]
     },
     "execution_count": 15,
     "metadata": {},
     "output_type": "execute_result"
    }
   ],
   "source": [
    "str1=\"Hello\"\n",
    "str2=\"hello\"\n",
    "str1.lower()==str2 #lower ka use krke capital h ko small kr diya"
   ]
  },
  {
   "cell_type": "code",
   "execution_count": 16,
   "id": "0206e240",
   "metadata": {},
   "outputs": [
    {
     "name": "stdout",
     "output_type": "stream",
     "text": [
      "enter the user registerd id: harshit\n",
      "user name alredy taken\n"
     ]
    }
   ],
   "source": [
    "reg_user=[\"harshit\",\"anwar\",\"user1\",\"user2\",\"user3\"]\n",
    "new_user=input(\"enter the user registerd id: \")\n",
    "if new_user in reg_user:\n",
    "    print(\"user name alredy taken\")\n",
    "else:\n",
    "    print(\"user name is yours\")"
   ]
  },
  {
   "cell_type": "code",
   "execution_count": 18,
   "id": "a1ae02fa",
   "metadata": {},
   "outputs": [
    {
     "data": {
      "text/plain": [
       "['anshu', 'anwar', 'rahul']"
      ]
     },
     "execution_count": 18,
     "metadata": {},
     "output_type": "execute_result"
    }
   ],
   "source": [
    "#string ordering : alphabatical order mai sort ho jaenge dictionary mai jaise hota uske mafik\n",
    "names=[\"anwar\",\"anshu\",\"rahul\"]\n",
    "sorted(names)\n"
   ]
  },
  {
   "cell_type": "code",
   "execution_count": 21,
   "id": "53bb21f1",
   "metadata": {},
   "outputs": [
    {
     "data": {
      "text/plain": [
       "'heelo  ji kaise'"
      ]
     },
     "execution_count": 21,
     "metadata": {},
     "output_type": "execute_result"
    }
   ],
   "source": [
    "#common string operations\n",
    "input_str=\"                PWSKILLS                \" #ab mereko ye string mai se agr spacee hatani ho to strip func. use krunga\n",
    "input_str.strip() #strip use krte heen space hat jati hai ending or starting ki\n",
    "\n",
    "#s=\" heelo  ji kaise\"\n",
    "#s.strip()   :  output aayga 'heelo  ji kaise'"
   ]
  },
  {
   "cell_type": "code",
   "execution_count": 25,
   "id": "dae24022",
   "metadata": {},
   "outputs": [],
   "source": [
    "#string splitting\n",
    "data=\"harshit,data,science,ml,teacher\"\n"
   ]
  },
  {
   "cell_type": "code",
   "execution_count": 26,
   "id": "03db0915",
   "metadata": {},
   "outputs": [
    {
     "data": {
      "text/plain": [
       "'harshit,data,science,ml,teacher'"
      ]
     },
     "execution_count": 26,
     "metadata": {},
     "output_type": "execute_result"
    }
   ],
   "source": [
    "data"
   ]
  },
  {
   "cell_type": "code",
   "execution_count": 28,
   "id": "0e19e89a",
   "metadata": {},
   "outputs": [],
   "source": [
    "s=data.split(\",\")# har element , se alg kiya hua tha islea split ale bracket mai \",\" dala now it will seprate all elemnts from \",\""
   ]
  },
  {
   "cell_type": "code",
   "execution_count": 30,
   "id": "ffd01f50",
   "metadata": {},
   "outputs": [
    {
     "data": {
      "text/plain": [
       "['harshit', 'data', 'science', 'ml', 'teacher']"
      ]
     },
     "execution_count": 30,
     "metadata": {},
     "output_type": "execute_result"
    }
   ],
   "source": [
    "s # ab ye ek list ke andr seprated hai and we know ki list mai elements ko kaise alg alg lena hai"
   ]
  },
  {
   "cell_type": "code",
   "execution_count": 32,
   "id": "0991fd37",
   "metadata": {},
   "outputs": [
    {
     "name": "stdout",
     "output_type": "stream",
     "text": [
      "harshit\n"
     ]
    }
   ],
   "source": [
    "#eg agr alg alg padhna hua to\n",
    "student_name=s[0]\n",
    "print(student_name)"
   ]
  },
  {
   "cell_type": "code",
   "execution_count": 37,
   "id": "16433dd6",
   "metadata": {},
   "outputs": [
    {
     "name": "stdout",
     "output_type": "stream",
     "text": [
      "133,\n",
      "paradise villa,\n",
      "bangalore\n"
     ]
    }
   ],
   "source": [
    "#ESCAPE sequences jaise ki \\n,\\t,\\ ye sb : special combination of characters used within a string     \n",
    "adress_ghar=\"\"\"133,\n",
    "paradise villa,\n",
    "bangalore\"\"\"\n",
    "print(adress_ghar)"
   ]
  },
  {
   "cell_type": "code",
   "execution_count": 38,
   "id": "6f059121",
   "metadata": {},
   "outputs": [
    {
     "data": {
      "text/plain": [
       "'133,\\nparadise villa,\\nbangalore'"
      ]
     },
     "execution_count": 38,
     "metadata": {},
     "output_type": "execute_result"
    }
   ],
   "source": [
    "adress_ghar"
   ]
  },
  {
   "cell_type": "code",
   "execution_count": 45,
   "id": "ffa38761",
   "metadata": {},
   "outputs": [],
   "source": [
    "adress=\"\"\"133,\\n sunshine villa,\\n bangalore\"\"\" # \\n use krke jb likhunga to meko baar baar enter krke new line jani ke jrurt nai"
   ]
  },
  {
   "cell_type": "code",
   "execution_count": 46,
   "id": "05ff10bc",
   "metadata": {},
   "outputs": [
    {
     "name": "stdout",
     "output_type": "stream",
     "text": [
      "133,\n",
      " sunshine villa,\n",
      " bangalore\n"
     ]
    }
   ],
   "source": [
    "print(adress)"
   ]
  },
  {
   "cell_type": "code",
   "execution_count": 47,
   "id": "0937b50a",
   "metadata": {},
   "outputs": [],
   "source": [
    "#to get the string in a table format we use \\t and \\n togather (\\t to get table skelton or spaces and \\n to get new line)\n",
    "table=\"name age grade alice 20 B Ram 30 A\""
   ]
  },
  {
   "cell_type": "code",
   "execution_count": 48,
   "id": "687b43a4",
   "metadata": {},
   "outputs": [
    {
     "data": {
      "text/plain": [
       "'name age grade alice 20 B Ram 30 A'"
      ]
     },
     "execution_count": 48,
     "metadata": {},
     "output_type": "execute_result"
    }
   ],
   "source": [
    "table\n"
   ]
  },
  {
   "cell_type": "code",
   "execution_count": 54,
   "id": "288b10e8",
   "metadata": {},
   "outputs": [
    {
     "name": "stdout",
     "output_type": "stream",
     "text": [
      "name\t age\t grade \n",
      "alice\t 20\t B \n",
      "Ram\t 30\t A\n"
     ]
    }
   ],
   "source": [
    "table=\"name\\t age\\t grade \\nalice\\t 20\\t B \\nRam\\t 30\\t A\"\n",
    "print(table)"
   ]
  },
  {
   "cell_type": "code",
   "execution_count": 55,
   "id": "09733e6b",
   "metadata": {},
   "outputs": [
    {
     "data": {
      "text/plain": [
       "'name\\t age\\t grade \\nalice\\t 20\\t B \\nRam\\t 30\\t A'"
      ]
     },
     "execution_count": 55,
     "metadata": {},
     "output_type": "execute_result"
    }
   ],
   "source": [
    "table"
   ]
  },
  {
   "cell_type": "code",
   "execution_count": 56,
   "id": "a00f0002",
   "metadata": {},
   "outputs": [
    {
     "name": "stdout",
     "output_type": "stream",
     "text": [
      "name\t age\t grade \n",
      "alice\t 20\t B \n",
      "Ram\t 30\t A\n"
     ]
    }
   ],
   "source": [
    "print(table)"
   ]
  },
  {
   "cell_type": "code",
   "execution_count": 58,
   "id": "1cbab0d6",
   "metadata": {},
   "outputs": [
    {
     "name": "stdout",
     "output_type": "stream",
     "text": [
      "c:\\USERS\\DOWNLOAD\\Files.txt\n"
     ]
    }
   ],
   "source": [
    "files_path=\"c:\\\\USERS\\\\DOWNLOAD\\\\Files.txt\"  # ye do do baar backward slash use krne ka mtlb hai ki ek apne aap print nai hoga\n",
    "print(files_path)# single slash lgate upr to error show kr deta islea do do lgay hain"
   ]
  },
  {
   "cell_type": "code",
   "execution_count": 61,
   "id": "bfb4c792",
   "metadata": {},
   "outputs": [
    {
     "ename": "SyntaxError",
     "evalue": "unterminated string literal (detected at line 1) (1464659680.py, line 1)",
     "output_type": "error",
     "traceback": [
      "\u001b[1;36m  Cell \u001b[1;32mIn[61], line 1\u001b[1;36m\u001b[0m\n\u001b[1;33m    str1='i cant't believe its a friday'  # ye apne ko error dega print krate heen kyunki cant mai vi single apostrophy use hua or string ko vi single mai rakha hai\u001b[0m\n\u001b[1;37m                                       ^\u001b[0m\n\u001b[1;31mSyntaxError\u001b[0m\u001b[1;31m:\u001b[0m unterminated string literal (detected at line 1)\n"
     ]
    }
   ],
   "source": [
    "str1='i cant't believe its a friday'  # ye apne ko error dega print krate heen kyunki cant mai vi single apostrophy use hua or string ko vi single mai rakha hai"
   ]
  },
  {
   "cell_type": "code",
   "execution_count": 65,
   "id": "8b8d667e",
   "metadata": {},
   "outputs": [
    {
     "data": {
      "text/plain": [
       "\"i can't believe its a friday\""
      ]
     },
     "execution_count": 65,
     "metadata": {},
     "output_type": "execute_result"
    }
   ],
   "source": [
    "#to avoid what happend above we can use \\'(single quote escape\n",
    "str1='i can\\'t believe its a friday' #cant mai hmne yha pr \\' use kiya to error nai aaya\n",
    "str1"
   ]
  },
  {
   "cell_type": "code",
   "execution_count": 70,
   "id": "556fbad0",
   "metadata": {},
   "outputs": [
    {
     "name": "stdout",
     "output_type": "stream",
     "text": [
      "hello i am harshit,going to delhi\n"
     ]
    }
   ],
   "source": [
    "#carriage return \\r\n",
    "t=\"hello i am harshit,going to delhi\"  # now mano meko harshit starting mai chahiye whi se sentence chahiye to mai \\r use krunga\n",
    "print(t)\n"
   ]
  },
  {
   "cell_type": "code",
   "execution_count": 69,
   "id": "7d75461b",
   "metadata": {},
   "outputs": [
    {
     "name": "stdout",
     "output_type": "stream",
     "text": [
      "hello i am \r",
      "harshit,going to delhi\n"
     ]
    }
   ],
   "source": [
    "t=\"hello i am \\rharshit,going to delhi\"  # now mano meko harshit starting mai chahiye whi se sentence chahiye to mai \\r use krunga\n",
    "print(t)"
   ]
  },
  {
   "cell_type": "code",
   "execution_count": 72,
   "id": "83632dea",
   "metadata": {},
   "outputs": [
    {
     "name": "stdout",
     "output_type": "stream",
     "text": [
      "hello users,how are you\n"
     ]
    }
   ],
   "source": [
    "#string formatting >>creating string with placeholder for variable\n",
    "#mtlb string ke kisi part ko baar baar update krna hai meko tb use hoga\n",
    "username=\"users\"\n",
    "print(\"hello users,how are you\") # ab mano meko isme users baar baar change krna haai thn use  hogi formatting\n",
    "#this is done using f string\n"
   ]
  },
  {
   "cell_type": "code",
   "execution_count": 75,
   "id": "05bfdcc7",
   "metadata": {},
   "outputs": [
    {
     "name": "stdout",
     "output_type": "stream",
     "text": [
      "hello users,how are you\n"
     ]
    }
   ],
   "source": [
    "username=\"users\"\n",
    "print(f\"hello {username},how are you\") # jo aage f laga usko khte hain f string , ab kinni baar input aayga waisa output"
   ]
  },
  {
   "cell_type": "code",
   "execution_count": 79,
   "id": "1604d871",
   "metadata": {},
   "outputs": [
    {
     "data": {
      "text/plain": [
       "'the course is PW SKILLS of 3 hours makes me excited'"
      ]
     },
     "execution_count": 79,
     "metadata": {},
     "output_type": "execute_result"
    }
   ],
   "source": [
    "#f strings(formatted string literals)\n",
    "course=\"PW SKILLS\"\n",
    "duration=3\n",
    "f\"the course is {course} of {duration} hours this makes me excited\"  #ye sbkuch print mai daal kr vi kra skte"
   ]
  },
  {
   "cell_type": "code",
   "execution_count": 82,
   "id": "0f0dd914",
   "metadata": {},
   "outputs": [
    {
     "data": {
      "text/plain": [
       "False"
      ]
     },
     "execution_count": 82,
     "metadata": {},
     "output_type": "execute_result"
    }
   ],
   "source": [
    "#ye janna hai ki kisi particular letter se shuru hota hai ya nai thn use startswith()\n",
    "s1=\"PWSKILLS\"\n",
    "s1.startswith(\"q\") #false dega kyunkki shuru hota hai p se naki q se"
   ]
  },
  {
   "cell_type": "code",
   "execution_count": 86,
   "id": "11ef53d4",
   "metadata": {},
   "outputs": [
    {
     "data": {
      "text/plain": [
       "True"
      ]
     },
     "execution_count": 86,
     "metadata": {},
     "output_type": "execute_result"
    }
   ],
   "source": [
    "#ye janna hai ki kisi particular letter se end hota hai ya nai thn use endswith()\n",
    "s1=\"PWSKILLS\"\n",
    "s1.endswith(\"S\") # true dega kyunki capital s se heen end hota hai"
   ]
  },
  {
   "cell_type": "code",
   "execution_count": 88,
   "id": "6dc61fb9",
   "metadata": {},
   "outputs": [
    {
     "data": {
      "text/plain": [
       "True"
      ]
     },
     "execution_count": 88,
     "metadata": {},
     "output_type": "execute_result"
    }
   ],
   "source": [
    "#pata krna hai ki koi string alpha numeric hai ya nai to\n",
    "a=\"hel33\"\n",
    "a.isalnum() #true dega kyunki number or alphabets dono present hai"
   ]
  },
  {
   "cell_type": "code",
   "execution_count": 90,
   "id": "ca71b819",
   "metadata": {},
   "outputs": [
    {
     "data": {
      "text/plain": [
       "8"
      ]
     },
     "execution_count": 90,
     "metadata": {},
     "output_type": "execute_result"
    }
   ],
   "source": [
    "#length ke liye\n",
    "s=\"pwskills\"\n",
    "len(s)"
   ]
  },
  {
   "cell_type": "code",
   "execution_count": 98,
   "id": "e33532f5",
   "metadata": {},
   "outputs": [
    {
     "name": "stdout",
     "output_type": "stream",
     "text": [
      "p\n",
      "1\n",
      "w\n",
      "2\n",
      "s\n",
      "3\n",
      "k\n",
      "4\n",
      "i\n",
      "5\n",
      "l\n",
      "6\n",
      "l\n",
      "7\n",
      "s\n",
      "8\n"
     ]
    }
   ],
   "source": [
    "i=0\n",
    "count=0\n",
    "for i in s:\n",
    "    print(i)\n",
    "    count=count+1\n",
    "    print(count)\n",
    "   \n",
    "    "
   ]
  },
  {
   "cell_type": "code",
   "execution_count": 99,
   "id": "f024ed72",
   "metadata": {},
   "outputs": [
    {
     "data": {
      "text/plain": [
       "[0, 1, 2, 3, 4, 5, 6, 7]"
      ]
     },
     "execution_count": 99,
     "metadata": {},
     "output_type": "execute_result"
    }
   ],
   "source": [
    "list(range(len(s)))"
   ]
  },
  {
   "cell_type": "code",
   "execution_count": 101,
   "id": "75cd19d3",
   "metadata": {},
   "outputs": [
    {
     "name": "stdout",
     "output_type": "stream",
     "text": [
      "p\n",
      "0\n",
      "w\n",
      "1\n",
      "s\n",
      "2\n",
      "k\n",
      "3\n",
      "i\n",
      "4\n",
      "l\n",
      "5\n",
      "l\n",
      "6\n",
      "s\n",
      "7\n"
     ]
    }
   ],
   "source": [
    "for ch in range(len(s)):\n",
    "    print(s[ch])\n",
    "    print(ch)"
   ]
  },
  {
   "cell_type": "code",
   "execution_count": null,
   "id": "2264e63a",
   "metadata": {},
   "outputs": [],
   "source": []
  }
 ],
 "metadata": {
  "kernelspec": {
   "display_name": "Python 3 (ipykernel)",
   "language": "python",
   "name": "python3"
  },
  "language_info": {
   "codemirror_mode": {
    "name": "ipython",
    "version": 3
   },
   "file_extension": ".py",
   "mimetype": "text/x-python",
   "name": "python",
   "nbconvert_exporter": "python",
   "pygments_lexer": "ipython3",
   "version": "3.11.5"
  }
 },
 "nbformat": 4,
 "nbformat_minor": 5
}
