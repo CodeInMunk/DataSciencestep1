{
 "cells": [
  {
   "cell_type": "code",
   "execution_count": 1,
   "id": "7a0579c0",
   "metadata": {},
   "outputs": [
    {
     "name": "stdout",
     "output_type": "stream",
     "text": [
      "hello\n"
     ]
    }
   ],
   "source": [
    "print(\"hello\")"
   ]
  },
  {
   "cell_type": "code",
   "execution_count": 2,
   "id": "ec1f7edc",
   "metadata": {},
   "outputs": [],
   "source": [
    "a=5"
   ]
  },
  {
   "cell_type": "code",
   "execution_count": 3,
   "id": "d7870f32",
   "metadata": {},
   "outputs": [
    {
     "data": {
      "text/plain": [
       "5"
      ]
     },
     "execution_count": 3,
     "metadata": {},
     "output_type": "execute_result"
    }
   ],
   "source": [
    "a"
   ]
  },
  {
   "cell_type": "code",
   "execution_count": 4,
   "id": "b2865e5d",
   "metadata": {},
   "outputs": [],
   "source": [
    "a=6 #value changed from 5 to 6"
   ]
  },
  {
   "cell_type": "code",
   "execution_count": 5,
   "id": "3f853f3d",
   "metadata": {},
   "outputs": [
    {
     "data": {
      "text/plain": [
       "6"
      ]
     },
     "execution_count": 5,
     "metadata": {},
     "output_type": "execute_result"
    }
   ],
   "source": [
    "a"
   ]
  },
  {
   "cell_type": "code",
   "execution_count": 6,
   "id": "b8beba0e",
   "metadata": {},
   "outputs": [
    {
     "data": {
      "text/plain": [
       "int"
      ]
     },
     "execution_count": 6,
     "metadata": {},
     "output_type": "execute_result"
    }
   ],
   "source": [
    "type(a)"
   ]
  },
  {
   "cell_type": "code",
   "execution_count": 7,
   "id": "94d4c1cf",
   "metadata": {},
   "outputs": [],
   "source": [
    "b=4.2"
   ]
  },
  {
   "cell_type": "code",
   "execution_count": 8,
   "id": "fae9a74b",
   "metadata": {},
   "outputs": [
    {
     "data": {
      "text/plain": [
       "4.2"
      ]
     },
     "execution_count": 8,
     "metadata": {},
     "output_type": "execute_result"
    }
   ],
   "source": [
    "b"
   ]
  },
  {
   "cell_type": "code",
   "execution_count": 9,
   "id": "517467c2",
   "metadata": {},
   "outputs": [
    {
     "data": {
      "text/plain": [
       "float"
      ]
     },
     "execution_count": 9,
     "metadata": {},
     "output_type": "execute_result"
    }
   ],
   "source": [
    "type(b)"
   ]
  },
  {
   "cell_type": "code",
   "execution_count": 10,
   "id": "7b043b21",
   "metadata": {},
   "outputs": [],
   "source": [
    "a=False"
   ]
  },
  {
   "cell_type": "code",
   "execution_count": 11,
   "id": "db422db4",
   "metadata": {},
   "outputs": [
    {
     "data": {
      "text/plain": [
       "bool"
      ]
     },
     "execution_count": 11,
     "metadata": {},
     "output_type": "execute_result"
    }
   ],
   "source": [
    "type(a)"
   ]
  },
  {
   "cell_type": "code",
   "execution_count": null,
   "id": "5f540803",
   "metadata": {},
   "outputs": [],
   "source": []
  },
  {
   "cell_type": "code",
   "execution_count": null,
   "id": "c0e89c4b",
   "metadata": {},
   "outputs": [],
   "source": []
  },
  {
   "cell_type": "code",
   "execution_count": 12,
   "id": "7282ee61",
   "metadata": {},
   "outputs": [],
   "source": [
    "                         #LECTURE 3"
   ]
  },
  {
   "cell_type": "code",
   "execution_count": 13,
   "id": "c48f1681",
   "metadata": {},
   "outputs": [],
   "source": [
    "d=\"radhe\"             #STRING IS IMMUTABLE MTLB ISKE ANDR CHANGE NAIKR SKTE INDEXING SE JAISE NEECHE MAI LIST MAI KR RHE HAIN"
   ]
  },
  {
   "cell_type": "code",
   "execution_count": 14,
   "id": "3ff7a7f8",
   "metadata": {},
   "outputs": [
    {
     "data": {
      "text/plain": [
       "'d'"
      ]
     },
     "execution_count": 14,
     "metadata": {},
     "output_type": "execute_result"
    }
   ],
   "source": [
    "d[2]"
   ]
  },
  {
   "cell_type": "code",
   "execution_count": 15,
   "id": "45f56543",
   "metadata": {},
   "outputs": [
    {
     "data": {
      "text/plain": [
       "'rad'"
      ]
     },
     "execution_count": 15,
     "metadata": {},
     "output_type": "execute_result"
    }
   ],
   "source": [
    "d[0:3]"
   ]
  },
  {
   "cell_type": "code",
   "execution_count": 16,
   "id": "7f2c92b9",
   "metadata": {},
   "outputs": [
    {
     "data": {
      "text/plain": [
       "'h'"
      ]
     },
     "execution_count": 16,
     "metadata": {},
     "output_type": "execute_result"
    }
   ],
   "source": [
    "d[-2]"
   ]
  },
  {
   "cell_type": "code",
   "execution_count": 17,
   "id": "e17e7daa",
   "metadata": {},
   "outputs": [],
   "source": [
    " #another type of list container\n",
    "list_container=[1,2,3,\"radhe\",\"bharat\",3.5,True]"
   ]
  },
  {
   "cell_type": "code",
   "execution_count": 18,
   "id": "3ab9d12f",
   "metadata": {},
   "outputs": [
    {
     "data": {
      "text/plain": [
       "[1, 2, 3, 'radhe', 'bharat', 3.5, True]"
      ]
     },
     "execution_count": 18,
     "metadata": {},
     "output_type": "execute_result"
    }
   ],
   "source": [
    "list_container"
   ]
  },
  {
   "cell_type": "code",
   "execution_count": 19,
   "id": "7097caad",
   "metadata": {},
   "outputs": [
    {
     "data": {
      "text/plain": [
       "3.5"
      ]
     },
     "execution_count": 19,
     "metadata": {},
     "output_type": "execute_result"
    }
   ],
   "source": [
    "list_container[5]"
   ]
  },
  {
   "cell_type": "code",
   "execution_count": 20,
   "id": "1eb07d0d",
   "metadata": {},
   "outputs": [],
   "source": [
    "list_container[5]=\"wande\""
   ]
  },
  {
   "cell_type": "code",
   "execution_count": 21,
   "id": "f8f5fe22",
   "metadata": {},
   "outputs": [
    {
     "data": {
      "text/plain": [
       "[1, 2, 3, 'radhe', 'bharat', 'wande', True]"
      ]
     },
     "execution_count": 21,
     "metadata": {},
     "output_type": "execute_result"
    }
   ],
   "source": [
    "list_container"
   ]
  },
  {
   "cell_type": "code",
   "execution_count": null,
   "id": "0b45e642",
   "metadata": {},
   "outputs": [],
   "source": [
    "                            "
   ]
  },
  {
   "cell_type": "code",
   "execution_count": null,
   "id": "034af678",
   "metadata": {},
   "outputs": [],
   "source": []
  },
  {
   "cell_type": "code",
   "execution_count": 22,
   "id": "0c4ecbc3",
   "metadata": {},
   "outputs": [],
   "source": [
    "                              #lecture 4 OPERATORS"
   ]
  },
  {
   "cell_type": "code",
   "execution_count": 23,
   "id": "36fe645c",
   "metadata": {},
   "outputs": [],
   "source": [
    "#WHAT IS OPERATOR>>>TO PERFORM SPECIFIC OPERATIONS"
   ]
  },
  {
   "cell_type": "code",
   "execution_count": 24,
   "id": "23dc2eaa",
   "metadata": {},
   "outputs": [],
   "source": [
    "a=5\n",
    "b=2"
   ]
  },
  {
   "cell_type": "code",
   "execution_count": 25,
   "id": "e2f50aee",
   "metadata": {},
   "outputs": [
    {
     "data": {
      "text/plain": [
       "7"
      ]
     },
     "execution_count": 25,
     "metadata": {},
     "output_type": "execute_result"
    }
   ],
   "source": [
    "a+b\n"
   ]
  },
  {
   "cell_type": "code",
   "execution_count": 26,
   "id": "6e3d0417",
   "metadata": {},
   "outputs": [
    {
     "data": {
      "text/plain": [
       "3"
      ]
     },
     "execution_count": 26,
     "metadata": {},
     "output_type": "execute_result"
    }
   ],
   "source": [
    "a-b"
   ]
  },
  {
   "cell_type": "code",
   "execution_count": 27,
   "id": "b9e52540",
   "metadata": {},
   "outputs": [
    {
     "data": {
      "text/plain": [
       "10"
      ]
     },
     "execution_count": 27,
     "metadata": {},
     "output_type": "execute_result"
    }
   ],
   "source": [
    "a*b"
   ]
  },
  {
   "cell_type": "code",
   "execution_count": 28,
   "id": "35a8022c",
   "metadata": {},
   "outputs": [
    {
     "data": {
      "text/plain": [
       "2.5"
      ]
     },
     "execution_count": 28,
     "metadata": {},
     "output_type": "execute_result"
    }
   ],
   "source": [
    "a/b"
   ]
  },
  {
   "cell_type": "code",
   "execution_count": 29,
   "id": "93a6a3bf",
   "metadata": {},
   "outputs": [
    {
     "data": {
      "text/plain": [
       "1"
      ]
     },
     "execution_count": 29,
     "metadata": {},
     "output_type": "execute_result"
    }
   ],
   "source": [
    "#modulous operator\n",
    "a%b"
   ]
  },
  {
   "cell_type": "code",
   "execution_count": 30,
   "id": "2fec016f",
   "metadata": {},
   "outputs": [
    {
     "data": {
      "text/plain": [
       "2"
      ]
     },
     "execution_count": 30,
     "metadata": {},
     "output_type": "execute_result"
    }
   ],
   "source": [
    "b%a"
   ]
  },
  {
   "cell_type": "markdown",
   "id": "a5aa2c37",
   "metadata": {},
   "source": [
    "# COMPARISON OPERATOR"
   ]
  },
  {
   "cell_type": "code",
   "execution_count": 31,
   "id": "67e57b18",
   "metadata": {},
   "outputs": [
    {
     "data": {
      "text/plain": [
       "True"
      ]
     },
     "execution_count": 31,
     "metadata": {},
     "output_type": "execute_result"
    }
   ],
   "source": [
    "2==2 #yha compare ho rha barabr haui ya nai agr nai hoga to false aa jayga"
   ]
  },
  {
   "cell_type": "code",
   "execution_count": 32,
   "id": "bc9cedea",
   "metadata": {},
   "outputs": [
    {
     "data": {
      "text/plain": [
       "1.3333333333333333"
      ]
     },
     "execution_count": 32,
     "metadata": {},
     "output_type": "execute_result"
    }
   ],
   "source": [
    "4/3 #this is not a comparison operator"
   ]
  },
  {
   "cell_type": "code",
   "execution_count": 33,
   "id": "ab27809b",
   "metadata": {},
   "outputs": [
    {
     "data": {
      "text/plain": [
       "1"
      ]
     },
     "execution_count": 33,
     "metadata": {},
     "output_type": "execute_result"
    }
   ],
   "source": [
    "4//3 # this is floor operator ye nearest integer value deta hai ye hai comparison operator"
   ]
  },
  {
   "cell_type": "code",
   "execution_count": 34,
   "id": "f302f159",
   "metadata": {},
   "outputs": [
    {
     "data": {
      "text/plain": [
       "False"
      ]
     },
     "execution_count": 34,
     "metadata": {},
     "output_type": "execute_result"
    }
   ],
   "source": [
    "2!=2 #is not equal to sign is also a comparison operator"
   ]
  },
  {
   "cell_type": "code",
   "execution_count": 35,
   "id": "c356c2a8",
   "metadata": {},
   "outputs": [
    {
     "data": {
      "text/plain": [
       "True"
      ]
     },
     "execution_count": 35,
     "metadata": {},
     "output_type": "execute_result"
    }
   ],
   "source": [
    "10>5"
   ]
  },
  {
   "cell_type": "code",
   "execution_count": 36,
   "id": "eb6c825f",
   "metadata": {},
   "outputs": [
    {
     "data": {
      "text/plain": [
       "False"
      ]
     },
     "execution_count": 36,
     "metadata": {},
     "output_type": "execute_result"
    }
   ],
   "source": [
    "10<2"
   ]
  },
  {
   "cell_type": "code",
   "execution_count": 37,
   "id": "e4191984",
   "metadata": {},
   "outputs": [
    {
     "data": {
      "text/plain": [
       "True"
      ]
     },
     "execution_count": 37,
     "metadata": {},
     "output_type": "execute_result"
    }
   ],
   "source": [
    "10>=10"
   ]
  },
  {
   "cell_type": "markdown",
   "id": "682ce472",
   "metadata": {},
   "source": [
    "# LOGICAL OPERATOR"
   ]
  },
  {
   "cell_type": "code",
   "execution_count": 38,
   "id": "81b7bac6",
   "metadata": {},
   "outputs": [],
   "source": [
    " #LOGICAL AND\n",
    " #logical or\n",
    " #logical NOT \n",
    "    \n",
    "# all these are logical operators\n",
    "  "
   ]
  },
  {
   "cell_type": "code",
   "execution_count": 39,
   "id": "38dd1741",
   "metadata": {},
   "outputs": [
    {
     "data": {
      "text/plain": [
       "True"
      ]
     },
     "execution_count": 39,
     "metadata": {},
     "output_type": "execute_result"
    }
   ],
   "source": [
    "True and True   # and table mai 1 and 1 pe 1 aata hai"
   ]
  },
  {
   "cell_type": "code",
   "execution_count": 40,
   "id": "043f193b",
   "metadata": {},
   "outputs": [
    {
     "data": {
      "text/plain": [
       "False"
      ]
     },
     "execution_count": 40,
     "metadata": {},
     "output_type": "execute_result"
    }
   ],
   "source": [
    "True and False #and table mai ek vi 0 hone pr 0 mtlb false aata hai"
   ]
  },
  {
   "cell_type": "code",
   "execution_count": 41,
   "id": "12bb2a79",
   "metadata": {},
   "outputs": [
    {
     "data": {
      "text/plain": [
       "False"
      ]
     },
     "execution_count": 41,
     "metadata": {},
     "output_type": "execute_result"
    }
   ],
   "source": [
    "False and False #and table mai kyunki ek vi 0 rhne pr 0 aata hai to isle yha  0 mtlb false aayga"
   ]
  },
  {
   "cell_type": "code",
   "execution_count": 42,
   "id": "ca076368",
   "metadata": {},
   "outputs": [
    {
     "name": "stdout",
     "output_type": "stream",
     "text": [
      "True\n",
      "True\n",
      "False\n"
     ]
    }
   ],
   "source": [
    "x=True or True\n",
    "print(x)\n",
    "y=True or False\n",
    "print(y)\n",
    "z=False or False  # jbtk dono 0 nai hota tb tk isme 0 mtlb false nai aata or table mai\n",
    "print(z)"
   ]
  },
  {
   "cell_type": "code",
   "execution_count": 43,
   "id": "ae81b6f8",
   "metadata": {},
   "outputs": [
    {
     "data": {
      "text/plain": [
       "False"
      ]
     },
     "execution_count": 43,
     "metadata": {},
     "output_type": "execute_result"
    }
   ],
   "source": [
    "#Not operator isme jo vi result hota hai uska ulta kr deta hai\n",
    "not True"
   ]
  },
  {
   "cell_type": "code",
   "execution_count": 44,
   "id": "53028c50",
   "metadata": {},
   "outputs": [
    {
     "data": {
      "text/plain": [
       "True"
      ]
     },
     "execution_count": 44,
     "metadata": {},
     "output_type": "execute_result"
    }
   ],
   "source": [
    "not False"
   ]
  },
  {
   "cell_type": "markdown",
   "id": "1d67c26c",
   "metadata": {},
   "source": [
    "\n",
    "\n",
    "# assignment Operator"
   ]
  },
  {
   "cell_type": "code",
   "execution_count": 45,
   "id": "a9dc9b3c",
   "metadata": {},
   "outputs": [],
   "source": [
    "a=10 # a mai value asign ki"
   ]
  },
  {
   "cell_type": "code",
   "execution_count": 46,
   "id": "025b5711",
   "metadata": {},
   "outputs": [
    {
     "data": {
      "text/plain": [
       "10"
      ]
     },
     "execution_count": 46,
     "metadata": {},
     "output_type": "execute_result"
    }
   ],
   "source": [
    "a"
   ]
  },
  {
   "cell_type": "code",
   "execution_count": 47,
   "id": "abcdfa45",
   "metadata": {},
   "outputs": [
    {
     "data": {
      "text/plain": [
       "15"
      ]
     },
     "execution_count": 47,
     "metadata": {},
     "output_type": "execute_result"
    }
   ],
   "source": [
    "a+5 # a mai add kiya"
   ]
  },
  {
   "cell_type": "code",
   "execution_count": 48,
   "id": "f8f70728",
   "metadata": {},
   "outputs": [
    {
     "data": {
      "text/plain": [
       "10"
      ]
     },
     "execution_count": 48,
     "metadata": {},
     "output_type": "execute_result"
    }
   ],
   "source": [
    "a"
   ]
  },
  {
   "cell_type": "code",
   "execution_count": 49,
   "id": "b372e00e",
   "metadata": {},
   "outputs": [],
   "source": [
    "a=a+10 # yha pr hmne value bdl di change krli a ki usme heen operation lga kr"
   ]
  },
  {
   "cell_type": "code",
   "execution_count": 50,
   "id": "6f749d0b",
   "metadata": {},
   "outputs": [
    {
     "data": {
      "text/plain": [
       "20"
      ]
     },
     "execution_count": 50,
     "metadata": {},
     "output_type": "execute_result"
    }
   ],
   "source": [
    "a"
   ]
  },
  {
   "cell_type": "code",
   "execution_count": 51,
   "id": "a75d7953",
   "metadata": {},
   "outputs": [],
   "source": [
    "a+=5 # yha addition ke sath heen value  ki change krdi = lga kr issko vi assignment operator khte hain"
   ]
  },
  {
   "cell_type": "code",
   "execution_count": 52,
   "id": "2430d02f",
   "metadata": {},
   "outputs": [
    {
     "data": {
      "text/plain": [
       "25"
      ]
     },
     "execution_count": 52,
     "metadata": {},
     "output_type": "execute_result"
    }
   ],
   "source": [
    "a"
   ]
  },
  {
   "cell_type": "code",
   "execution_count": 53,
   "id": "29dad6b6",
   "metadata": {},
   "outputs": [
    {
     "data": {
      "text/plain": [
       "50"
      ]
     },
     "execution_count": 53,
     "metadata": {},
     "output_type": "execute_result"
    }
   ],
   "source": [
    "a*2 # yha bs multiply hua a ki value nai change hui no assigned value"
   ]
  },
  {
   "cell_type": "code",
   "execution_count": 54,
   "id": "7c68bbc5",
   "metadata": {},
   "outputs": [],
   "source": [
    "a*=2 # yha phle 2 se multiply hua fir value vi asign ho gai a ko"
   ]
  },
  {
   "cell_type": "code",
   "execution_count": 55,
   "id": "0ea2140a",
   "metadata": {},
   "outputs": [
    {
     "data": {
      "text/plain": [
       "50"
      ]
     },
     "execution_count": 55,
     "metadata": {},
     "output_type": "execute_result"
    }
   ],
   "source": [
    "a"
   ]
  },
  {
   "cell_type": "markdown",
   "id": "3d1617be",
   "metadata": {},
   "source": [
    "# Membership Operator"
   ]
  },
  {
   "cell_type": "code",
   "execution_count": 56,
   "id": "bce233ca",
   "metadata": {},
   "outputs": [],
   "source": [
    "# the membership operator helps us to decide if the value is present in sequence or not"
   ]
  },
  {
   "cell_type": "code",
   "execution_count": 57,
   "id": "df0bfaf2",
   "metadata": {},
   "outputs": [
    {
     "data": {
      "text/plain": [
       "True"
      ]
     },
     "execution_count": 57,
     "metadata": {},
     "output_type": "execute_result"
    }
   ],
   "source": [
    "#eg\n",
    "a=\"PWSKILLS\"\n",
    "\"P\" in a   # in yha pr check krta hai ki a mai p hai ya nai hua to true wrna false"
   ]
  },
  {
   "cell_type": "code",
   "execution_count": 58,
   "id": "f30731a4",
   "metadata": {},
   "outputs": [
    {
     "data": {
      "text/plain": [
       "True"
      ]
     },
     "execution_count": 58,
     "metadata": {},
     "output_type": "execute_result"
    }
   ],
   "source": [
    "b=\"I am Harshit\"\n",
    "\"am\" in b"
   ]
  },
  {
   "cell_type": "code",
   "execution_count": 59,
   "id": "04fa39f0",
   "metadata": {},
   "outputs": [
    {
     "data": {
      "text/plain": [
       "False"
      ]
     },
     "execution_count": 59,
     "metadata": {},
     "output_type": "execute_result"
    }
   ],
   "source": [
    "\"data\" in \"PWSKILLS\""
   ]
  },
  {
   "cell_type": "code",
   "execution_count": 60,
   "id": "75125473",
   "metadata": {},
   "outputs": [
    {
     "data": {
      "text/plain": [
       "True"
      ]
     },
     "execution_count": 60,
     "metadata": {},
     "output_type": "execute_result"
    }
   ],
   "source": [
    "\"data\" not in \"PWSKILLS\""
   ]
  },
  {
   "cell_type": "code",
   "execution_count": 61,
   "id": "f0d30ddb",
   "metadata": {},
   "outputs": [],
   "source": [
    "A=[\"DATA\",\"SCIENTIST\",\"Harshit\",\"Singh\"]"
   ]
  },
  {
   "cell_type": "code",
   "execution_count": 62,
   "id": "82e65b04",
   "metadata": {},
   "outputs": [
    {
     "data": {
      "text/plain": [
       "True"
      ]
     },
     "execution_count": 62,
     "metadata": {},
     "output_type": "execute_result"
    }
   ],
   "source": [
    "\"DATA\" in A"
   ]
  },
  {
   "cell_type": "markdown",
   "id": "8b5bbbdf",
   "metadata": {},
   "source": [
    "# IDENTITY OPERATOR"
   ]
  },
  {
   "cell_type": "code",
   "execution_count": 63,
   "id": "0b02c914",
   "metadata": {},
   "outputs": [],
   "source": [
    "#identity operator compares the memory location of two objects isme is, is not ye sb aata hai"
   ]
  },
  {
   "cell_type": "code",
   "execution_count": 64,
   "id": "388683c9",
   "metadata": {},
   "outputs": [],
   "source": [
    "a=2"
   ]
  },
  {
   "cell_type": "code",
   "execution_count": 65,
   "id": "21446a1a",
   "metadata": {},
   "outputs": [],
   "source": [
    "b=3"
   ]
  },
  {
   "cell_type": "code",
   "execution_count": 66,
   "id": "3ab78a37",
   "metadata": {},
   "outputs": [
    {
     "data": {
      "text/plain": [
       "False"
      ]
     },
     "execution_count": 66,
     "metadata": {},
     "output_type": "execute_result"
    }
   ],
   "source": [
    "a is b"
   ]
  },
  {
   "cell_type": "code",
   "execution_count": 67,
   "id": "7be9292c",
   "metadata": {},
   "outputs": [
    {
     "data": {
      "text/plain": [
       "False"
      ]
     },
     "execution_count": 67,
     "metadata": {},
     "output_type": "execute_result"
    }
   ],
   "source": [
    "b is a"
   ]
  },
  {
   "cell_type": "code",
   "execution_count": 68,
   "id": "8627a921",
   "metadata": {},
   "outputs": [],
   "source": [
    "a=\"pwskills\""
   ]
  },
  {
   "cell_type": "code",
   "execution_count": 69,
   "id": "ca35bec4",
   "metadata": {},
   "outputs": [],
   "source": [
    "b=a"
   ]
  },
  {
   "cell_type": "code",
   "execution_count": 70,
   "id": "7e4bcb2c",
   "metadata": {},
   "outputs": [
    {
     "data": {
      "text/plain": [
       "True"
      ]
     },
     "execution_count": 70,
     "metadata": {},
     "output_type": "execute_result"
    }
   ],
   "source": [
    "a is b"
   ]
  },
  {
   "cell_type": "code",
   "execution_count": 71,
   "id": "bf8f8f5b",
   "metadata": {},
   "outputs": [
    {
     "data": {
      "text/plain": [
       "True"
      ]
     },
     "execution_count": 71,
     "metadata": {},
     "output_type": "execute_result"
    }
   ],
   "source": [
    "b is a"
   ]
  },
  {
   "cell_type": "code",
   "execution_count": 72,
   "id": "f8560466",
   "metadata": {},
   "outputs": [
    {
     "data": {
      "text/plain": [
       "'pwskills'"
      ]
     },
     "execution_count": 72,
     "metadata": {},
     "output_type": "execute_result"
    }
   ],
   "source": [
    "b"
   ]
  },
  {
   "cell_type": "code",
   "execution_count": 73,
   "id": "3939720b",
   "metadata": {},
   "outputs": [
    {
     "data": {
      "text/plain": [
       "False"
      ]
     },
     "execution_count": 73,
     "metadata": {},
     "output_type": "execute_result"
    }
   ],
   "source": [
    "a=\"pwskills\"\n",
    "b=\"data\"\n",
    "a is b"
   ]
  },
  {
   "cell_type": "code",
   "execution_count": 74,
   "id": "de960417",
   "metadata": {},
   "outputs": [
    {
     "data": {
      "text/plain": [
       "True"
      ]
     },
     "execution_count": 74,
     "metadata": {},
     "output_type": "execute_result"
    }
   ],
   "source": [
    "a is not b"
   ]
  },
  {
   "cell_type": "markdown",
   "id": "8b1e62ae",
   "metadata": {},
   "source": [
    "# Bitwise Operator"
   ]
  },
  {
   "cell_type": "code",
   "execution_count": 75,
   "id": "53b76152",
   "metadata": {},
   "outputs": [],
   "source": [
    "#it is used to perform operations at bit level"
   ]
  },
  {
   "cell_type": "code",
   "execution_count": 76,
   "id": "f94e96c1",
   "metadata": {},
   "outputs": [
    {
     "data": {
      "text/plain": [
       "10"
      ]
     },
     "execution_count": 76,
     "metadata": {},
     "output_type": "execute_result"
    }
   ],
   "source": [
    "10 & 10    #10 in bitwwise is written as 1010 \n",
    " # here & means and operatoor to 1010 and 1010 ko dekhenge ab \n",
    "    #1010\n",
    "    #1010\n",
    "#    1010 upr ke dono ko and operator se add krein to do 1 means 1 or ek vi 0 ka 0 so 1010 heenn aayga islea 1010 &1010 ka answer 1010 aaya"
   ]
  },
  {
   "cell_type": "code",
   "execution_count": 77,
   "id": "02bdec00",
   "metadata": {},
   "outputs": [
    {
     "data": {
      "text/plain": [
       "2"
      ]
     },
     "execution_count": 77,
     "metadata": {},
     "output_type": "execute_result"
    }
   ],
   "source": [
    "18 & 3"
   ]
  },
  {
   "cell_type": "code",
   "execution_count": 78,
   "id": "5bd1ee70",
   "metadata": {},
   "outputs": [
    {
     "data": {
      "text/plain": [
       "19"
      ]
     },
     "execution_count": 78,
     "metadata": {},
     "output_type": "execute_result"
    }
   ],
   "source": [
    "18|3  #3 or 5"
   ]
  },
  {
   "cell_type": "code",
   "execution_count": 79,
   "id": "cda99c64",
   "metadata": {},
   "outputs": [
    {
     "data": {
      "text/plain": [
       "7"
      ]
     },
     "execution_count": 79,
     "metadata": {},
     "output_type": "execute_result"
    }
   ],
   "source": [
    "3|5"
   ]
  },
  {
   "cell_type": "code",
   "execution_count": 80,
   "id": "3db3729a",
   "metadata": {},
   "outputs": [
    {
     "data": {
      "text/plain": [
       "-4"
      ]
     },
     "execution_count": 80,
     "metadata": {},
     "output_type": "execute_result"
    }
   ],
   "source": [
    "~3  # negotiation wala use krenge to 1 less in - for positive value dega"
   ]
  },
  {
   "cell_type": "code",
   "execution_count": 81,
   "id": "14babed3",
   "metadata": {},
   "outputs": [
    {
     "data": {
      "text/plain": [
       "-6"
      ]
     },
     "execution_count": 81,
     "metadata": {},
     "output_type": "execute_result"
    }
   ],
   "source": [
    "~5"
   ]
  },
  {
   "cell_type": "code",
   "execution_count": 82,
   "id": "1d40bf00",
   "metadata": {},
   "outputs": [
    {
     "data": {
      "text/plain": [
       "2"
      ]
     },
     "execution_count": 82,
     "metadata": {},
     "output_type": "execute_result"
    }
   ],
   "source": [
    "~-3 # - ve ke sath use krenge to output + ve mai aayga one more -3 ka 2 -4 ka 3"
   ]
  },
  {
   "cell_type": "code",
   "execution_count": 83,
   "id": "6ee5f0eb",
   "metadata": {},
   "outputs": [],
   "source": [
    "#bitwise xor operator it will return 1 when exactly one operand is 1"
   ]
  },
  {
   "cell_type": "code",
   "execution_count": 84,
   "id": "c2cbe9fb",
   "metadata": {},
   "outputs": [
    {
     "data": {
      "text/plain": [
       "6"
      ]
     },
     "execution_count": 84,
     "metadata": {},
     "output_type": "execute_result"
    }
   ],
   "source": [
    "5 ^ 3   # xor table mai exactly ek input 1 hota hai to output 1 aata hai wrna agr dono 0 ya dono 1 ho to 0 aata hai\n",
    "#ab binary xor addition krenge 5 ka or 3 ka to aayga 6"
   ]
  },
  {
   "cell_type": "code",
   "execution_count": 85,
   "id": "3a8436ab",
   "metadata": {},
   "outputs": [],
   "source": [
    "# shift left and right operators"
   ]
  },
  {
   "cell_type": "code",
   "execution_count": 86,
   "id": "325b59ca",
   "metadata": {},
   "outputs": [
    {
     "data": {
      "text/plain": [
       "280"
      ]
     },
     "execution_count": 86,
     "metadata": {},
     "output_type": "execute_result"
    }
   ],
   "source": [
    " #left shift operator\n",
    "35<<3 # 35 mai left shift kro 3 baar"
   ]
  },
  {
   "cell_type": "code",
   "execution_count": 87,
   "id": "40e17abf",
   "metadata": {},
   "outputs": [
    {
     "data": {
      "text/plain": [
       "'0b100011'"
      ]
     },
     "execution_count": 87,
     "metadata": {},
     "output_type": "execute_result"
    }
   ],
   "source": [
    "bin(35)"
   ]
  },
  {
   "cell_type": "code",
   "execution_count": 88,
   "id": "e20f88d6",
   "metadata": {},
   "outputs": [],
   "source": [
    "#ab 35 mai left shift 3 baar ka mtlb hua 100011 ko 100011000 bna dena or es 100011000 ki value hai 280"
   ]
  },
  {
   "cell_type": "code",
   "execution_count": 89,
   "id": "a1285fdc",
   "metadata": {},
   "outputs": [
    {
     "data": {
      "text/plain": [
       "'0b100011000'"
      ]
     },
     "execution_count": 89,
     "metadata": {},
     "output_type": "execute_result"
    }
   ],
   "source": [
    "bin(280)"
   ]
  },
  {
   "cell_type": "code",
   "execution_count": 90,
   "id": "96242de4",
   "metadata": {},
   "outputs": [
    {
     "data": {
      "text/plain": [
       "10"
      ]
     },
     "execution_count": 90,
     "metadata": {},
     "output_type": "execute_result"
    }
   ],
   "source": [
    "5<<1"
   ]
  },
  {
   "cell_type": "code",
   "execution_count": 91,
   "id": "3e02320f",
   "metadata": {},
   "outputs": [
    {
     "data": {
      "text/plain": [
       "'0b101'"
      ]
     },
     "execution_count": 91,
     "metadata": {},
     "output_type": "execute_result"
    }
   ],
   "source": [
    "bin(5)"
   ]
  },
  {
   "cell_type": "code",
   "execution_count": 92,
   "id": "11c3e924",
   "metadata": {},
   "outputs": [],
   "source": [
    "# 5 ka binary representation hai 101 pr left shift ek baar krna hai to ab binary number aaya apne paas 1010 jo ki 10 ko represent krta"
   ]
  },
  {
   "cell_type": "code",
   "execution_count": 93,
   "id": "1db21591",
   "metadata": {},
   "outputs": [
    {
     "data": {
      "text/plain": [
       "'0b1010'"
      ]
     },
     "execution_count": 93,
     "metadata": {},
     "output_type": "execute_result"
    }
   ],
   "source": [
    "bin(10)"
   ]
  },
  {
   "cell_type": "code",
   "execution_count": 94,
   "id": "798fd5e0",
   "metadata": {},
   "outputs": [],
   "source": [
    "#right shift operator >>"
   ]
  },
  {
   "cell_type": "code",
   "execution_count": 95,
   "id": "ab287df7",
   "metadata": {},
   "outputs": [
    {
     "data": {
      "text/plain": [
       "35"
      ]
     },
     "execution_count": 95,
     "metadata": {},
     "output_type": "execute_result"
    }
   ],
   "source": [
    "280>>3"
   ]
  },
  {
   "cell_type": "code",
   "execution_count": 96,
   "id": "20c58bf3",
   "metadata": {},
   "outputs": [
    {
     "data": {
      "text/plain": [
       "'0b100011000'"
      ]
     },
     "execution_count": 96,
     "metadata": {},
     "output_type": "execute_result"
    }
   ],
   "source": [
    "bin(280)"
   ]
  },
  {
   "cell_type": "code",
   "execution_count": 97,
   "id": "458ce4e1",
   "metadata": {},
   "outputs": [],
   "source": [
    "#in right shift operator jo vi value di hogi jjaise ki yha 3 to utni binary numbers last se remove ho jaenge jaise ki yha pr 100011000 ke last se 000 hata dene hai to hua 100011 jo represent krta hai 35 ko"
   ]
  },
  {
   "cell_type": "markdown",
   "id": "743fd8dd",
   "metadata": {},
   "source": [
    "### order of presedence(python ke calculation ke rules)\n",
    "#execution will start from left\n",
    "#if brackets are present thn phle bracket solve hoga \n"
   ]
  },
  {
   "cell_type": "markdown",
   "id": "882598a7",
   "metadata": {},
   "source": [
    "# TYPE CASTING(NEW LECTURE)"
   ]
  },
  {
   "cell_type": "code",
   "execution_count": 98,
   "id": "d9e31962",
   "metadata": {},
   "outputs": [],
   "source": [
    "#TYPE CONVERSION THE PROCESS OFF CHANGING THE DATA TYPE OF A VALUE OR OBJECT IN PYTHON "
   ]
  },
  {
   "cell_type": "code",
   "execution_count": 99,
   "id": "5bcef8f7",
   "metadata": {},
   "outputs": [],
   "source": [
    "A=\"5\""
   ]
  },
  {
   "cell_type": "code",
   "execution_count": 100,
   "id": "adf06153",
   "metadata": {},
   "outputs": [
    {
     "data": {
      "text/plain": [
       "str"
      ]
     },
     "execution_count": 100,
     "metadata": {},
     "output_type": "execute_result"
    }
   ],
   "source": [
    "type(A)"
   ]
  },
  {
   "cell_type": "code",
   "execution_count": 101,
   "id": "ec7c0920",
   "metadata": {},
   "outputs": [],
   "source": [
    "# ab is A ko Int. mai convert krne ke liye type conversion ka use hota hai."
   ]
  },
  {
   "cell_type": "code",
   "execution_count": 102,
   "id": "fe42516e",
   "metadata": {},
   "outputs": [
    {
     "data": {
      "text/plain": [
       "'Ramshyam'"
      ]
     },
     "execution_count": 102,
     "metadata": {},
     "output_type": "execute_result"
    }
   ],
   "source": [
    "#adding strings\n",
    "\"Ram\" + \"shyam\""
   ]
  },
  {
   "cell_type": "code",
   "execution_count": 103,
   "id": "b0f55789",
   "metadata": {},
   "outputs": [
    {
     "data": {
      "text/plain": [
       "5.3"
      ]
     },
     "execution_count": 103,
     "metadata": {},
     "output_type": "execute_result"
    }
   ],
   "source": [
    "2+3.3 #python khud heen smjh gya ki ek integer hai ek float pr usne add kr diya kyunki usne khud se 2 ko float mai convert kr lya"
   ]
  },
  {
   "cell_type": "code",
   "execution_count": 104,
   "id": "c8ea4a13",
   "metadata": {},
   "outputs": [
    {
     "data": {
      "text/plain": [
       "'5Shyam'"
      ]
     },
     "execution_count": 104,
     "metadata": {},
     "output_type": "execute_result"
    }
   ],
   "source": [
    "A+\"Shyam\" #strings ka addition ho gya"
   ]
  },
  {
   "cell_type": "code",
   "execution_count": 105,
   "id": "1bcf676a",
   "metadata": {},
   "outputs": [],
   "source": [
    " #avi tk upr ke sare implicit conversion ke type the ab explicit type ke bare mai dekhenge\n",
    "    "
   ]
  },
  {
   "cell_type": "code",
   "execution_count": 106,
   "id": "d7a37c9c",
   "metadata": {},
   "outputs": [],
   "source": [
    "#explicit type mai computer nai convert krta hme heen conveert krna pdta hai type kisi ka using inbuilt function\n",
    "#float\n",
    "#int\n",
    "#string\n",
    "#bool"
   ]
  },
  {
   "cell_type": "code",
   "execution_count": 107,
   "id": "75dc47b1",
   "metadata": {},
   "outputs": [],
   "source": [
    "x=22.5\n",
    "y=int(x) #yha float ko hmne int mai convertkr diya"
   ]
  },
  {
   "cell_type": "code",
   "execution_count": 108,
   "id": "d17984c4",
   "metadata": {},
   "outputs": [
    {
     "data": {
      "text/plain": [
       "int"
      ]
     },
     "execution_count": 108,
     "metadata": {},
     "output_type": "execute_result"
    }
   ],
   "source": [
    "type(y)"
   ]
  },
  {
   "cell_type": "code",
   "execution_count": 109,
   "id": "5fa49143",
   "metadata": {},
   "outputs": [
    {
     "data": {
      "text/plain": [
       "22"
      ]
     },
     "execution_count": 109,
     "metadata": {},
     "output_type": "execute_result"
    }
   ],
   "source": [
    "y"
   ]
  },
  {
   "cell_type": "code",
   "execution_count": 110,
   "id": "de8fea7f",
   "metadata": {},
   "outputs": [],
   "source": [
    "s=\"35\"\n",
    "d=int(s)"
   ]
  },
  {
   "cell_type": "code",
   "execution_count": 111,
   "id": "89f996a1",
   "metadata": {},
   "outputs": [
    {
     "data": {
      "text/plain": [
       "35"
      ]
     },
     "execution_count": 111,
     "metadata": {},
     "output_type": "execute_result"
    }
   ],
   "source": [
    "d"
   ]
  },
  {
   "cell_type": "code",
   "execution_count": 112,
   "id": "5f6de03d",
   "metadata": {},
   "outputs": [
    {
     "data": {
      "text/plain": [
       "int"
      ]
     },
     "execution_count": 112,
     "metadata": {},
     "output_type": "execute_result"
    }
   ],
   "source": [
    "type(d)"
   ]
  },
  {
   "cell_type": "code",
   "execution_count": 113,
   "id": "cdbb3be4",
   "metadata": {},
   "outputs": [],
   "source": [
    "a=\"33.5\"\n",
    "c=float(a)"
   ]
  },
  {
   "cell_type": "code",
   "execution_count": 114,
   "id": "31b0fde9",
   "metadata": {},
   "outputs": [
    {
     "data": {
      "text/plain": [
       "33.5"
      ]
     },
     "execution_count": 114,
     "metadata": {},
     "output_type": "execute_result"
    }
   ],
   "source": [
    "c"
   ]
  },
  {
   "cell_type": "code",
   "execution_count": 115,
   "id": "5d683093",
   "metadata": {},
   "outputs": [
    {
     "data": {
      "text/plain": [
       "float"
      ]
     },
     "execution_count": 115,
     "metadata": {},
     "output_type": "execute_result"
    }
   ],
   "source": [
    "type(c)"
   ]
  },
  {
   "cell_type": "code",
   "execution_count": 116,
   "id": "49b20ece",
   "metadata": {},
   "outputs": [
    {
     "data": {
      "text/plain": [
       "False"
      ]
     },
     "execution_count": 116,
     "metadata": {},
     "output_type": "execute_result"
    }
   ],
   "source": [
    "bool(0)"
   ]
  },
  {
   "cell_type": "code",
   "execution_count": 117,
   "id": "d897e345",
   "metadata": {},
   "outputs": [
    {
     "data": {
      "text/plain": [
       "True"
      ]
     },
     "execution_count": 117,
     "metadata": {},
     "output_type": "execute_result"
    }
   ],
   "source": [
    "bool(1)"
   ]
  },
  {
   "cell_type": "code",
   "execution_count": 118,
   "id": "87ab3e3b",
   "metadata": {},
   "outputs": [
    {
     "data": {
      "text/plain": [
       "False"
      ]
     },
     "execution_count": 118,
     "metadata": {},
     "output_type": "execute_result"
    }
   ],
   "source": [
    "bool(False)"
   ]
  },
  {
   "cell_type": "code",
   "execution_count": 119,
   "id": "4d261857",
   "metadata": {},
   "outputs": [
    {
     "ename": "ValueError",
     "evalue": "could not convert string to float: 'Ram'",
     "output_type": "error",
     "traceback": [
      "\u001b[1;31m---------------------------------------------------------------------------\u001b[0m",
      "\u001b[1;31mValueError\u001b[0m                                Traceback (most recent call last)",
      "Cell \u001b[1;32mIn[119], line 2\u001b[0m\n\u001b[0;32m      1\u001b[0m g\u001b[38;5;241m=\u001b[39m\u001b[38;5;124m\"\u001b[39m\u001b[38;5;124mRam\u001b[39m\u001b[38;5;124m\"\u001b[39m\n\u001b[1;32m----> 2\u001b[0m d\u001b[38;5;241m=\u001b[39m\u001b[38;5;28mfloat\u001b[39m(g)\n",
      "\u001b[1;31mValueError\u001b[0m: could not convert string to float: 'Ram'"
     ]
    }
   ],
   "source": [
    "g=\"Ram\"\n",
    "d=float(g) #string ke andr ab words honge to we cant convert words to integer or float"
   ]
  },
  {
   "cell_type": "code",
   "execution_count": null,
   "id": "4bbe7d01",
   "metadata": {},
   "outputs": [],
   "source": []
  },
  {
   "cell_type": "markdown",
   "id": "6abf67e7",
   "metadata": {},
   "source": [
    "# Conditional"
   ]
  },
  {
   "cell_type": "code",
   "execution_count": 120,
   "id": "990dd377",
   "metadata": {},
   "outputs": [],
   "source": [
    "a=2\n",
    "if a>100:\n",
    "    print(\"hello ji\")"
   ]
  },
  {
   "cell_type": "code",
   "execution_count": 121,
   "id": "e8dc94dc",
   "metadata": {},
   "outputs": [
    {
     "name": "stdout",
     "output_type": "stream",
     "text": [
      "i will not play cricket\n"
     ]
    }
   ],
   "source": [
    "weather=\"rainy\"\n",
    "if weather==\"rainy\":\n",
    "    print(\"i will not play cricket\")"
   ]
  },
  {
   "cell_type": "code",
   "execution_count": 122,
   "id": "4b464da1",
   "metadata": {},
   "outputs": [
    {
     "name": "stdout",
     "output_type": "stream",
     "text": [
      "room temp\n"
     ]
    }
   ],
   "source": [
    "temp=30\n",
    "if temp>25:\n",
    "    print(\"room temp\")"
   ]
  },
  {
   "cell_type": "code",
   "execution_count": 123,
   "id": "fbdd43c0",
   "metadata": {},
   "outputs": [
    {
     "name": "stdout",
     "output_type": "stream",
     "text": [
      "i am studying this course\n"
     ]
    }
   ],
   "source": [
    "is_data_science =True\n",
    "if is_data_science:\n",
    "    print(\"i am studying this course\")"
   ]
  },
  {
   "cell_type": "code",
   "execution_count": 124,
   "id": "0cc94524",
   "metadata": {},
   "outputs": [
    {
     "name": "stdout",
     "output_type": "stream",
     "text": [
      "i am data scientist\n"
     ]
    }
   ],
   "source": [
    "is_data_science =False\n",
    "if is_data_science:\n",
    "    print(\"i am not scientist\")\n",
    "else:\n",
    "    print(\"i am data scientist\")"
   ]
  },
  {
   "cell_type": "code",
   "execution_count": 125,
   "id": "51b6abb4",
   "metadata": {},
   "outputs": [
    {
     "name": "stdout",
     "output_type": "stream",
     "text": [
      "x is less than 5\n"
     ]
    }
   ],
   "source": [
    "x=1\n",
    "if x>5:\n",
    "    print(\"x is greater than 5\")\n",
    "else:\n",
    "    print(\"x is less than 5\")"
   ]
  },
  {
   "cell_type": "code",
   "execution_count": 126,
   "id": "98e00db2",
   "metadata": {},
   "outputs": [
    {
     "name": "stdout",
     "output_type": "stream",
     "text": [
      "not allowed\n"
     ]
    }
   ],
   "source": [
    "age=20\n",
    "if age>=21:\n",
    "    print(\"allowed\")\n",
    "else:\n",
    "    print(\"not allowed\")"
   ]
  },
  {
   "cell_type": "code",
   "execution_count": 127,
   "id": "e3306e09",
   "metadata": {},
   "outputs": [
    {
     "name": "stdout",
     "output_type": "stream",
     "text": [
      "odd\n"
     ]
    }
   ],
   "source": [
    "#to check if number is even or odd\n",
    "x=5\n",
    "if x%2==0:\n",
    "    print(\"even\")\n",
    "else:\n",
    "    print(\"odd\")"
   ]
  },
  {
   "cell_type": "code",
   "execution_count": 128,
   "id": "b6b4abee",
   "metadata": {},
   "outputs": [
    {
     "name": "stdout",
     "output_type": "stream",
     "text": [
      "will execute if a <100\n"
     ]
    }
   ],
   "source": [
    "#if-elif-else\n",
    "a=10\n",
    "if a>100:\n",
    "    print(\"will execute if a > 100\")\n",
    "elif a<100:\n",
    "    print(\"will execute if a <100\")\n",
    "else:\n",
    "    print(\"if the number is equals to 100\") #if a=100 tb hoga ye"
   ]
  },
  {
   "cell_type": "code",
   "execution_count": 129,
   "id": "12a2ab30",
   "metadata": {},
   "outputs": [
    {
     "name": "stdout",
     "output_type": "stream",
     "text": [
      "if the number is equals to 100\n"
     ]
    }
   ],
   "source": [
    "#if-elif-else\n",
    "a=100\n",
    "if a>100:\n",
    "    print(\"will execute if a > 100\")\n",
    "elif a<100:\n",
    "    print(\"will execute if a <100\")\n",
    "else:\n",
    "    print(\"if the number is equals to 100\") #if a=100 tb hoga ye"
   ]
  },
  {
   "cell_type": "code",
   "execution_count": 130,
   "id": "4d128c5c",
   "metadata": {},
   "outputs": [
    {
     "name": "stdout",
     "output_type": "stream",
     "text": [
      "Poor\n"
     ]
    }
   ],
   "source": [
    "score=75\n",
    "if score>=90:\n",
    "    print(\"A+\")\n",
    "elif (80<=score<=90):\n",
    "    print(\"B+\")\n",
    "else:\n",
    "    print(\"Poor\")"
   ]
  },
  {
   "cell_type": "code",
   "execution_count": 131,
   "id": "03f80df7",
   "metadata": {},
   "outputs": [
    {
     "name": "stdout",
     "output_type": "stream",
     "text": [
      "x is greater than 5 bt y is not\n"
     ]
    }
   ],
   "source": [
    "#nested if else\n",
    "x=10\n",
    "y=5\n",
    "if x>5:\n",
    "    if y>5:\n",
    "        print(\"both x and y greater than 5\")\n",
    "    else:\n",
    "        print(\"x is greater than 5 bt y is not\")\n",
    "else:\n",
    "    print(\"x is not greater than 5\")"
   ]
  },
  {
   "cell_type": "code",
   "execution_count": 132,
   "id": "f50f6a50",
   "metadata": {},
   "outputs": [
    {
     "name": "stdout",
     "output_type": "stream",
     "text": [
      "x is not greater than 5\n"
     ]
    }
   ],
   "source": [
    "#nested if else\n",
    "x=1\n",
    "y=5\n",
    "if x>5:\n",
    "    if y>5:\n",
    "        print(\"both x and y greater than 5\")\n",
    "    else:\n",
    "        print(\"x is greater than 5 bt y is not\")\n",
    "else:\n",
    "    print(\"x is not greater than 5\")"
   ]
  },
  {
   "cell_type": "code",
   "execution_count": 133,
   "id": "ec5e4f8e",
   "metadata": {},
   "outputs": [
    {
     "name": "stdout",
     "output_type": "stream",
     "text": [
      "enter a number\n"
     ]
    },
    {
     "ename": "ValueError",
     "evalue": "invalid literal for int() with base 10: ''",
     "output_type": "error",
     "traceback": [
      "\u001b[1;31m---------------------------------------------------------------------------\u001b[0m",
      "\u001b[1;31mValueError\u001b[0m                                Traceback (most recent call last)",
      "Cell \u001b[1;32mIn[133], line 1\u001b[0m\n\u001b[1;32m----> 1\u001b[0m a\u001b[38;5;241m=\u001b[39m\u001b[38;5;28mint\u001b[39m(\u001b[38;5;28minput\u001b[39m(\u001b[38;5;124m\"\u001b[39m\u001b[38;5;124menter a number\u001b[39m\u001b[38;5;124m\"\u001b[39m))\n\u001b[0;32m      2\u001b[0m \u001b[38;5;28mtype\u001b[39m(a)\n",
      "\u001b[1;31mValueError\u001b[0m: invalid literal for int() with base 10: ''"
     ]
    }
   ],
   "source": [
    "a=int(input(\"enter a number\"))\n",
    "type(a)"
   ]
  },
  {
   "cell_type": "code",
   "execution_count": 134,
   "id": "dd15f3a5",
   "metadata": {},
   "outputs": [
    {
     "name": "stdout",
     "output_type": "stream",
     "text": [
      "jai hind\n"
     ]
    }
   ],
   "source": [
    "\n",
    "if a>100:\n",
    "    print(\"wande matram\")\n",
    "else:\n",
    "    print(\"jai hind\")"
   ]
  },
  {
   "cell_type": "code",
   "execution_count": 135,
   "id": "bac69480",
   "metadata": {},
   "outputs": [
    {
     "name": "stdout",
     "output_type": "stream",
     "text": [
      "hello ji vip ji\n"
     ]
    }
   ],
   "source": [
    "is_vip=True\n",
    "if is_vip:\n",
    "    print(\"hello ji vip ji\")\n",
    "else:\n",
    "    print(\"us line mai lago\")"
   ]
  },
  {
   "cell_type": "code",
   "execution_count": 136,
   "id": "ba84a525",
   "metadata": {},
   "outputs": [
    {
     "name": "stdout",
     "output_type": "stream",
     "text": [
      "hello bhaiya vip bhaiya\n"
     ]
    }
   ],
   "source": [
    "is_vip=True\n",
    "age=30\n",
    "if is_vip:\n",
    "    if age>30:\n",
    "        print(\"hello ji vip ji\")\n",
    "    else:\n",
    "        print(\"hello bhaiya vip bhaiya\")\n",
    "else:\n",
    "    print(\"us line mai lago\")"
   ]
  },
  {
   "cell_type": "code",
   "execution_count": 137,
   "id": "d0ef26fa",
   "metadata": {},
   "outputs": [
    {
     "name": "stdout",
     "output_type": "stream",
     "text": [
      "enter the name\n",
      "enter the email\n",
      "enter the password\n",
      "name cannot be empty\n"
     ]
    }
   ],
   "source": [
    "name=input(\"enter the name\")\n",
    "email=input(\"enter the email\")\n",
    "password=input(\"enter the password\")\n",
    "\n",
    "if name ==\"\": #agr naam blank ho to\n",
    "    print(\"name cannot be empty\")\n",
    "else:\n",
    "    if \"@\" not in email:\n",
    "        print(\"invalid email adress\")\n",
    "    else:\n",
    "        if len(password)<0:\n",
    "            print(\"invalid password\")\n",
    "        else:\n",
    "            print(\"registratrion succesfull\")"
   ]
  },
  {
   "cell_type": "markdown",
   "id": "92d401c2",
   "metadata": {},
   "source": [
    "# LOOP (LECTURE6) "
   ]
  },
  {
   "cell_type": "code",
   "execution_count": 138,
   "id": "0188db37",
   "metadata": {},
   "outputs": [
    {
     "name": "stdout",
     "output_type": "stream",
     "text": [
      "0\n",
      "1\n",
      "2\n",
      "3\n",
      "4\n"
     ]
    }
   ],
   "source": [
    "a=5\n",
    "i=0\n",
    "while i<a:\n",
    "    print(i)\n",
    "    i+=1"
   ]
  },
  {
   "cell_type": "code",
   "execution_count": 139,
   "id": "d588abb3",
   "metadata": {},
   "outputs": [
    {
     "name": "stdout",
     "output_type": "stream",
     "text": [
      "0\n",
      "1\n",
      "2\n",
      "3\n",
      "4\n",
      "this will be executed when the while loop run is completed\n"
     ]
    }
   ],
   "source": [
    "a=5\n",
    "i=0\n",
    "while i<a:\n",
    "    print(i)\n",
    "    i+=1\n",
    "else:\n",
    "    print(\"this will be executed when the while loop run is completed\")"
   ]
  },
  {
   "cell_type": "code",
   "execution_count": 140,
   "id": "dfd3e5d3",
   "metadata": {},
   "outputs": [
    {
     "name": "stdout",
     "output_type": "stream",
     "text": [
      "0\n",
      "1\n",
      "2\n",
      "3\n",
      "4\n",
      "5\n",
      "6\n",
      "7\n",
      "8\n",
      "9\n",
      "10\n",
      "11\n",
      "12\n",
      "13\n",
      "14\n"
     ]
    }
   ],
   "source": [
    "a=33\n",
    "i=0\n",
    "while i<a:\n",
    "    print(i)\n",
    "    i+=1\n",
    "    if i==15:\n",
    "        break\n",
    "else:\n",
    "    print(\"this will be executed when the while loop run is completed\") #ye execute nai hoga kyunki while loop pura nai cghal rha hmne break laga diya hai"
   ]
  },
  {
   "cell_type": "code",
   "execution_count": 141,
   "id": "2a7ba7a1",
   "metadata": {},
   "outputs": [
    {
     "name": "stdout",
     "output_type": "stream",
     "text": [
      "1\n",
      "2\n",
      "3\n",
      "5\n",
      "6\n",
      "7\n",
      "this ill be run when while loop is run sucessfully\n"
     ]
    }
   ],
   "source": [
    "#continue is used to skip a particular iteration\n",
    "n=7\n",
    "i=0\n",
    "while i<n:\n",
    "    i+=1\n",
    "    if i==4:\n",
    "        continue #yha pr sirf jb i 4 ke brabr hoga tb print nai hoga wo continue mtlb while mai firse upr se shuru hoga or ab +1 ke baad i=5 ho jayga and ab number print hoga\n",
    "    print(i)\n",
    "else:\n",
    "    print(\"this ill be run when while loop is run sucessfully\") # esbar ye else vi chalega kyunki break nai ho rh code"
   ]
  },
  {
   "cell_type": "code",
   "execution_count": 142,
   "id": "fe8bf607",
   "metadata": {},
   "outputs": [
    {
     "name": "stdout",
     "output_type": "stream",
     "text": [
      "P\n",
      "w\n",
      "s\n",
      "k\n",
      "i\n",
      "l\n",
      "l\n",
      "s\n"
     ]
    }
   ],
   "source": [
    "a=\"Pwskills\"\n",
    "for char in a:\n",
    "    print(char)"
   ]
  },
  {
   "cell_type": "code",
   "execution_count": 143,
   "id": "87ff224f",
   "metadata": {},
   "outputs": [
    {
     "name": "stdout",
     "output_type": "stream",
     "text": [
      "1\n",
      "2\n",
      "5\n",
      "3\n",
      "35\n",
      "53\n",
      "55\n",
      "33\n",
      "Harshit\n"
     ]
    }
   ],
   "source": [
    "l=[1,2,5,3,35,53,55,33,\"Harshit\"]\n",
    "for i in l:   # yha pr for char in l ya /for y,char ke jgh pr kuch vi likh do fin in l likhne pr same kaam krta hai jo for i ya for char in l kr rhe hain \n",
    "    print(i)"
   ]
  },
  {
   "cell_type": "code",
   "execution_count": 145,
   "id": "a15fdc98",
   "metadata": {},
   "outputs": [
    {
     "name": "stdout",
     "output_type": "stream",
     "text": [
      "1\n",
      "2\n",
      "5\n",
      "3\n"
     ]
    }
   ],
   "source": [
    "g=[1,2,5,3,35,53,55,33,\"Harshit\"]\n",
    "for char in g:\n",
    "    if char==35:\n",
    "        break\n",
    "    print(char)\n",
    "else:\n",
    "    print(\"this will execute when for loop ends\")"
   ]
  },
  {
   "cell_type": "code",
   "execution_count": 4,
   "id": "09118f8a",
   "metadata": {},
   "outputs": [
    {
     "data": {
      "text/plain": [
       "range(0, 10)"
      ]
     },
     "execution_count": 4,
     "metadata": {},
     "output_type": "execute_result"
    }
   ],
   "source": [
    "range(0,10)\n",
    "#range(start,end jo likha hai usse ek kam tk jayga,steps kitna lena hai)"
   ]
  },
  {
   "cell_type": "code",
   "execution_count": 7,
   "id": "cf06add9",
   "metadata": {},
   "outputs": [
    {
     "data": {
      "text/plain": [
       "[0, 1, 2, 3, 4, 5, 6, 7, 8, 9]"
      ]
     },
     "execution_count": 7,
     "metadata": {},
     "output_type": "execute_result"
    }
   ],
   "source": [
    "list(range(0,10))"
   ]
  },
  {
   "cell_type": "code",
   "execution_count": 9,
   "id": "bf88ef43",
   "metadata": {},
   "outputs": [
    {
     "data": {
      "text/plain": [
       "[0, 2, 4, 6, 8]"
      ]
     },
     "execution_count": 9,
     "metadata": {},
     "output_type": "execute_result"
    }
   ],
   "source": [
    "list(range(0,10,2))"
   ]
  },
  {
   "cell_type": "code",
   "execution_count": 10,
   "id": "c24ee1da",
   "metadata": {},
   "outputs": [],
   "source": [
    "#print a right triangle using while loop"
   ]
  },
  {
   "cell_type": "code",
   "execution_count": 12,
   "id": "47decce3",
   "metadata": {},
   "outputs": [
    {
     "name": "stdout",
     "output_type": "stream",
     "text": [
      "*\n",
      "**\n",
      "***\n",
      "****\n"
     ]
    }
   ],
   "source": [
    "row=1\n",
    "while row<=4:\n",
    "    col=1\n",
    "    while col<=row:\n",
    "        print(\"*\",end=\"\")\n",
    "        col+=1\n",
    "    print()\n",
    "    row+=1"
   ]
  },
  {
   "cell_type": "code",
   "execution_count": 15,
   "id": "ef4f51aa",
   "metadata": {},
   "outputs": [
    {
     "name": "stdout",
     "output_type": "stream",
     "text": [
      "0\n",
      "1\n",
      "2\n",
      "3\n",
      "4\n"
     ]
    }
   ],
   "source": [
    "for i in range(5):\n",
    "    print(i)"
   ]
  },
  {
   "cell_type": "code",
   "execution_count": 16,
   "id": "8f33deda",
   "metadata": {},
   "outputs": [
    {
     "name": "stdout",
     "output_type": "stream",
     "text": [
      "0 1 2 3 4 "
     ]
    }
   ],
   "source": [
    "for i in range(5):\n",
    "    print(i,end=\" \")"
   ]
  },
  {
   "cell_type": "code",
   "execution_count": 17,
   "id": "34c3dacc",
   "metadata": {},
   "outputs": [
    {
     "name": "stdout",
     "output_type": "stream",
     "text": [
      "data sc\n",
      "ml\n",
      "stats\n"
     ]
    }
   ],
   "source": [
    "course=[\"data sc\",\"ml\",\"stats\"]\n",
    "index=0\n",
    "while index<len(course):\n",
    "    print(course[index])\n",
    "    index+=1"
   ]
  },
  {
   "cell_type": "code",
   "execution_count": 23,
   "id": "e130ea97",
   "metadata": {},
   "outputs": [
    {
     "name": "stdout",
     "output_type": "stream",
     "text": [
      "* \n",
      "* * \n",
      "* * * \n",
      "* * * * \n",
      "* * * * * \n"
     ]
    }
   ],
   "source": [
    "for i in range(5):\n",
    "    for j in range(i+1):\n",
    "        print(\"*\",end=\" \")\n",
    "    print()"
   ]
  },
  {
   "cell_type": "code",
   "execution_count": null,
   "id": "501463dc",
   "metadata": {},
   "outputs": [],
   "source": []
  }
 ],
 "metadata": {
  "kernelspec": {
   "display_name": "Python 3 (ipykernel)",
   "language": "python",
   "name": "python3"
  },
  "language_info": {
   "codemirror_mode": {
    "name": "ipython",
    "version": 3
   },
   "file_extension": ".py",
   "mimetype": "text/x-python",
   "name": "python",
   "nbconvert_exporter": "python",
   "pygments_lexer": "ipython3",
   "version": "3.11.5"
  }
 },
 "nbformat": 4,
 "nbformat_minor": 5
}
